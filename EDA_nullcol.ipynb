{
 "cells": [
  {
   "cell_type": "code",
   "execution_count": 15,
   "metadata": {},
   "outputs": [],
   "source": [
    "import pandas as pd\n",
    "import random\n",
    "import os\n",
    "import numpy as np\n",
    "import warnings\n",
    "warnings.filterwarnings('ignore')\n",
    "\n",
    "def seed_everything(seed):\n",
    "    random.seed(seed)\n",
    "    os.environ['PYTHONHASHSEED'] = str(seed)\n",
    "    np.random.seed(seed)\n",
    "seed_everything(37) # Seed 고정\n",
    "\n",
    "train_df = pd.read_csv('./train.csv')\n",
    "test_df = pd.read_csv('./test.csv')\n",
    "\n",
    "#train_x = train_df.drop(columns=['PRODUCT_ID', 'Y_Class', 'TIMESTAMP'])\n",
    "train_x = train_df.drop(columns=['PRODUCT_ID', 'Y_Quality', 'TIMESTAMP'])\n",
    "train_y = train_df['Y_Class']\n",
    "\n",
    "test_x = test_df.drop(columns=['PRODUCT_ID', 'TIMESTAMP'])"
   ]
  },
  {
   "cell_type": "code",
   "execution_count": 16,
   "metadata": {},
   "outputs": [
    {
     "data": {
      "text/plain": [
       "\"from sklearn.preprocessing import LabelEncoder\\n\\nqual_col = ['LINE','PRODUCT_CODE']\\n\\nfor i in qual_col:\\n    le = LabelEncoder()\\n    le.fit(train_x[i])\\n    train_x[i] = le.transform(train_x[i])\\n\\n    for label in np.unique(test_x[i]):\\n        if label not in le.classes_:\\n            le.classes_ = np.append(le.classes_, label)\\n    \\n    test_x[i] = le.transform(test_x[i])\\n\\nprint('done')\""
      ]
     },
     "execution_count": 16,
     "metadata": {},
     "output_type": "execute_result"
    }
   ],
   "source": [
    "'''from sklearn.preprocessing import LabelEncoder\n",
    "\n",
    "qual_col = ['LINE','PRODUCT_CODE']\n",
    "\n",
    "for i in qual_col:\n",
    "    le = LabelEncoder()\n",
    "    le.fit(train_x[i])\n",
    "    train_x[i] = le.transform(train_x[i])\n",
    "\n",
    "    for label in np.unique(test_x[i]):\n",
    "        if label not in le.classes_:\n",
    "            le.classes_ = np.append(le.classes_, label)\n",
    "    \n",
    "    test_x[i] = le.transform(test_x[i])\n",
    "\n",
    "print('done')'''"
   ]
  },
  {
   "cell_type": "code",
   "execution_count": 17,
   "metadata": {},
   "outputs": [
    {
     "name": "stdout",
     "output_type": "stream",
     "text": [
      "done\n",
      "done\n"
     ]
    }
   ],
   "source": [
    "def split_line(train_df, test_df, train_x, test_x):\n",
    "\n",
    "    line_v = sorted(train_df['LINE'].value_counts().index)\n",
    "\n",
    "    # train\n",
    "    for idx, i in enumerate(line_v):\n",
    "        globals()['l{}'.format(idx+1)]=train_x[train_x['LINE']==i]\n",
    "\n",
    "    # train y\n",
    "    for idx, i in enumerate(line_v):\n",
    "        globals()['l{}_y'.format(idx+1)]=train_x['Y_Class'][train_x['LINE']==i]\n",
    "\n",
    "    # test\n",
    "    for idx, i in enumerate(line_v):\n",
    "        globals()['l{}_test'.format(idx+1)]=test_x[test_x['LINE']==i]\n",
    "\n",
    "    print('done')\n",
    "\n",
    "split_line(train_df, test_df, train_x, test_x)\n",
    "\n",
    "\n",
    "def split_PC(traindf, test_df):\n",
    "\n",
    "    pc_v = sorted(train_df['PRODUCT_CODE'].value_counts().index)\n",
    "\n",
    "    # train\n",
    "    for idx, i in enumerate(pc_v):\n",
    "        globals()['pc{}'.format(idx+1)]=train_x[train_x['PRODUCT_CODE']==i]\n",
    "\n",
    "    # train y\n",
    "    for idx, i in enumerate(pc_v):\n",
    "        globals()['pc{}_y'.format(idx+1)]=train_x['Y_Class'][train_x['PRODUCT_CODE']==i]\n",
    "\n",
    "    # test\n",
    "    for idx, i in enumerate(pc_v):\n",
    "        globals()['pc{}_test'.format(idx+1)]=test_x[test_x['PRODUCT_CODE']==i]\n",
    "\n",
    "    print('done')\n",
    "\n",
    "split_PC(train_df, test_df)"
   ]
  },
  {
   "cell_type": "code",
   "execution_count": 18,
   "metadata": {},
   "outputs": [],
   "source": [
    "col = l1.columns\n",
    "col\n",
    "l1 = l1.drop(['Y_Class', 'LINE', 'PRODUCT_CODE'],axis=1)"
   ]
  },
  {
   "cell_type": "code",
   "execution_count": 30,
   "metadata": {},
   "outputs": [
    {
     "data": {
      "text/plain": [
       "X_1       False\n",
       "X_2       False\n",
       "X_3       False\n",
       "X_4       False\n",
       "X_5       False\n",
       "          ...  \n",
       "X_2871    False\n",
       "X_2872    False\n",
       "X_2873    False\n",
       "X_2874    False\n",
       "X_2875    False\n",
       "Length: 2875, dtype: bool"
      ]
     },
     "execution_count": 30,
     "metadata": {},
     "output_type": "execute_result"
    }
   ],
   "source": [
    "l1.fillna(l1.mean()).isnull().sum()"
   ]
  }
 ],
 "metadata": {
  "kernelspec": {
   "display_name": "base",
   "language": "python",
   "name": "python3"
  },
  "language_info": {
   "codemirror_mode": {
    "name": "ipython",
    "version": 3
   },
   "file_extension": ".py",
   "mimetype": "text/x-python",
   "name": "python",
   "nbconvert_exporter": "python",
   "pygments_lexer": "ipython3",
   "version": "3.10.9"
  },
  "orig_nbformat": 4,
  "vscode": {
   "interpreter": {
    "hash": "9acc76a459d7db86261bc3c0fc1f5dcdadf57ce90dda3656ef3156477f1c2288"
   }
  }
 },
 "nbformat": 4,
 "nbformat_minor": 2
}
