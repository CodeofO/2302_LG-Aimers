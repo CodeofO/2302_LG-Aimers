{
 "cells": [
  {
   "cell_type": "markdown",
   "id": "273b75f6-25fa-4f9c-8c9d-fa33a985f2dd",
   "metadata": {},
   "source": [
    "## Import"
   ]
  },
  {
   "cell_type": "code",
   "execution_count": 1,
   "id": "5c415d9d-1111-46ed-bc2d-849c75ab962a",
   "metadata": {},
   "outputs": [],
   "source": [
    "import pandas as pd\n",
    "import random\n",
    "import os\n",
    "import numpy as np\n",
    "\n",
    "from sklearn.preprocessing import LabelEncoder\n",
    "from sklearn.ensemble import RandomForestClassifier"
   ]
  },
  {
   "cell_type": "code",
   "execution_count": 2,
   "id": "edae871a-b31b-4f06-bb88-0fd1f6660b13",
   "metadata": {},
   "outputs": [],
   "source": [
    "def seed_everything(seed):\n",
    "    random.seed(seed)\n",
    "    os.environ['PYTHONHASHSEED'] = str(seed)\n",
    "    np.random.seed(seed)\n",
    "seed_everything(37) # Seed 고정"
   ]
  },
  {
   "cell_type": "markdown",
   "id": "119f9c1c-39bc-42e7-a00d-3062d11b4f1e",
   "metadata": {},
   "source": [
    "## Data Load"
   ]
  },
  {
   "cell_type": "code",
   "execution_count": 3,
   "id": "ee76c413-001b-475e-9d1c-6662d25d2db2",
   "metadata": {},
   "outputs": [],
   "source": [
    "train_df = pd.read_csv('./train.csv')\n",
    "test_df = pd.read_csv('./test.csv')"
   ]
  },
  {
   "attachments": {},
   "cell_type": "markdown",
   "id": "c7bbf8ea",
   "metadata": {},
   "source": [
    "Dataset Info.\n",
    "\n",
    "##### train.csv [파일]  \n",
    "PRODUCT_ID : 제품의 고유 ID  \n",
    "Y_Class : 제품 품질 상태(Target)   \n",
    "0 : 적정 기준 미달 (부적합)  \n",
    "1 : 적합  \n",
    "2 : 적정 기준 초과 (부적합)  \n",
    "Y_Quality : 제품 품질 관련 정량적 수치  \n",
    "TIMESTAMP : 제품이 공정에 들어간 시각  \n",
    "LINE : 제품이 들어간 공정 LINE 종류 ('T050304', 'T050307', 'T100304', 'T100306', 'T010306', 'T010305' 존재)  \n",
    "PRODUCT_CODE : 제품의 CODE 번호 ('A_31', 'T_31', 'O_31' 존재)  \n",
    "X_1 ~ X_2875 : 공정 과정에서 추출되어 비식별화된 변수  \n",
    "  \n",
    "  \n",
    "##### test.csv [파일]  \n",
    "PRODUCT_ID : 제품의 고유 ID  \n",
    "TIMESTAMP : 제품이 공정에 들어간 시각  \n",
    "LINE : 제품이 들어간 공정 LINE 종류 ('T050304', 'T050307', 'T100304', 'T100306', 'T010306', 'T010305' 존재)  \n",
    "PRODUCT_CODE : 제품의 CODE 번호 ('A_31', 'T_31', 'O_31' 존재)  \n",
    "X_1 ~ X_2875 : 공정 과정에서 추출되어 비식별화된 변수  \n",
    "  \n",
    "  \n",
    "sample_submission.csv [파일] - 제출 양식  \n",
    "PRODUCT_ID : 제품의 고유 ID  \n",
    "Y_Class : 예측한 제품 품질 상태  \n",
    "0 : 적정 기준 미달 (부적합)  \n",
    "1 : 적합  \n",
    "2 : 적정 기준 초과 (부적합)  \n",
    "  \n",
    "실제 공정 과정에서의 데이터로, 보안상의 이유로 일부 변수가 비식별화 처리 되었습니다. (X변수)  \n",
    "'LINE', 'PRODUCT_CODE'는 Train / Test 모두 동일한 종류가 존재합니다.  "
   ]
  },
  {
   "cell_type": "code",
   "execution_count": 4,
   "id": "a2e05115",
   "metadata": {},
   "outputs": [
    {
     "data": {
      "text/plain": [
       "(598, 2881)"
      ]
     },
     "execution_count": 4,
     "metadata": {},
     "output_type": "execute_result"
    }
   ],
   "source": [
    "train_df.shape"
   ]
  },
  {
   "cell_type": "code",
   "execution_count": 5,
   "id": "51bbdb43",
   "metadata": {},
   "outputs": [
    {
     "data": {
      "text/html": [
       "<div>\n",
       "<style scoped>\n",
       "    .dataframe tbody tr th:only-of-type {\n",
       "        vertical-align: middle;\n",
       "    }\n",
       "\n",
       "    .dataframe tbody tr th {\n",
       "        vertical-align: top;\n",
       "    }\n",
       "\n",
       "    .dataframe thead th {\n",
       "        text-align: right;\n",
       "    }\n",
       "</style>\n",
       "<table border=\"1\" class=\"dataframe\">\n",
       "  <thead>\n",
       "    <tr style=\"text-align: right;\">\n",
       "      <th></th>\n",
       "      <th>Y_Class</th>\n",
       "      <th>Y_Quality</th>\n",
       "      <th>X_1</th>\n",
       "      <th>X_2</th>\n",
       "      <th>X_3</th>\n",
       "      <th>X_4</th>\n",
       "      <th>X_5</th>\n",
       "      <th>X_6</th>\n",
       "      <th>X_7</th>\n",
       "      <th>X_8</th>\n",
       "      <th>...</th>\n",
       "      <th>X_2866</th>\n",
       "      <th>X_2867</th>\n",
       "      <th>X_2868</th>\n",
       "      <th>X_2869</th>\n",
       "      <th>X_2870</th>\n",
       "      <th>X_2871</th>\n",
       "      <th>X_2872</th>\n",
       "      <th>X_2873</th>\n",
       "      <th>X_2874</th>\n",
       "      <th>X_2875</th>\n",
       "    </tr>\n",
       "  </thead>\n",
       "  <tbody>\n",
       "    <tr>\n",
       "      <th>count</th>\n",
       "      <td>598.000000</td>\n",
       "      <td>598.000000</td>\n",
       "      <td>349.000000</td>\n",
       "      <td>349.000000</td>\n",
       "      <td>349.0</td>\n",
       "      <td>349.0</td>\n",
       "      <td>349.000000</td>\n",
       "      <td>349.0</td>\n",
       "      <td>349.000000</td>\n",
       "      <td>349.000000</td>\n",
       "      <td>...</td>\n",
       "      <td>100.000000</td>\n",
       "      <td>100.00000</td>\n",
       "      <td>100.000000</td>\n",
       "      <td>100.000000</td>\n",
       "      <td>100.00000</td>\n",
       "      <td>99.0</td>\n",
       "      <td>0.0</td>\n",
       "      <td>0.0</td>\n",
       "      <td>0.0</td>\n",
       "      <td>0.0</td>\n",
       "    </tr>\n",
       "    <tr>\n",
       "      <th>mean</th>\n",
       "      <td>1.025084</td>\n",
       "      <td>0.530896</td>\n",
       "      <td>2.409742</td>\n",
       "      <td>95.123209</td>\n",
       "      <td>0.0</td>\n",
       "      <td>45.0</td>\n",
       "      <td>10.392550</td>\n",
       "      <td>0.0</td>\n",
       "      <td>48.802292</td>\n",
       "      <td>10.048711</td>\n",
       "      <td>...</td>\n",
       "      <td>50.807300</td>\n",
       "      <td>53.60770</td>\n",
       "      <td>49.606200</td>\n",
       "      <td>51.659800</td>\n",
       "      <td>66.64970</td>\n",
       "      <td>1.0</td>\n",
       "      <td>NaN</td>\n",
       "      <td>NaN</td>\n",
       "      <td>NaN</td>\n",
       "      <td>NaN</td>\n",
       "    </tr>\n",
       "    <tr>\n",
       "      <th>std</th>\n",
       "      <td>0.565069</td>\n",
       "      <td>0.007401</td>\n",
       "      <td>5.895256</td>\n",
       "      <td>4.107640</td>\n",
       "      <td>0.0</td>\n",
       "      <td>0.0</td>\n",
       "      <td>0.489019</td>\n",
       "      <td>0.0</td>\n",
       "      <td>4.373824</td>\n",
       "      <td>0.215571</td>\n",
       "      <td>...</td>\n",
       "      <td>7.011828</td>\n",
       "      <td>8.13899</td>\n",
       "      <td>7.158917</td>\n",
       "      <td>8.913065</td>\n",
       "      <td>4.52781</td>\n",
       "      <td>0.0</td>\n",
       "      <td>NaN</td>\n",
       "      <td>NaN</td>\n",
       "      <td>NaN</td>\n",
       "      <td>NaN</td>\n",
       "    </tr>\n",
       "    <tr>\n",
       "      <th>min</th>\n",
       "      <td>0.000000</td>\n",
       "      <td>0.500856</td>\n",
       "      <td>1.000000</td>\n",
       "      <td>87.000000</td>\n",
       "      <td>0.0</td>\n",
       "      <td>45.0</td>\n",
       "      <td>10.000000</td>\n",
       "      <td>0.0</td>\n",
       "      <td>45.000000</td>\n",
       "      <td>10.000000</td>\n",
       "      <td>...</td>\n",
       "      <td>32.120000</td>\n",
       "      <td>31.70000</td>\n",
       "      <td>32.560000</td>\n",
       "      <td>30.490000</td>\n",
       "      <td>61.67000</td>\n",
       "      <td>1.0</td>\n",
       "      <td>NaN</td>\n",
       "      <td>NaN</td>\n",
       "      <td>NaN</td>\n",
       "      <td>NaN</td>\n",
       "    </tr>\n",
       "    <tr>\n",
       "      <th>25%</th>\n",
       "      <td>1.000000</td>\n",
       "      <td>0.527535</td>\n",
       "      <td>2.000000</td>\n",
       "      <td>93.000000</td>\n",
       "      <td>0.0</td>\n",
       "      <td>45.0</td>\n",
       "      <td>10.000000</td>\n",
       "      <td>0.0</td>\n",
       "      <td>45.000000</td>\n",
       "      <td>10.000000</td>\n",
       "      <td>...</td>\n",
       "      <td>49.485000</td>\n",
       "      <td>52.20000</td>\n",
       "      <td>42.160000</td>\n",
       "      <td>49.915000</td>\n",
       "      <td>63.64500</td>\n",
       "      <td>1.0</td>\n",
       "      <td>NaN</td>\n",
       "      <td>NaN</td>\n",
       "      <td>NaN</td>\n",
       "      <td>NaN</td>\n",
       "    </tr>\n",
       "    <tr>\n",
       "      <th>50%</th>\n",
       "      <td>1.000000</td>\n",
       "      <td>0.530436</td>\n",
       "      <td>2.000000</td>\n",
       "      <td>95.000000</td>\n",
       "      <td>0.0</td>\n",
       "      <td>45.0</td>\n",
       "      <td>10.000000</td>\n",
       "      <td>0.0</td>\n",
       "      <td>45.000000</td>\n",
       "      <td>10.000000</td>\n",
       "      <td>...</td>\n",
       "      <td>53.425000</td>\n",
       "      <td>55.92500</td>\n",
       "      <td>51.460000</td>\n",
       "      <td>56.175000</td>\n",
       "      <td>65.14000</td>\n",
       "      <td>1.0</td>\n",
       "      <td>NaN</td>\n",
       "      <td>NaN</td>\n",
       "      <td>NaN</td>\n",
       "      <td>NaN</td>\n",
       "    </tr>\n",
       "    <tr>\n",
       "      <th>75%</th>\n",
       "      <td>1.000000</td>\n",
       "      <td>0.533433</td>\n",
       "      <td>2.000000</td>\n",
       "      <td>98.000000</td>\n",
       "      <td>0.0</td>\n",
       "      <td>45.0</td>\n",
       "      <td>11.000000</td>\n",
       "      <td>0.0</td>\n",
       "      <td>51.000000</td>\n",
       "      <td>10.000000</td>\n",
       "      <td>...</td>\n",
       "      <td>55.287500</td>\n",
       "      <td>58.97500</td>\n",
       "      <td>55.030000</td>\n",
       "      <td>57.175000</td>\n",
       "      <td>67.11500</td>\n",
       "      <td>1.0</td>\n",
       "      <td>NaN</td>\n",
       "      <td>NaN</td>\n",
       "      <td>NaN</td>\n",
       "      <td>NaN</td>\n",
       "    </tr>\n",
       "    <tr>\n",
       "      <th>max</th>\n",
       "      <td>2.000000</td>\n",
       "      <td>0.578841</td>\n",
       "      <td>103.000000</td>\n",
       "      <td>102.000000</td>\n",
       "      <td>0.0</td>\n",
       "      <td>45.0</td>\n",
       "      <td>11.000000</td>\n",
       "      <td>0.0</td>\n",
       "      <td>62.000000</td>\n",
       "      <td>11.000000</td>\n",
       "      <td>...</td>\n",
       "      <td>60.240000</td>\n",
       "      <td>68.66000</td>\n",
       "      <td>60.410000</td>\n",
       "      <td>59.930000</td>\n",
       "      <td>79.75000</td>\n",
       "      <td>1.0</td>\n",
       "      <td>NaN</td>\n",
       "      <td>NaN</td>\n",
       "      <td>NaN</td>\n",
       "      <td>NaN</td>\n",
       "    </tr>\n",
       "  </tbody>\n",
       "</table>\n",
       "<p>8 rows × 2877 columns</p>\n",
       "</div>"
      ],
      "text/plain": [
       "          Y_Class   Y_Quality         X_1         X_2    X_3    X_4  \\\n",
       "count  598.000000  598.000000  349.000000  349.000000  349.0  349.0   \n",
       "mean     1.025084    0.530896    2.409742   95.123209    0.0   45.0   \n",
       "std      0.565069    0.007401    5.895256    4.107640    0.0    0.0   \n",
       "min      0.000000    0.500856    1.000000   87.000000    0.0   45.0   \n",
       "25%      1.000000    0.527535    2.000000   93.000000    0.0   45.0   \n",
       "50%      1.000000    0.530436    2.000000   95.000000    0.0   45.0   \n",
       "75%      1.000000    0.533433    2.000000   98.000000    0.0   45.0   \n",
       "max      2.000000    0.578841  103.000000  102.000000    0.0   45.0   \n",
       "\n",
       "              X_5    X_6         X_7         X_8  ...      X_2866     X_2867  \\\n",
       "count  349.000000  349.0  349.000000  349.000000  ...  100.000000  100.00000   \n",
       "mean    10.392550    0.0   48.802292   10.048711  ...   50.807300   53.60770   \n",
       "std      0.489019    0.0    4.373824    0.215571  ...    7.011828    8.13899   \n",
       "min     10.000000    0.0   45.000000   10.000000  ...   32.120000   31.70000   \n",
       "25%     10.000000    0.0   45.000000   10.000000  ...   49.485000   52.20000   \n",
       "50%     10.000000    0.0   45.000000   10.000000  ...   53.425000   55.92500   \n",
       "75%     11.000000    0.0   51.000000   10.000000  ...   55.287500   58.97500   \n",
       "max     11.000000    0.0   62.000000   11.000000  ...   60.240000   68.66000   \n",
       "\n",
       "           X_2868      X_2869     X_2870  X_2871  X_2872  X_2873  X_2874  \\\n",
       "count  100.000000  100.000000  100.00000    99.0     0.0     0.0     0.0   \n",
       "mean    49.606200   51.659800   66.64970     1.0     NaN     NaN     NaN   \n",
       "std      7.158917    8.913065    4.52781     0.0     NaN     NaN     NaN   \n",
       "min     32.560000   30.490000   61.67000     1.0     NaN     NaN     NaN   \n",
       "25%     42.160000   49.915000   63.64500     1.0     NaN     NaN     NaN   \n",
       "50%     51.460000   56.175000   65.14000     1.0     NaN     NaN     NaN   \n",
       "75%     55.030000   57.175000   67.11500     1.0     NaN     NaN     NaN   \n",
       "max     60.410000   59.930000   79.75000     1.0     NaN     NaN     NaN   \n",
       "\n",
       "       X_2875  \n",
       "count     0.0  \n",
       "mean      NaN  \n",
       "std       NaN  \n",
       "min       NaN  \n",
       "25%       NaN  \n",
       "50%       NaN  \n",
       "75%       NaN  \n",
       "max       NaN  \n",
       "\n",
       "[8 rows x 2877 columns]"
      ]
     },
     "execution_count": 5,
     "metadata": {},
     "output_type": "execute_result"
    }
   ],
   "source": [
    "train_df.describe()"
   ]
  },
  {
   "cell_type": "code",
   "execution_count": null,
   "id": "fe60b3f8",
   "metadata": {},
   "outputs": [],
   "source": [
    "train_df['Y_Class'].hist()"
   ]
  },
  {
   "cell_type": "code",
   "execution_count": null,
   "id": "2db395dd",
   "metadata": {},
   "outputs": [],
   "source": [
    "train_df"
   ]
  },
  {
   "cell_type": "code",
   "execution_count": 6,
   "id": "ffc6afcd-a059-4c16-81a5-ab3d4d750a41",
   "metadata": {},
   "outputs": [],
   "source": [
    "train_x = train_df.drop(columns=['PRODUCT_ID', 'TIMESTAMP', 'Y_Class', 'Y_Quality'])\n",
    "train_y = train_df['Y_Class']\n",
    "\n",
    "test_x = test_df.drop(columns=['PRODUCT_ID', 'TIMESTAMP'])"
   ]
  },
  {
   "cell_type": "markdown",
   "id": "885f1e6b-97f4-4f90-b3ce-0513b7196db6",
   "metadata": {},
   "source": [
    "## Data Pre-processing"
   ]
  },
  {
   "cell_type": "code",
   "execution_count": 7,
   "id": "8ad73f05-9bc3-4063-af29-25dc31f9e3d0",
   "metadata": {},
   "outputs": [],
   "source": [
    "train_x = train_x.fillna(0)\n",
    "test_x = test_x.fillna(0)"
   ]
  },
  {
   "cell_type": "code",
   "execution_count": 8,
   "id": "f710209f-754a-456b-97a5-f7fb4f7e0f51",
   "metadata": {},
   "outputs": [
    {
     "name": "stdout",
     "output_type": "stream",
     "text": [
      "Done.\n"
     ]
    }
   ],
   "source": [
    "# qualitative to quantitative\n",
    "qual_col = ['LINE', 'PRODUCT_CODE']\n",
    "\n",
    "for i in qual_col:\n",
    "    le = LabelEncoder()\n",
    "    le = le.fit(train_x[i])\n",
    "    train_x[i] = le.transform(train_x[i])\n",
    "    \n",
    "    for label in np.unique(test_x[i]): \n",
    "        if label not in le.classes_: \n",
    "            le.classes_ = np.append(le.classes_, label)\n",
    "    test_x[i] = le.transform(test_x[i]) \n",
    "print('Done.')"
   ]
  },
  {
   "cell_type": "code",
   "execution_count": 15,
   "id": "21f17460",
   "metadata": {},
   "outputs": [
    {
     "data": {
      "text/plain": [
       "(598, 2877)"
      ]
     },
     "execution_count": 15,
     "metadata": {},
     "output_type": "execute_result"
    }
   ],
   "source": [
    "train_x.shape"
   ]
  },
  {
   "cell_type": "markdown",
   "id": "5fec6b34-1e64-4d20-afdd-e96f4f77fa31",
   "metadata": {},
   "source": [
    "## Classification Model Fit"
   ]
  },
  {
   "cell_type": "code",
   "execution_count": 9,
   "id": "c6ca77bc-154c-4cb3-9251-3fe45d671416",
   "metadata": {},
   "outputs": [
    {
     "name": "stdout",
     "output_type": "stream",
     "text": [
      "Done.\n"
     ]
    }
   ],
   "source": [
    "RF = RandomForestClassifier(random_state=37).fit(train_x, train_y)\n",
    "print('Done.')"
   ]
  },
  {
   "attachments": {},
   "cell_type": "markdown",
   "id": "c26b3639",
   "metadata": {},
   "source": [
    "# Feature importance"
   ]
  },
  {
   "cell_type": "code",
   "execution_count": 43,
   "id": "57653c1a",
   "metadata": {},
   "outputs": [
    {
     "data": {
      "image/png": "[encoded data removed]",
      "text/plain": [
       "<Figure size 800x600 with 1 Axes>"
      ]
     },
     "metadata": {},
     "output_type": "display_data"
    }
   ],
   "source": [
    "import seaborn as sns\n",
    "import matplotlib.pyplot as plt\n",
    "\n",
    "ft_importance_values = RF.feature_importances_\n",
    "\n",
    "# 정렬과 시각화를 쉽게 하기 위해 series 전환\n",
    "ft_series = pd.Series(ft_importance_values, index = train_x.columns)\n",
    "ft_top20 = ft_series.sort_values(ascending=False)[:2850]\n",
    "\n",
    "# 시각화\n",
    "plt.figure(figsize=(8,6))\n",
    "plt.title('Feature Importance Top 2850')\n",
    "sns.barplot(x=ft_top20, y=ft_top20.index)\n",
    "plt.show()"
   ]
  },
  {
   "cell_type": "markdown",
   "id": "74ddaa38-bd6e-47d2-82d3-c000f188886a",
   "metadata": {},
   "source": [
    "## Inference"
   ]
  },
  {
   "cell_type": "code",
   "execution_count": 10,
   "id": "33b68656-3d7d-4221-b508-24d0d7622179",
   "metadata": {},
   "outputs": [
    {
     "name": "stdout",
     "output_type": "stream",
     "text": [
      "Done.\n"
     ]
    }
   ],
   "source": [
    "preds = RF.predict(test_x)\n",
    "print('Done.')"
   ]
  },
  {
   "cell_type": "markdown",
   "id": "d97cf38e-2062-4645-9095-2ebac375711e",
   "metadata": {},
   "source": [
    "## Submit"
   ]
  },
  {
   "cell_type": "code",
   "execution_count": null,
   "id": "20c5e156-d7c4-400f-b552-0bb86ebfd3e3",
   "metadata": {},
   "outputs": [],
   "source": [
    "submit = pd.read_csv('./sample_submission.csv')"
   ]
  },
  {
   "cell_type": "code",
   "execution_count": null,
   "id": "5b869ab6-6852-45a1-bc75-39dee40b583f",
   "metadata": {},
   "outputs": [],
   "source": [
    "submit['Y_Class'] = preds"
   ]
  },
  {
   "cell_type": "code",
   "execution_count": null,
   "id": "026b00cd-5680-4bf2-b7f8-0bea6ae8299e",
   "metadata": {
    "tags": []
   },
   "outputs": [],
   "source": [
    "submit.to_csv('./baseline_submission.csv', index=False)"
   ]
  }
 ],
 "metadata": {
  "kernelspec": {
   "display_name": "base",
   "language": "python",
   "name": "python3"
  },
  "language_info": {
   "codemirror_mode": {
    "name": "ipython",
    "version": 3
   },
   "file_extension": ".py",
   "mimetype": "text/x-python",
   "name": "python",
   "nbconvert_exporter": "python",
   "pygments_lexer": "ipython3",
   "version": "3.10.8"
  },
  "vscode": {
   "interpreter": {
    "hash": "9acc76a459d7db86261bc3c0fc1f5dcdadf57ce90dda3656ef3156477f1c2288"
   }
  }
 },
 "nbformat": 4,
 "nbformat_minor": 5
}
