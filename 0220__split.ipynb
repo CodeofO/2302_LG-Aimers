{
 "cells": [
  {
   "attachments": {},
   "cell_type": "markdown",
   "metadata": {},
   "source": [
    "## load data"
   ]
  },
  {
   "cell_type": "code",
   "execution_count": 15,
   "metadata": {},
   "outputs": [],
   "source": [
    "import pandas as pd\n",
    "import numpy as np\n",
    "\n",
    "train_df = pd.read_csv('./train.csv')\n",
    "test_df = pd.read_csv('./test.csv')"
   ]
  },
  {
   "cell_type": "code",
   "execution_count": 16,
   "metadata": {},
   "outputs": [],
   "source": [
    "train_df = train_df.drop(['PRODUCT_ID', 'Y_Quality', 'TIMESTAMP'], axis=1)\n",
    "test_df = test_df.drop(['PRODUCT_ID', 'TIMESTAMP'], axis=1)"
   ]
  },
  {
   "cell_type": "code",
   "execution_count": 17,
   "metadata": {},
   "outputs": [
    {
     "name": "stdout",
     "output_type": "stream",
     "text": [
      "done\n"
     ]
    }
   ],
   "source": [
    "from sklearn.preprocessing import LabelEncoder\n",
    "\n",
    "qual_col = ['LINE','PRODUCT_CODE']\n",
    "\n",
    "for i in qual_col:\n",
    "    le = LabelEncoder()\n",
    "    le.fit(train_df[i])\n",
    "    train_df[i] = le.transform(train_df[i])\n",
    "\n",
    "    for label in np.unique(test_df[i]):\n",
    "        if label not in le.classes_:\n",
    "            le.classes_ = np.append(le.classes_, label)\n",
    "    \n",
    "    test_df[i] = le.transform(test_df[i])\n",
    "\n",
    "print('done')"
   ]
  },
  {
   "attachments": {},
   "cell_type": "markdown",
   "metadata": {},
   "source": [
    "## split"
   ]
  },
  {
   "cell_type": "code",
   "execution_count": 18,
   "metadata": {},
   "outputs": [],
   "source": [
    "def split_line(df, kind):\n",
    "\n",
    "    globals()[f'{kind}_x_line_set'] = []\n",
    "    globals()[f'{kind}_y_line_set'] = []\n",
    "\n",
    "    line_value = df['LINE'].value_counts().index\n",
    "    for line in line_value:\n",
    "        globals()[f'{kind}_x_line_{line}'] = df[df['LINE'] == line]\n",
    "        globals()[f'{kind}_x_line_set'].append(globals()[f'{kind}_x_line_{line}'])\n",
    "    try:\n",
    "        for line in line_value:\n",
    "            globals()[f'{kind}_y_line_{line}'] = df['Y_Class'][df['LINE'] == line]\n",
    "            globals()[f'{kind}_y_line_set'].append(globals()[f'{kind}_y_line_{line}'])\n",
    "            globals()[f'{kind}_x_line_{line}'].drop('Y_Class', axis=1, inplace = True)\n",
    "    except:\n",
    "        pass"
   ]
  },
  {
   "cell_type": "code",
   "execution_count": 19,
   "metadata": {},
   "outputs": [],
   "source": [
    "import warnings\n",
    "warnings.filterwarnings('ignore')\n",
    "\n",
    "split_line(train_df, 'train')\n",
    "split_line(test_df, 'test')"
   ]
  },
  {
   "attachments": {},
   "cell_type": "markdown",
   "metadata": {},
   "source": [
    "## Preprocessing"
   ]
  },
  {
   "cell_type": "code",
   "execution_count": 20,
   "metadata": {},
   "outputs": [],
   "source": [
    "# drop_fill()\n",
    "\n",
    "def drop_fill(x):\n",
    "    row_len = x.shape[0]\n",
    "\n",
    "    df = pd.DataFrame(x.isnull().sum())\n",
    "    #drop_col = df[df[0]/row_len >= 0.3].index\n",
    "    fill_mean_col = df[df[0]/row_len < 0.3].index\n",
    "\n",
    "    #x.drop(drop_col, axis=1, inplace=True)\n",
    "\n",
    "    for col in fill_mean_col:\n",
    "        x[col] = x[col].fillna(x[col].mean())\n",
    "\n",
    "    return x"
   ]
  },
  {
   "attachments": {},
   "cell_type": "markdown",
   "metadata": {},
   "source": [
    "## model"
   ]
  },
  {
   "cell_type": "code",
   "execution_count": 21,
   "metadata": {},
   "outputs": [],
   "source": [
    "from lightgbm import LGBMClassifier\n",
    "from sklearn.model_selection import train_test_split\n",
    "from sklearn.metrics import accuracy_score\n",
    "from xgboost import XGBRFClassifier, XGBClassifier\n",
    "\n",
    "model_lgbm = LGBMClassifier(n_estimators=200, boost_from_average=False)\n",
    "model_XGBRF = XGBRFClassifier()\n",
    "model_XGB = XGBClassifier()"
   ]
  },
  {
   "cell_type": "code",
   "execution_count": 22,
   "metadata": {},
   "outputs": [],
   "source": [
    "def fit_accuracy(model, x, y):\n",
    "\n",
    "    x_t, x_v, y_t, y_v = train_test_split(x, y, test_size=0.15, random_state=42)\n",
    "    \n",
    "    model.fit(x_t, y_t)\n",
    "    pred = model.predict(x_v)\n",
    "    \n",
    "    print('accuracy:',accuracy_score(pred, y_v), '\\n')"
   ]
  },
  {
   "cell_type": "code",
   "execution_count": 23,
   "metadata": {},
   "outputs": [],
   "source": [
    "def valid(model,train_x_line_set, train_y_line_set):\n",
    "\n",
    "    for line in range(6):\n",
    "        print(f'line {line+1}')\n",
    "        x = drop_fill(train_x_line_set[line])\n",
    "        y = train_y_line_set[line]\n",
    "\n",
    "        fit_accuracy(model, x, y)"
   ]
  },
  {
   "attachments": {},
   "cell_type": "markdown",
   "metadata": {},
   "source": [
    "## submit"
   ]
  },
  {
   "cell_type": "code",
   "execution_count": 24,
   "metadata": {},
   "outputs": [],
   "source": [
    "def test(model, train_x, train_y, test_x):\n",
    "    \n",
    "    model.fit(train_x, train_y)\n",
    "    pred = model.predict(test_x)\n",
    "\n",
    "    return pred"
   ]
  },
  {
   "cell_type": "code",
   "execution_count": 25,
   "metadata": {},
   "outputs": [],
   "source": [
    "#split_line(test_df, 'test')\n",
    "\n",
    "def test_submit(model, train_x_line_set, train_y_line_set, test_x_line_set):\n",
    "\n",
    "    pred_df_list = []\n",
    "\n",
    "    for idx, train_x in enumerate(train_x_line_set):\n",
    "        train_y = train_y_line_set[idx]\n",
    "        test_x = test_x_line_set[idx]\n",
    "        \n",
    "        data = test(model, train_x, train_y, test_x)\n",
    "        pred_df = pd.DataFrame(data, index=test_x.index)\n",
    "        \n",
    "        pred_df_list.append(pred_df)\n",
    "        pred = pd.concat(pred_df_list, axis=0).sort_index()\n",
    "    \n",
    "    return pred\n",
    "\n",
    "def submit_(pred):\n",
    "    submit_csv = pd.read_csv('./sample_submission.csv')\n",
    "    submit_csv['Y_Class'] = pred\n",
    "    submit_csv.to_csv('0220_LGBM_split.csv', index=False)\n"
   ]
  },
  {
   "cell_type": "code",
   "execution_count": 27,
   "metadata": {},
   "outputs": [],
   "source": [
    "pred = test_submit(model_lgbm, train_x_line_set, train_y_line_set, test_x_line_set)\n",
    "submit_(pred)"
   ]
  }
 ],
 "metadata": {
  "kernelspec": {
   "display_name": "base",
   "language": "python",
   "name": "python3"
  },
  "language_info": {
   "codemirror_mode": {
    "name": "ipython",
    "version": 3
   },
   "file_extension": ".py",
   "mimetype": "text/x-python",
   "name": "python",
   "nbconvert_exporter": "python",
   "pygments_lexer": "ipython3",
   "version": "3.10.9"
  },
  "orig_nbformat": 4,
  "vscode": {
   "interpreter": {
    "hash": "9acc76a459d7db86261bc3c0fc1f5dcdadf57ce90dda3656ef3156477f1c2288"
   }
  }
 },
 "nbformat": 4,
 "nbformat_minor": 2
}
