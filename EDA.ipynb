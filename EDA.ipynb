{
 "cells": [
  {
   "cell_type": "code",
   "execution_count": null,
   "metadata": {},
   "outputs": [],
   "source": []
  },
  {
   "cell_type": "markdown",
   "metadata": {},
   "source": [
    "## 1️⃣ Load Data"
   ]
  },
  {
   "cell_type": "code",
   "execution_count": 5,
   "metadata": {},
   "outputs": [],
   "source": [
    "import pandas as pd\n",
    "import random\n",
    "import os\n",
    "import numpy as np\n",
    "import warnings\n",
    "warnings.filterwarnings('ignore')\n",
    "\n",
    "def seed_everything(seed):\n",
    "    random.seed(seed)\n",
    "    os.environ['PYTHONHASHSEED'] = str(seed)\n",
    "    np.random.seed(seed)\n",
    "seed_everything(37) # Seed 고정\n",
    "\n",
    "train_df = pd.read_csv('./train.csv')\n",
    "test_df = pd.read_csv('./test.csv')\n",
    "\n",
    "#train_x = train_df.drop(columns=['PRODUCT_ID', 'Y_Class', 'TIMESTAMP'])\n",
    "train_x = train_df.drop(columns=['PRODUCT_ID', 'Y_Quality', 'TIMESTAMP'])\n",
    "train_y = train_df['Y_Class']\n",
    "\n",
    "test_x = test_df.drop(columns=['PRODUCT_ID', 'TIMESTAMP'])"
   ]
  },
  {
   "cell_type": "markdown",
   "metadata": {},
   "source": [
    "## 2️⃣ Split "
   ]
  },
  {
   "cell_type": "code",
   "execution_count": 7,
   "metadata": {},
   "outputs": [
    {
     "name": "stdout",
     "output_type": "stream",
     "text": [
      "done\n",
      "done\n"
     ]
    }
   ],
   "source": [
    "def split_line(train_df, test_df, train_x, test_x):\n",
    "\n",
    "    line_v = sorted(train_df['LINE'].value_counts().index)\n",
    "\n",
    "    # train\n",
    "    for idx, i in enumerate(line_v):\n",
    "        globals()['l{}'.format(idx+1)]=train_x[train_x['LINE']==i]\n",
    "\n",
    "    # train y\n",
    "    for idx, i in enumerate(line_v):\n",
    "        globals()['l{}_y'.format(idx+1)]=train_x['Y_Class'][train_x['LINE']==i]\n",
    "\n",
    "    # test\n",
    "    for idx, i in enumerate(line_v):\n",
    "        globals()['l{}_test'.format(idx+1)]=test_x[test_x['LINE']==i]\n",
    "\n",
    "    print('done')\n",
    "\n",
    "split_line(train_df, test_df, train_x, test_x)\n",
    "\n",
    "\n",
    "def split_PC(traindf, test_df):\n",
    "\n",
    "    pc_v = sorted(train_df['PRODUCT_CODE'].value_counts().index)\n",
    "\n",
    "    # train\n",
    "    for idx, i in enumerate(pc_v):\n",
    "        globals()['pc{}'.format(idx+1)]=train_x[train_x['PRODUCT_CODE']==i]\n",
    "\n",
    "    # train y\n",
    "    for idx, i in enumerate(pc_v):\n",
    "        globals()['pc{}_y'.format(idx+1)]=train_x['Y_Class'][train_x['PRODUCT_CODE']==i]\n",
    "\n",
    "    # test\n",
    "    for idx, i in enumerate(pc_v):\n",
    "        globals()['pc{}_test'.format(idx+1)]=test_x[test_x['PRODUCT_CODE']==i]\n",
    "\n",
    "    print('done')\n",
    "\n",
    "split_PC(train_df, test_df)"
   ]
  },
  {
   "attachments": {},
   "cell_type": "markdown",
   "metadata": {},
   "source": [
    "## 3️⃣ analysis"
   ]
  },
  {
   "cell_type": "code",
   "execution_count": 8,
   "metadata": {},
   "outputs": [
    {
     "name": "stdout",
     "output_type": "stream",
     "text": [
      "#### RATE : one line / all ####\n",
      "\n",
      "l1 : 0.09866220735785954 \n",
      "\n",
      "l2 : 0.11705685618729098 \n",
      "\n",
      "l3 : 0.13043478260869565 \n",
      "\n",
      "l4 : 0.07023411371237458 \n",
      "\n",
      "l6 : 0.2909698996655518 \n",
      "\n",
      "l5 : 0.29264214046822745 \n",
      "\n"
     ]
    }
   ],
   "source": [
    "print('#### RATE : one line / all ####\\n')\n",
    "\n",
    "print('l1 :', l1.shape[0] / train_x.shape[0], '\\n')\n",
    "print('l2 :', l2.shape[0] / train_x.shape[0], '\\n')\n",
    "print('l3 :', l3.shape[0] / train_x.shape[0], '\\n')\n",
    "print('l4 :', l4.shape[0] / train_x.shape[0], '\\n')\n",
    "print('l6 :', l6.shape[0] / train_x.shape[0], '\\n')\n",
    "print('l5 :', l5.shape[0] / train_x.shape[0], '\\n')"
   ]
  },
  {
   "attachments": {},
   "cell_type": "markdown",
   "metadata": {},
   "source": [
    "#### (1)_null : col"
   ]
  },
  {
   "cell_type": "code",
   "execution_count": 9,
   "metadata": {},
   "outputs": [
    {
     "name": "stdout",
     "output_type": "stream",
     "text": [
      "### line 1 : 59개 제조 ###\n",
      "null개수 col개수\n",
      "59    1989\n",
      "33      10\n",
      "58       5\n",
      "Name: null, dtype: int64 \n",
      "\n",
      "\n",
      "### line 2 : 70개 제조 ###\n",
      "null개수 col개수\n",
      "70    1989\n",
      "40      10\n",
      "69       5\n",
      "Name: null, dtype: int64 \n",
      "\n",
      "\n",
      "### line 3 : 78개 제조 ###\n",
      "null개수 col개수\n",
      "78    907\n",
      "39    420\n",
      "2     395\n",
      "1     142\n",
      "59     60\n",
      "11     27\n",
      "54     10\n",
      "74      5\n",
      "7       3\n",
      "14      1\n",
      "12      1\n",
      "52      1\n",
      "Name: null, dtype: int64 \n",
      "\n",
      "\n",
      "### line 4 : 42개 제조 ###\n",
      "null개수 col개수\n",
      "42    900\n",
      "19    422\n",
      "28     70\n",
      "9      26\n",
      "3       3\n",
      "2       1\n",
      "4       1\n",
      "16      1\n",
      "10      1\n",
      "Name: null, dtype: int64 \n",
      "\n",
      "\n",
      "### line 5 : 175개 제조 ###\n",
      "null개수 col개수\n",
      "175    2204\n",
      "1       420\n",
      "126      10\n",
      "173       5\n",
      "Name: null, dtype: int64 \n",
      "\n",
      "\n",
      "### line 6 : 174개 제조 ###\n",
      "null개수 col개수\n",
      "174    2204\n",
      "136      10\n",
      "166       5\n",
      "Name: null, dtype: int64 \n",
      "\n",
      "\n"
     ]
    }
   ],
   "source": [
    "for idx, l in enumerate([l1, l2, l3, l4, l5, l6]):\n",
    "    print('### line {0} : {1}개 제조 ###'.format(idx+1, len(l)))\n",
    "    print('null개수 col개수')\n",
    "    l1_null_df = pd.DataFrame(data=l.isnull().sum().keys(), columns=['col'])\n",
    "    l1_null_df['null'] = l.isnull().sum().values\n",
    "    print(l1_null_df[l1_null_df['null'] != 0]['null'].value_counts(), '\\n\\n')"
   ]
  },
  {
   "cell_type": "code",
   "execution_count": 10,
   "metadata": {},
   "outputs": [
    {
     "name": "stdout",
     "output_type": "stream",
     "text": [
      "#### len product code 1 : 249 ####\n",
      "\n",
      "null개수 col개수\n",
      "249    759\n",
      "129    658\n",
      "187    416\n",
      "2      368\n",
      "1      139\n",
      "120    113\n",
      "216     60\n",
      "131     27\n",
      "149     26\n",
      "207     13\n",
      "155     10\n",
      "179      8\n",
      "190      8\n",
      "226      6\n",
      "243      5\n",
      "210      4\n",
      "171      3\n",
      "130      3\n",
      "139      3\n",
      "145      1\n",
      "16       1\n",
      "197      1\n",
      "150      1\n",
      "Name: null, dtype: int64 \n",
      "\n",
      "\n",
      "\n",
      "#### len product code 2 : 6 ####\n",
      "\n",
      "null개수 col개수\n",
      "6    2208\n",
      "3      12\n",
      "4       5\n",
      "Name: null, dtype: int64 \n",
      "\n",
      "\n",
      "\n",
      "#### len product code 3 : 343 ####\n",
      "\n",
      "null개수 col개수\n",
      "343    2198\n",
      "1       420\n",
      "256      10\n",
      "171       6\n",
      "172       6\n",
      "335       5\n",
      "Name: null, dtype: int64 \n",
      "\n",
      "\n",
      "\n"
     ]
    }
   ],
   "source": [
    "for idx, l in enumerate([pc1, pc2, pc3]):\n",
    "    print('#### len product code {0} : {1} ####\\n'.format(idx+1, len(l)))\n",
    "    print('null개수 col개수')\n",
    "    l1_null_df = pd.DataFrame(data=l.isnull().sum().keys(), columns=['col'])\n",
    "    l1_null_df['null'] = l.isnull().sum().values\n",
    "    print(l1_null_df[l1_null_df['null'] != 0]['null'].value_counts(), '\\n\\n\\n')"
   ]
  },
  {
   "cell_type": "markdown",
   "metadata": {},
   "source": [
    "#### (2)_Y Class"
   ]
  },
  {
   "cell_type": "code",
   "execution_count": 12,
   "metadata": {},
   "outputs": [
    {
     "name": "stdout",
     "output_type": "stream",
     "text": [
      "#### Line별 Y Class 비율 ####\n",
      "\n",
      "## line 1 ##\n",
      "y = 0 : 22.0%\n",
      "y = 1 : 59.3%\n",
      "y = 2 : 18.6%\n",
      "\n",
      "## line 2 ##\n",
      "y = 0 : 8.6%\n",
      "y = 1 : 52.9%\n",
      "y = 2 : 38.6%\n",
      "\n",
      "## line 3 ##\n",
      "y = 0 : 38.5%\n",
      "y = 1 : 47.4%\n",
      "y = 2 : 14.1%\n",
      "\n",
      "## line 4 ##\n",
      "y = 0 : 26.2%\n",
      "y = 1 : 21.4%\n",
      "y = 2 : 52.4%\n",
      "\n",
      "## line 5 ##\n",
      "y = 0 : 9.7%\n",
      "y = 1 : 82.3%\n",
      "y = 2 : 8.0%\n",
      "\n",
      "## line 6 ##\n",
      "y = 0 : 6.3%\n",
      "y = 1 : 83.3%\n",
      "y = 2 : 10.3%\n"
     ]
    }
   ],
   "source": [
    "print('#### Line별 Y Class 비율 ####')\n",
    "\n",
    "for idx, l in enumerate([l1, l2, l3, l4, l5, l6]):\n",
    "    print('\\n## line {} ##'.format(idx+1))\n",
    "    for idxy, y in enumerate([0,1,2]):\n",
    "        print('y = {0} : {1}%'.format(idxy, round(len(l[l['Y_Class']==y]) / len(l) * 100, 1)))"
   ]
  },
  {
   "cell_type": "code",
   "execution_count": 13,
   "metadata": {},
   "outputs": [
    {
     "name": "stdout",
     "output_type": "stream",
     "text": [
      "#### Line별 Y Class 비율 ####\n",
      "\n",
      "\n",
      "## product code1 ##\n",
      "y=0 : 24.1%\n",
      "y=1 : 47.4%\n",
      "y=2 : 28.5%\n",
      "\n",
      "\n",
      "## product code2 ##\n",
      "y=0 : 0.0%\n",
      "y=1 : 66.7%\n",
      "y=2 : 33.3%\n",
      "\n",
      "\n",
      "## product code3 ##\n",
      "y=0 : 8.2%\n",
      "y=1 : 83.1%\n",
      "y=2 : 8.7%\n"
     ]
    }
   ],
   "source": [
    "print('#### Line별 Y Class 비율 ####')\n",
    "\n",
    "for idx, l in enumerate([pc1, pc2, pc3]):\n",
    "    print('\\n\\n## product code{} ##'.format(idx+1))\n",
    "    for idxy, y in enumerate([0,1,2]):\n",
    "        print('y={0} : {1}%'.format(idxy, round(len(l[l['Y_Class']==y]) / len(l) * 100, 1)))"
   ]
  },
  {
   "attachments": {},
   "cell_type": "markdown",
   "metadata": {},
   "source": [
    "### (3) 서로의 비율"
   ]
  },
  {
   "cell_type": "code",
   "execution_count": 17,
   "metadata": {},
   "outputs": [
    {
     "name": "stdout",
     "output_type": "stream",
     "text": [
      "#### Line별 Product Code 비율 ####\n",
      "\n",
      "\n",
      "## line 1 ##\n",
      "product code = A_31 : 100.0% / 59\n",
      "\n",
      "\n",
      "## line 2 ##\n",
      "product code = A_31 : 100.0% / 70\n",
      "\n",
      "\n",
      "## line 3 ##\n",
      "product code = A_31 : 100.0% / 78\n",
      "\n",
      "\n",
      "## line 4 ##\n",
      "product code = A_31 : 100.0% / 42\n",
      "\n",
      "\n",
      "## line 5 ##\n",
      "product code = T_31 : 98.3% / 172\n",
      "product code = O_31 : 1.7% / 3\n",
      "\n",
      "\n",
      "## line 6 ##\n",
      "product code = T_31 : 98.3% / 171\n",
      "product code = O_31 : 1.7% / 3\n"
     ]
    }
   ],
   "source": [
    "print('#### Line별 Product Code 비율 ####')\n",
    "\n",
    "for idx, l in enumerate([l1, l2, l3, l4, l5, l6]):\n",
    "    print('\\n\\n## line {} ##'.format(idx+1))\n",
    "    \n",
    "    vc = l['PRODUCT_CODE'].value_counts()\n",
    "\n",
    "    for idxy, y in enumerate(vc.index):\n",
    "        print('product code = {0} : {1}%'.format(y, round(len(l[l['PRODUCT_CODE']==y]) / len(l) * 100, 1)), '/', len(l[l['PRODUCT_CODE']==y]))"
   ]
  },
  {
   "cell_type": "code",
   "execution_count": 16,
   "metadata": {},
   "outputs": [
    {
     "name": "stdout",
     "output_type": "stream",
     "text": [
      "#### PRODUCT_CODE Product Code 비율 ####\n",
      "\n",
      "\n",
      "## Product Code 1 ##\n",
      "line = T050304 : 31.3% / 78\n",
      "line = T010306 : 28.1% / 70\n",
      "line = T010305 : 23.7% / 59\n",
      "line = T050307 : 16.9% / 42\n",
      "\n",
      "\n",
      "## Product Code 2 ##\n",
      "line = T100304 : 50.0% / 3\n",
      "line = T100306 : 50.0% / 3\n",
      "\n",
      "\n",
      "## Product Code 3 ##\n",
      "line = T100304 : 50.1% / 172\n",
      "line = T100306 : 49.9% / 171\n"
     ]
    }
   ],
   "source": [
    "print('#### PRODUCT_CODE Product Code 비율 ####')\n",
    "\n",
    "for idx, l in enumerate([pc1, pc2, pc3]):\n",
    "    print('\\n\\n## Product Code {} ##'.format(idx+1))\n",
    "    \n",
    "    vc = l['LINE'].value_counts()\n",
    "\n",
    "    for idxy, y in enumerate(vc.index):\n",
    "        print('line = {0} : {1}%'.format(y, round(len(l[l['LINE']==y]) / len(l) * 100, 1)), '/', len(l[l['LINE']==y]))"
   ]
  },
  {
   "attachments": {},
   "cell_type": "markdown",
   "metadata": {},
   "source": [
    "### (4)_ null count : Line(n)/Product_code(m)"
   ]
  },
  {
   "cell_type": "code",
   "execution_count": 21,
   "metadata": {},
   "outputs": [
    {
     "name": "stdout",
     "output_type": "stream",
     "text": [
      "Done.\n"
     ]
    }
   ],
   "source": [
    "from sklearn.preprocessing import LabelEncoder\n",
    "\n",
    "# qualitative to quantitative\n",
    "qual_col = ['LINE', 'PRODUCT_CODE']\n",
    "\n",
    "for i in qual_col:\n",
    "    le = LabelEncoder()\n",
    "    le = le.fit(train_x[i])\n",
    "    train_x[i] = le.transform(train_x[i])\n",
    "    \n",
    "    for label in np.unique(test_x[i]): \n",
    "        if label not in le.classes_: \n",
    "            le.classes_ = np.append(le.classes_, label)\n",
    "    test_x[i] = le.transform(test_x[i]) \n",
    "print('Done.')"
   ]
  },
  {
   "cell_type": "code",
   "execution_count": 31,
   "metadata": {},
   "outputs": [],
   "source": [
    "# LINE(0) PRODUCT CODE(0)\n",
    "line0_pc0_x = train_x[train_x['LINE']==0][train_x['PRODUCT_CODE']==0]\n",
    "line0_pc0_y = train_x['Y_Class'][train_x['LINE']==0][train_x['PRODUCT_CODE']==0]\n",
    "\n",
    "# LINE(1) PRODUCT CODE(0)\n",
    "line1_pc0_x = train_x[train_x['LINE']==1][train_x['PRODUCT_CODE']==0]\n",
    "line1_pc0_y = train_x['Y_Class'][train_x['LINE']==1][train_x['PRODUCT_CODE']==0]\n",
    "\n",
    "# LINE(2) PRODUCT CODE(0)\n",
    "line2_pc0_x = train_x[train_x['LINE']==2][train_x['PRODUCT_CODE']==0]\n",
    "line2_pc0_y = train_x['Y_Class'][train_x['LINE']==2][train_x['PRODUCT_CODE']==0]\n",
    "\n",
    "# LINE(3) PRODUCT CODE(0)\n",
    "line3_pc0_x = train_x[train_x['LINE']==3][train_x['PRODUCT_CODE']==0]\n",
    "line3_pc0_y = train_x['Y_Class'][train_x['LINE']==3][train_x['PRODUCT_CODE']==0]\n",
    "\n",
    "# LINE(4) PRODUCT CODE(1)\n",
    "line4_pc1_x = train_x[train_x['LINE']==4][train_x['PRODUCT_CODE']==1]\n",
    "line4_pc1_y = train_x['Y_Class'][train_x['LINE']==4][train_x['PRODUCT_CODE']==1]\n",
    "\n",
    "# LINE(4) PRODUCT CODE(2)\n",
    "line4_pc2_x = train_x[train_x['LINE']==4][train_x['PRODUCT_CODE']==2]\n",
    "line4_pc2_y = train_x['Y_Class'][train_x['LINE']==4][train_x['PRODUCT_CODE']==2]\n",
    "\n",
    "# LINE(5) PRODUCT CODE(1)\n",
    "line5_pc1_x = train_x[train_x['LINE']==5][train_x['PRODUCT_CODE']==1]\n",
    "line5_pc1_y = train_x['Y_Class'][train_x['LINE']==5][train_x['PRODUCT_CODE']==1]\n",
    "\n",
    "# LINE(5) PRODUCT CODE(2)\n",
    "line5_pc2_x = train_x[train_x['LINE']==5][train_x['PRODUCT_CODE']==2]\n",
    "line5_pc2_y = train_x['Y_Class'][train_x['LINE']==5][train_x['PRODUCT_CODE']==2]"
   ]
  },
  {
   "cell_type": "code",
   "execution_count": 43,
   "metadata": {},
   "outputs": [
    {
     "name": "stdout",
     "output_type": "stream",
     "text": [
      "\n",
      "\n",
      "### line0_pc0_x ###\n",
      " len : 59\n",
      " 0      874\n",
      "33      10\n",
      "58       5\n",
      "59    1989\n",
      "dtype: int64\n",
      "\n",
      "\n",
      "### line1_pc0_x ###\n",
      " len : 70\n",
      " 0      874\n",
      "40      10\n",
      "69       5\n",
      "70    1989\n",
      "dtype: int64\n",
      "\n",
      "\n",
      "### line2_pc0_x ###\n",
      " len : 78\n",
      " 0     906\n",
      "1     142\n",
      "2     395\n",
      "7       3\n",
      "11     27\n",
      "12      1\n",
      "14      1\n",
      "39    420\n",
      "52      1\n",
      "54     10\n",
      "59     60\n",
      "74      5\n",
      "78    907\n",
      "dtype: int64\n",
      "\n",
      "\n",
      "### line3_pc0_x ###\n",
      " len : 42\n",
      " 0     1453\n",
      "2        1\n",
      "3        3\n",
      "4        1\n",
      "9       26\n",
      "10       1\n",
      "16       1\n",
      "19     422\n",
      "28      70\n",
      "42     900\n",
      "dtype: int64\n",
      "\n",
      "\n",
      "### line4_pc1_x ###\n",
      " len : 3\n",
      " 0     659\n",
      "2       5\n",
      "3    2214\n",
      "dtype: int64\n",
      "\n",
      "\n",
      "### line4_pc2_x ###\n",
      " len : 172\n",
      " 0       239\n",
      "1       420\n",
      "123      10\n",
      "171       5\n",
      "172    2204\n",
      "dtype: int64\n",
      "\n",
      "\n",
      "### line5_pc1_x ###\n",
      " len : 3\n",
      " 0     659\n",
      "2       5\n",
      "3    2214\n",
      "dtype: int64\n",
      "\n",
      "\n",
      "### line5_pc2_x ###\n",
      " len : 171\n",
      " 0       659\n",
      "133      10\n",
      "164       5\n",
      "171    2204\n",
      "dtype: int64\n"
     ]
    }
   ],
   "source": [
    "line_pc = [line0_pc0_x, line1_pc0_x, line2_pc0_x, line3_pc0_x, line4_pc1_x, line4_pc2_x, line5_pc1_x, line5_pc2_x]\n",
    "line_pc_name = ['line0_pc0_x', 'line1_pc0_x', 'line2_pc0_x', 'line3_pc0_x', 'line4_pc1_x', 'line4_pc2_x', 'line5_pc1_x', 'line5_pc2_x']\n",
    "\n",
    "for idx, i in enumerate(line_pc):\n",
    "    print('\\n\\n### {} ###\\n'.format(line_pc_name[idx]),\n",
    "          'len : {}\\n'.format(len(i)),\n",
    "          i.isnull().sum().value_counts().sort_index())"
   ]
  },
  {
   "attachments": {},
   "cell_type": "markdown",
   "metadata": {},
   "source": [
    "## 4️⃣ graph"
   ]
  },
  {
   "cell_type": "code",
   "execution_count": 45,
   "metadata": {},
   "outputs": [],
   "source": [
    "import matplotlib.pyplot as plt\n",
    "import seaborn as sns"
   ]
  },
  {
   "cell_type": "code",
   "execution_count": 51,
   "metadata": {},
   "outputs": [
    {
     "data": {
      "text/plain": [
       "(59, 2878)"
      ]
     },
     "execution_count": 51,
     "metadata": {},
     "output_type": "execute_result"
    }
   ],
   "source": [
    "line0_pc0_x.shape"
   ]
  },
  {
   "cell_type": "code",
   "execution_count": 50,
   "metadata": {},
   "outputs": [
    {
     "data": {
      "image/png": "[encoded data removed]",
      "text/plain": [
       "<Figure size 640x480 with 1 Axes>"
      ]
     },
     "metadata": {},
     "output_type": "display_data"
    }
   ],
   "source": [
    "line_pc = [line0_pc0_x, line1_pc0_x, line2_pc0_x, line3_pc0_x, line4_pc1_x, line4_pc2_x, line5_pc1_x, line5_pc2_x]\n",
    "line_pc_name = ['line0_pc0_x', 'line1_pc0_x', 'line2_pc0_x', 'line3_pc0_x', 'line4_pc1_x', 'line4_pc2_x', 'line5_pc1_x', 'line5_pc2_x']\n",
    "\n",
    "#ax = plt.subplots() # 격자\n",
    "ax = sns.scatterplot(line0_pc0_x['Y_Class'], )"
   ]
  },
  {
   "cell_type": "code",
   "execution_count": 75,
   "metadata": {},
   "outputs": [
    {
     "name": "stdout",
     "output_type": "stream",
     "text": [
      "59    1989\n",
      "0      874\n",
      "33      10\n",
      "58       5\n",
      "dtype: int64\n"
     ]
    },
    {
     "data": {
      "text/plain": [
       "Index(['X_1167', 'X_1168', 'X_1169', 'X_1170', 'X_1171', 'X_1274', 'X_1275',\n",
       "       'X_1276', 'X_1277', 'X_1278'],\n",
       "      dtype='object')"
      ]
     },
     "execution_count": 75,
     "metadata": {},
     "output_type": "execute_result"
    }
   ],
   "source": [
    "line_pc = [line0_pc0_x, line1_pc0_x, line2_pc0_x, line3_pc0_x, line4_pc1_x, line4_pc2_x, line5_pc1_x, line5_pc2_x]\n",
    "\n",
    "print(line0_pc0_x.isnull().sum().value_counts())\n",
    "\n",
    "line0_pc0_x.isnull().sum()\n",
    "\n",
    "df = pd.DataFrame(data=line0_pc0_x.isnull().sum(), columns=['null'])\n",
    "df[df['null'] == 33].index"
   ]
  },
  {
   "cell_type": "code",
   "execution_count": 80,
   "metadata": {},
   "outputs": [
    {
     "data": {
      "text/html": [
       "<div>\n",
       "<style scoped>\n",
       "    .dataframe tbody tr th:only-of-type {\n",
       "        vertical-align: middle;\n",
       "    }\n",
       "\n",
       "    .dataframe tbody tr th {\n",
       "        vertical-align: top;\n",
       "    }\n",
       "\n",
       "    .dataframe thead th {\n",
       "        text-align: right;\n",
       "    }\n",
       "</style>\n",
       "<table border=\"1\" class=\"dataframe\">\n",
       "  <thead>\n",
       "    <tr style=\"text-align: right;\">\n",
       "      <th></th>\n",
       "      <th>Y_Class</th>\n",
       "      <th>X_1167</th>\n",
       "      <th>X_1168</th>\n",
       "      <th>X_1169</th>\n",
       "      <th>X_1170</th>\n",
       "      <th>X_1171</th>\n",
       "      <th>X_1274</th>\n",
       "      <th>X_1275</th>\n",
       "      <th>X_1276</th>\n",
       "      <th>X_1277</th>\n",
       "      <th>X_1278</th>\n",
       "    </tr>\n",
       "  </thead>\n",
       "  <tbody>\n",
       "    <tr>\n",
       "      <th>count</th>\n",
       "      <td>26.000000</td>\n",
       "      <td>26.000000</td>\n",
       "      <td>26.000000</td>\n",
       "      <td>26.000000</td>\n",
       "      <td>26.000000</td>\n",
       "      <td>26.000000</td>\n",
       "      <td>26.000000</td>\n",
       "      <td>26.000000</td>\n",
       "      <td>26.000000</td>\n",
       "      <td>26.000000</td>\n",
       "      <td>26.000000</td>\n",
       "    </tr>\n",
       "    <tr>\n",
       "      <th>mean</th>\n",
       "      <td>1.038462</td>\n",
       "      <td>262.212663</td>\n",
       "      <td>261.809980</td>\n",
       "      <td>261.846425</td>\n",
       "      <td>261.794781</td>\n",
       "      <td>261.374806</td>\n",
       "      <td>405.576923</td>\n",
       "      <td>414.153846</td>\n",
       "      <td>409.269231</td>\n",
       "      <td>407.961538</td>\n",
       "      <td>404.500000</td>\n",
       "    </tr>\n",
       "    <tr>\n",
       "      <th>std</th>\n",
       "      <td>0.662164</td>\n",
       "      <td>6.340082</td>\n",
       "      <td>6.412649</td>\n",
       "      <td>6.139415</td>\n",
       "      <td>7.173431</td>\n",
       "      <td>5.672140</td>\n",
       "      <td>3.817571</td>\n",
       "      <td>9.890166</td>\n",
       "      <td>8.402655</td>\n",
       "      <td>9.929676</td>\n",
       "      <td>2.404163</td>\n",
       "    </tr>\n",
       "    <tr>\n",
       "      <th>min</th>\n",
       "      <td>0.000000</td>\n",
       "      <td>248.625000</td>\n",
       "      <td>251.000000</td>\n",
       "      <td>250.218750</td>\n",
       "      <td>247.562500</td>\n",
       "      <td>249.875000</td>\n",
       "      <td>401.000000</td>\n",
       "      <td>403.000000</td>\n",
       "      <td>400.000000</td>\n",
       "      <td>399.000000</td>\n",
       "      <td>400.000000</td>\n",
       "    </tr>\n",
       "    <tr>\n",
       "      <th>25%</th>\n",
       "      <td>1.000000</td>\n",
       "      <td>258.943548</td>\n",
       "      <td>256.669355</td>\n",
       "      <td>258.612903</td>\n",
       "      <td>257.048387</td>\n",
       "      <td>256.927419</td>\n",
       "      <td>405.000000</td>\n",
       "      <td>405.000000</td>\n",
       "      <td>405.000000</td>\n",
       "      <td>400.000000</td>\n",
       "      <td>402.000000</td>\n",
       "    </tr>\n",
       "    <tr>\n",
       "      <th>50%</th>\n",
       "      <td>1.000000</td>\n",
       "      <td>260.403226</td>\n",
       "      <td>260.838710</td>\n",
       "      <td>260.129032</td>\n",
       "      <td>259.645161</td>\n",
       "      <td>259.870968</td>\n",
       "      <td>405.000000</td>\n",
       "      <td>415.500000</td>\n",
       "      <td>405.000000</td>\n",
       "      <td>402.500000</td>\n",
       "      <td>406.000000</td>\n",
       "    </tr>\n",
       "    <tr>\n",
       "      <th>75%</th>\n",
       "      <td>1.000000</td>\n",
       "      <td>267.381804</td>\n",
       "      <td>265.464466</td>\n",
       "      <td>264.656250</td>\n",
       "      <td>264.677419</td>\n",
       "      <td>263.296875</td>\n",
       "      <td>405.000000</td>\n",
       "      <td>423.000000</td>\n",
       "      <td>414.500000</td>\n",
       "      <td>416.500000</td>\n",
       "      <td>406.000000</td>\n",
       "    </tr>\n",
       "    <tr>\n",
       "      <th>max</th>\n",
       "      <td>2.000000</td>\n",
       "      <td>272.225806</td>\n",
       "      <td>274.032258</td>\n",
       "      <td>272.806452</td>\n",
       "      <td>277.258064</td>\n",
       "      <td>271.806452</td>\n",
       "      <td>423.000000</td>\n",
       "      <td>433.000000</td>\n",
       "      <td>427.000000</td>\n",
       "      <td>425.000000</td>\n",
       "      <td>408.000000</td>\n",
       "    </tr>\n",
       "  </tbody>\n",
       "</table>\n",
       "</div>"
      ],
      "text/plain": [
       "         Y_Class      X_1167      X_1168      X_1169      X_1170      X_1171  \\\n",
       "count  26.000000   26.000000   26.000000   26.000000   26.000000   26.000000   \n",
       "mean    1.038462  262.212663  261.809980  261.846425  261.794781  261.374806   \n",
       "std     0.662164    6.340082    6.412649    6.139415    7.173431    5.672140   \n",
       "min     0.000000  248.625000  251.000000  250.218750  247.562500  249.875000   \n",
       "25%     1.000000  258.943548  256.669355  258.612903  257.048387  256.927419   \n",
       "50%     1.000000  260.403226  260.838710  260.129032  259.645161  259.870968   \n",
       "75%     1.000000  267.381804  265.464466  264.656250  264.677419  263.296875   \n",
       "max     2.000000  272.225806  274.032258  272.806452  277.258064  271.806452   \n",
       "\n",
       "           X_1274      X_1275      X_1276      X_1277      X_1278  \n",
       "count   26.000000   26.000000   26.000000   26.000000   26.000000  \n",
       "mean   405.576923  414.153846  409.269231  407.961538  404.500000  \n",
       "std      3.817571    9.890166    8.402655    9.929676    2.404163  \n",
       "min    401.000000  403.000000  400.000000  399.000000  400.000000  \n",
       "25%    405.000000  405.000000  405.000000  400.000000  402.000000  \n",
       "50%    405.000000  415.500000  405.000000  402.500000  406.000000  \n",
       "75%    405.000000  423.000000  414.500000  416.500000  406.000000  \n",
       "max    423.000000  433.000000  427.000000  425.000000  408.000000  "
      ]
     },
     "execution_count": 80,
     "metadata": {},
     "output_type": "execute_result"
    }
   ],
   "source": [
    "line_pc[0][['Y_Class', 'X_1167', 'X_1168', 'X_1169', 'X_1170', 'X_1171', 'X_1274', 'X_1275',\n",
    "       'X_1276', 'X_1277', 'X_1278']].dropna().describe()"
   ]
  }
 ],
 "metadata": {
  "kernelspec": {
   "display_name": "base",
   "language": "python",
   "name": "python3"
  },
  "language_info": {
   "codemirror_mode": {
    "name": "ipython",
    "version": 3
   },
   "file_extension": ".py",
   "mimetype": "text/x-python",
   "name": "python",
   "nbconvert_exporter": "python",
   "pygments_lexer": "ipython3",
   "version": "3.10.9"
  },
  "orig_nbformat": 4,
  "vscode": {
   "interpreter": {
    "hash": "9acc76a459d7db86261bc3c0fc1f5dcdadf57ce90dda3656ef3156477f1c2288"
   }
  }
 },
 "nbformat": 4,
 "nbformat_minor": 2
}
