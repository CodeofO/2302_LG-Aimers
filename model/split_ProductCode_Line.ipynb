{
 "cells": [
  {
   "attachments": {},
   "cell_type": "markdown",
   "metadata": {},
   "source": [
    "# SPLIT !   \n",
    "LINE & PRODUCT CODE"
   ]
  },
  {
   "attachments": {},
   "cell_type": "markdown",
   "metadata": {},
   "source": [
    "## 1️⃣ Load Data"
   ]
  },
  {
   "cell_type": "code",
   "execution_count": 23,
   "metadata": {},
   "outputs": [],
   "source": [
    "import pandas as pd\n",
    "import random\n",
    "import os\n",
    "import numpy as np\n",
    "import warnings\n",
    "warnings.filterwarnings('ignore')\n",
    "\n",
    "def seed_everything(seed):\n",
    "    random.seed(seed)\n",
    "    os.environ['PYTHONHASHSEED'] = str(seed)\n",
    "    np.random.seed(seed)\n",
    "seed_everything(37) # Seed 고정\n",
    "\n",
    "train_df = pd.read_csv('./train.csv')\n",
    "test_df = pd.read_csv('./test.csv')\n",
    "\n",
    "#train_x = train_df.drop(columns=['PRODUCT_ID', 'Y_Class', 'TIMESTAMP'])\n",
    "train_x = train_df.drop(columns=['PRODUCT_ID', 'Y_Quality', 'TIMESTAMP'])\n",
    "train_y = train_df['Y_Class']\n",
    "\n",
    "test_x = test_df.drop(columns=['PRODUCT_ID', 'TIMESTAMP'])"
   ]
  },
  {
   "attachments": {},
   "cell_type": "markdown",
   "metadata": {},
   "source": [
    "### 1)_make : ingnore 'Y_Quality'"
   ]
  },
  {
   "cell_type": "code",
   "execution_count": 24,
   "metadata": {},
   "outputs": [],
   "source": [
    "train_x_ig_YQ = train_df.drop(columns=['PRODUCT_ID', 'Y_Quality' ,'Y_Class', 'TIMESTAMP'])"
   ]
  },
  {
   "attachments": {},
   "cell_type": "markdown",
   "metadata": {},
   "source": [
    "## 2️⃣ Split "
   ]
  },
  {
   "cell_type": "code",
   "execution_count": 25,
   "metadata": {},
   "outputs": [
    {
     "data": {
      "text/html": [
       "<div>\n",
       "<style scoped>\n",
       "    .dataframe tbody tr th:only-of-type {\n",
       "        vertical-align: middle;\n",
       "    }\n",
       "\n",
       "    .dataframe tbody tr th {\n",
       "        vertical-align: top;\n",
       "    }\n",
       "\n",
       "    .dataframe thead th {\n",
       "        text-align: right;\n",
       "    }\n",
       "</style>\n",
       "<table border=\"1\" class=\"dataframe\">\n",
       "  <thead>\n",
       "    <tr style=\"text-align: right;\">\n",
       "      <th></th>\n",
       "      <th>Y_Class</th>\n",
       "      <th>LINE</th>\n",
       "      <th>PRODUCT_CODE</th>\n",
       "      <th>X_1</th>\n",
       "      <th>X_2</th>\n",
       "      <th>X_3</th>\n",
       "      <th>X_4</th>\n",
       "      <th>X_5</th>\n",
       "      <th>X_6</th>\n",
       "      <th>X_7</th>\n",
       "      <th>...</th>\n",
       "      <th>X_2866</th>\n",
       "      <th>X_2867</th>\n",
       "      <th>X_2868</th>\n",
       "      <th>X_2869</th>\n",
       "      <th>X_2870</th>\n",
       "      <th>X_2871</th>\n",
       "      <th>X_2872</th>\n",
       "      <th>X_2873</th>\n",
       "      <th>X_2874</th>\n",
       "      <th>X_2875</th>\n",
       "    </tr>\n",
       "  </thead>\n",
       "  <tbody>\n",
       "    <tr>\n",
       "      <th>0</th>\n",
       "      <td>1</td>\n",
       "      <td>T050304</td>\n",
       "      <td>A_31</td>\n",
       "      <td>NaN</td>\n",
       "      <td>NaN</td>\n",
       "      <td>NaN</td>\n",
       "      <td>NaN</td>\n",
       "      <td>NaN</td>\n",
       "      <td>NaN</td>\n",
       "      <td>NaN</td>\n",
       "      <td>...</td>\n",
       "      <td>39.34</td>\n",
       "      <td>40.89</td>\n",
       "      <td>32.56</td>\n",
       "      <td>34.09</td>\n",
       "      <td>77.77</td>\n",
       "      <td>NaN</td>\n",
       "      <td>NaN</td>\n",
       "      <td>NaN</td>\n",
       "      <td>NaN</td>\n",
       "      <td>NaN</td>\n",
       "    </tr>\n",
       "    <tr>\n",
       "      <th>1</th>\n",
       "      <td>2</td>\n",
       "      <td>T050307</td>\n",
       "      <td>A_31</td>\n",
       "      <td>NaN</td>\n",
       "      <td>NaN</td>\n",
       "      <td>NaN</td>\n",
       "      <td>NaN</td>\n",
       "      <td>NaN</td>\n",
       "      <td>NaN</td>\n",
       "      <td>NaN</td>\n",
       "      <td>...</td>\n",
       "      <td>38.89</td>\n",
       "      <td>42.82</td>\n",
       "      <td>43.92</td>\n",
       "      <td>35.34</td>\n",
       "      <td>72.55</td>\n",
       "      <td>NaN</td>\n",
       "      <td>NaN</td>\n",
       "      <td>NaN</td>\n",
       "      <td>NaN</td>\n",
       "      <td>NaN</td>\n",
       "    </tr>\n",
       "    <tr>\n",
       "      <th>2</th>\n",
       "      <td>1</td>\n",
       "      <td>T050304</td>\n",
       "      <td>A_31</td>\n",
       "      <td>NaN</td>\n",
       "      <td>NaN</td>\n",
       "      <td>NaN</td>\n",
       "      <td>NaN</td>\n",
       "      <td>NaN</td>\n",
       "      <td>NaN</td>\n",
       "      <td>NaN</td>\n",
       "      <td>...</td>\n",
       "      <td>39.19</td>\n",
       "      <td>36.65</td>\n",
       "      <td>42.47</td>\n",
       "      <td>36.53</td>\n",
       "      <td>78.35</td>\n",
       "      <td>NaN</td>\n",
       "      <td>NaN</td>\n",
       "      <td>NaN</td>\n",
       "      <td>NaN</td>\n",
       "      <td>NaN</td>\n",
       "    </tr>\n",
       "    <tr>\n",
       "      <th>3</th>\n",
       "      <td>2</td>\n",
       "      <td>T050307</td>\n",
       "      <td>A_31</td>\n",
       "      <td>NaN</td>\n",
       "      <td>NaN</td>\n",
       "      <td>NaN</td>\n",
       "      <td>NaN</td>\n",
       "      <td>NaN</td>\n",
       "      <td>NaN</td>\n",
       "      <td>NaN</td>\n",
       "      <td>...</td>\n",
       "      <td>37.74</td>\n",
       "      <td>39.17</td>\n",
       "      <td>52.17</td>\n",
       "      <td>30.58</td>\n",
       "      <td>71.78</td>\n",
       "      <td>NaN</td>\n",
       "      <td>NaN</td>\n",
       "      <td>NaN</td>\n",
       "      <td>NaN</td>\n",
       "      <td>NaN</td>\n",
       "    </tr>\n",
       "    <tr>\n",
       "      <th>4</th>\n",
       "      <td>1</td>\n",
       "      <td>T050304</td>\n",
       "      <td>A_31</td>\n",
       "      <td>NaN</td>\n",
       "      <td>NaN</td>\n",
       "      <td>NaN</td>\n",
       "      <td>NaN</td>\n",
       "      <td>NaN</td>\n",
       "      <td>NaN</td>\n",
       "      <td>NaN</td>\n",
       "      <td>...</td>\n",
       "      <td>38.70</td>\n",
       "      <td>41.89</td>\n",
       "      <td>46.93</td>\n",
       "      <td>33.09</td>\n",
       "      <td>76.97</td>\n",
       "      <td>NaN</td>\n",
       "      <td>NaN</td>\n",
       "      <td>NaN</td>\n",
       "      <td>NaN</td>\n",
       "      <td>NaN</td>\n",
       "    </tr>\n",
       "    <tr>\n",
       "      <th>...</th>\n",
       "      <td>...</td>\n",
       "      <td>...</td>\n",
       "      <td>...</td>\n",
       "      <td>...</td>\n",
       "      <td>...</td>\n",
       "      <td>...</td>\n",
       "      <td>...</td>\n",
       "      <td>...</td>\n",
       "      <td>...</td>\n",
       "      <td>...</td>\n",
       "      <td>...</td>\n",
       "      <td>...</td>\n",
       "      <td>...</td>\n",
       "      <td>...</td>\n",
       "      <td>...</td>\n",
       "      <td>...</td>\n",
       "      <td>...</td>\n",
       "      <td>...</td>\n",
       "      <td>...</td>\n",
       "      <td>...</td>\n",
       "      <td>...</td>\n",
       "    </tr>\n",
       "    <tr>\n",
       "      <th>593</th>\n",
       "      <td>1</td>\n",
       "      <td>T100306</td>\n",
       "      <td>T_31</td>\n",
       "      <td>2.0</td>\n",
       "      <td>95.0</td>\n",
       "      <td>0.0</td>\n",
       "      <td>45.0</td>\n",
       "      <td>10.0</td>\n",
       "      <td>0.0</td>\n",
       "      <td>50.0</td>\n",
       "      <td>...</td>\n",
       "      <td>NaN</td>\n",
       "      <td>NaN</td>\n",
       "      <td>NaN</td>\n",
       "      <td>NaN</td>\n",
       "      <td>NaN</td>\n",
       "      <td>NaN</td>\n",
       "      <td>NaN</td>\n",
       "      <td>NaN</td>\n",
       "      <td>NaN</td>\n",
       "      <td>NaN</td>\n",
       "    </tr>\n",
       "    <tr>\n",
       "      <th>594</th>\n",
       "      <td>0</td>\n",
       "      <td>T050304</td>\n",
       "      <td>A_31</td>\n",
       "      <td>NaN</td>\n",
       "      <td>NaN</td>\n",
       "      <td>NaN</td>\n",
       "      <td>NaN</td>\n",
       "      <td>NaN</td>\n",
       "      <td>NaN</td>\n",
       "      <td>NaN</td>\n",
       "      <td>...</td>\n",
       "      <td>49.47</td>\n",
       "      <td>53.07</td>\n",
       "      <td>50.89</td>\n",
       "      <td>55.10</td>\n",
       "      <td>66.49</td>\n",
       "      <td>1.0</td>\n",
       "      <td>NaN</td>\n",
       "      <td>NaN</td>\n",
       "      <td>NaN</td>\n",
       "      <td>NaN</td>\n",
       "    </tr>\n",
       "    <tr>\n",
       "      <th>595</th>\n",
       "      <td>0</td>\n",
       "      <td>T050304</td>\n",
       "      <td>A_31</td>\n",
       "      <td>NaN</td>\n",
       "      <td>NaN</td>\n",
       "      <td>NaN</td>\n",
       "      <td>NaN</td>\n",
       "      <td>NaN</td>\n",
       "      <td>NaN</td>\n",
       "      <td>NaN</td>\n",
       "      <td>...</td>\n",
       "      <td>NaN</td>\n",
       "      <td>NaN</td>\n",
       "      <td>NaN</td>\n",
       "      <td>NaN</td>\n",
       "      <td>NaN</td>\n",
       "      <td>1.0</td>\n",
       "      <td>NaN</td>\n",
       "      <td>NaN</td>\n",
       "      <td>NaN</td>\n",
       "      <td>NaN</td>\n",
       "    </tr>\n",
       "    <tr>\n",
       "      <th>596</th>\n",
       "      <td>1</td>\n",
       "      <td>T100304</td>\n",
       "      <td>O_31</td>\n",
       "      <td>40.0</td>\n",
       "      <td>94.0</td>\n",
       "      <td>0.0</td>\n",
       "      <td>45.0</td>\n",
       "      <td>11.0</td>\n",
       "      <td>0.0</td>\n",
       "      <td>45.0</td>\n",
       "      <td>...</td>\n",
       "      <td>NaN</td>\n",
       "      <td>NaN</td>\n",
       "      <td>NaN</td>\n",
       "      <td>NaN</td>\n",
       "      <td>NaN</td>\n",
       "      <td>NaN</td>\n",
       "      <td>NaN</td>\n",
       "      <td>NaN</td>\n",
       "      <td>NaN</td>\n",
       "      <td>NaN</td>\n",
       "    </tr>\n",
       "    <tr>\n",
       "      <th>597</th>\n",
       "      <td>1</td>\n",
       "      <td>T100306</td>\n",
       "      <td>O_31</td>\n",
       "      <td>21.0</td>\n",
       "      <td>87.0</td>\n",
       "      <td>0.0</td>\n",
       "      <td>45.0</td>\n",
       "      <td>10.0</td>\n",
       "      <td>0.0</td>\n",
       "      <td>61.0</td>\n",
       "      <td>...</td>\n",
       "      <td>NaN</td>\n",
       "      <td>NaN</td>\n",
       "      <td>NaN</td>\n",
       "      <td>NaN</td>\n",
       "      <td>NaN</td>\n",
       "      <td>NaN</td>\n",
       "      <td>NaN</td>\n",
       "      <td>NaN</td>\n",
       "      <td>NaN</td>\n",
       "      <td>NaN</td>\n",
       "    </tr>\n",
       "  </tbody>\n",
       "</table>\n",
       "<p>598 rows × 2878 columns</p>\n",
       "</div>"
      ],
      "text/plain": [
       "     Y_Class     LINE PRODUCT_CODE   X_1   X_2  X_3   X_4   X_5  X_6   X_7  \\\n",
       "0          1  T050304         A_31   NaN   NaN  NaN   NaN   NaN  NaN   NaN   \n",
       "1          2  T050307         A_31   NaN   NaN  NaN   NaN   NaN  NaN   NaN   \n",
       "2          1  T050304         A_31   NaN   NaN  NaN   NaN   NaN  NaN   NaN   \n",
       "3          2  T050307         A_31   NaN   NaN  NaN   NaN   NaN  NaN   NaN   \n",
       "4          1  T050304         A_31   NaN   NaN  NaN   NaN   NaN  NaN   NaN   \n",
       "..       ...      ...          ...   ...   ...  ...   ...   ...  ...   ...   \n",
       "593        1  T100306         T_31   2.0  95.0  0.0  45.0  10.0  0.0  50.0   \n",
       "594        0  T050304         A_31   NaN   NaN  NaN   NaN   NaN  NaN   NaN   \n",
       "595        0  T050304         A_31   NaN   NaN  NaN   NaN   NaN  NaN   NaN   \n",
       "596        1  T100304         O_31  40.0  94.0  0.0  45.0  11.0  0.0  45.0   \n",
       "597        1  T100306         O_31  21.0  87.0  0.0  45.0  10.0  0.0  61.0   \n",
       "\n",
       "     ...  X_2866  X_2867  X_2868  X_2869  X_2870  X_2871  X_2872  X_2873  \\\n",
       "0    ...   39.34   40.89   32.56   34.09   77.77     NaN     NaN     NaN   \n",
       "1    ...   38.89   42.82   43.92   35.34   72.55     NaN     NaN     NaN   \n",
       "2    ...   39.19   36.65   42.47   36.53   78.35     NaN     NaN     NaN   \n",
       "3    ...   37.74   39.17   52.17   30.58   71.78     NaN     NaN     NaN   \n",
       "4    ...   38.70   41.89   46.93   33.09   76.97     NaN     NaN     NaN   \n",
       "..   ...     ...     ...     ...     ...     ...     ...     ...     ...   \n",
       "593  ...     NaN     NaN     NaN     NaN     NaN     NaN     NaN     NaN   \n",
       "594  ...   49.47   53.07   50.89   55.10   66.49     1.0     NaN     NaN   \n",
       "595  ...     NaN     NaN     NaN     NaN     NaN     1.0     NaN     NaN   \n",
       "596  ...     NaN     NaN     NaN     NaN     NaN     NaN     NaN     NaN   \n",
       "597  ...     NaN     NaN     NaN     NaN     NaN     NaN     NaN     NaN   \n",
       "\n",
       "     X_2874  X_2875  \n",
       "0       NaN     NaN  \n",
       "1       NaN     NaN  \n",
       "2       NaN     NaN  \n",
       "3       NaN     NaN  \n",
       "4       NaN     NaN  \n",
       "..      ...     ...  \n",
       "593     NaN     NaN  \n",
       "594     NaN     NaN  \n",
       "595     NaN     NaN  \n",
       "596     NaN     NaN  \n",
       "597     NaN     NaN  \n",
       "\n",
       "[598 rows x 2878 columns]"
      ]
     },
     "execution_count": 25,
     "metadata": {},
     "output_type": "execute_result"
    }
   ],
   "source": [
    "train_x"
   ]
  },
  {
   "attachments": {},
   "cell_type": "markdown",
   "metadata": {},
   "source": [
    "### 1._Line"
   ]
  },
  {
   "cell_type": "code",
   "execution_count": 26,
   "metadata": {},
   "outputs": [
    {
     "name": "stdout",
     "output_type": "stream",
     "text": [
      "done\n"
     ]
    }
   ],
   "source": [
    "def split_PC(train_df, test_df, train_x, test_x):\n",
    "\n",
    "    line_v = sorted(train_df['LINE'].value_counts().index)\n",
    "\n",
    "    # train\n",
    "    for idx, i in enumerate(line_v):\n",
    "        globals()['l{}'.format(idx+1)]=train_x[train_x['LINE']==i]\n",
    "\n",
    "    # train y\n",
    "    for idx, i in enumerate(line_v):\n",
    "        globals()['l{}_y'.format(idx+1)]=train_x['Y_Class'][train_x['LINE']==i]\n",
    "\n",
    "    # test\n",
    "    for idx, i in enumerate(line_v):\n",
    "        globals()['l{}_test'.format(idx+1)]=test_x[test_x['LINE']==i]\n",
    "\n",
    "    print('done')\n",
    "\n",
    "split_PC(train_df, test_df, train_x, test_x)"
   ]
  },
  {
   "cell_type": "code",
   "execution_count": 27,
   "metadata": {},
   "outputs": [
    {
     "name": "stdout",
     "output_type": "stream",
     "text": [
      "#### RATE : one line / all ####\n",
      "\n",
      "l1 : 0.09866220735785954 \n",
      "\n",
      "l2 : 0.11705685618729098 \n",
      "\n",
      "l3 : 0.13043478260869565 \n",
      "\n",
      "l4 : 0.07023411371237458 \n",
      "\n",
      "l6 : 0.2909698996655518 \n",
      "\n",
      "l5 : 0.29264214046822745 \n",
      "\n"
     ]
    }
   ],
   "source": [
    "print('#### RATE : one line / all ####\\n')\n",
    "\n",
    "print('l1 :', l1.shape[0] / train_x.shape[0], '\\n')\n",
    "print('l2 :', l2.shape[0] / train_x.shape[0], '\\n')\n",
    "print('l3 :', l3.shape[0] / train_x.shape[0], '\\n')\n",
    "print('l4 :', l4.shape[0] / train_x.shape[0], '\\n')\n",
    "print('l6 :', l6.shape[0] / train_x.shape[0], '\\n')\n",
    "print('l5 :', l5.shape[0] / train_x.shape[0], '\\n')"
   ]
  },
  {
   "attachments": {},
   "cell_type": "markdown",
   "metadata": {},
   "source": [
    "### 2._Product Code"
   ]
  },
  {
   "cell_type": "code",
   "execution_count": 28,
   "metadata": {},
   "outputs": [
    {
     "name": "stdout",
     "output_type": "stream",
     "text": [
      "done\n"
     ]
    }
   ],
   "source": [
    "def split_PC(traindf, test_df):\n",
    "\n",
    "    pc_v = sorted(train_df['PRODUCT_CODE'].value_counts().index)\n",
    "\n",
    "    # train\n",
    "    for idx, i in enumerate(pc_v):\n",
    "        globals()['pc{}'.format(idx+1)]=train_x[train_x['PRODUCT_CODE']==i]\n",
    "\n",
    "    # train y\n",
    "    for idx, i in enumerate(pc_v):\n",
    "        globals()['pc{}_y'.format(idx+1)]=train_x['Y_Class'][train_x['PRODUCT_CODE']==i]\n",
    "\n",
    "    # test\n",
    "    for idx, i in enumerate(pc_v):\n",
    "        globals()['pc{}_test'.format(idx+1)]=test_x[test_x['PRODUCT_CODE']==i]\n",
    "\n",
    "    print('done')\n",
    "split_PC(train_df, test_df)"
   ]
  },
  {
   "cell_type": "code",
   "execution_count": 29,
   "metadata": {},
   "outputs": [
    {
     "name": "stdout",
     "output_type": "stream",
     "text": [
      "#### RATE : one PRODUCT_CODE / all ####\n",
      "\n",
      "pc1 : 0.41638795986622074 \n",
      "\n",
      "pc2 : 0.010033444816053512 \n",
      "\n",
      "pc3 : 0.5735785953177257 \n",
      "\n"
     ]
    }
   ],
   "source": [
    "print('#### RATE : one PRODUCT_CODE / all ####\\n')\n",
    "\n",
    "print('pc1 :', pc1.shape[0] / train_x.shape[0], '\\n')\n",
    "print('pc2 :', pc2.shape[0] / train_x.shape[0], '\\n')\n",
    "print('pc3 :', pc3.shape[0] / train_x.shape[0], '\\n')"
   ]
  },
  {
   "attachments": {},
   "cell_type": "markdown",
   "metadata": {},
   "source": [
    "## 3️⃣ analysis : splited line, product code"
   ]
  },
  {
   "attachments": {},
   "cell_type": "markdown",
   "metadata": {},
   "source": [
    "### 1)_Line"
   ]
  },
  {
   "attachments": {},
   "cell_type": "markdown",
   "metadata": {},
   "source": [
    "#### (1)_null : col"
   ]
  },
  {
   "cell_type": "code",
   "execution_count": 30,
   "metadata": {},
   "outputs": [
    {
     "name": "stdout",
     "output_type": "stream",
     "text": [
      "### line 1 : 59개 제조 ###\n",
      "null개수 col개수\n",
      "59    1989\n",
      "33      10\n",
      "58       5\n",
      "Name: null, dtype: int64 \n",
      "\n",
      "\n",
      "### line 2 : 70개 제조 ###\n",
      "null개수 col개수\n",
      "70    1989\n",
      "40      10\n",
      "69       5\n",
      "Name: null, dtype: int64 \n",
      "\n",
      "\n",
      "### line 3 : 78개 제조 ###\n",
      "null개수 col개수\n",
      "78    907\n",
      "39    420\n",
      "2     395\n",
      "1     142\n",
      "59     60\n",
      "11     27\n",
      "54     10\n",
      "74      5\n",
      "7       3\n",
      "14      1\n",
      "12      1\n",
      "52      1\n",
      "Name: null, dtype: int64 \n",
      "\n",
      "\n",
      "### line 4 : 42개 제조 ###\n",
      "null개수 col개수\n",
      "42    900\n",
      "19    422\n",
      "28     70\n",
      "9      26\n",
      "3       3\n",
      "2       1\n",
      "4       1\n",
      "16      1\n",
      "10      1\n",
      "Name: null, dtype: int64 \n",
      "\n",
      "\n",
      "### line 5 : 175개 제조 ###\n",
      "null개수 col개수\n",
      "175    2204\n",
      "1       420\n",
      "126      10\n",
      "173       5\n",
      "Name: null, dtype: int64 \n",
      "\n",
      "\n",
      "### line 6 : 174개 제조 ###\n",
      "null개수 col개수\n",
      "174    2204\n",
      "136      10\n",
      "166       5\n",
      "Name: null, dtype: int64 \n",
      "\n",
      "\n"
     ]
    }
   ],
   "source": [
    "for idx, l in enumerate([l1, l2, l3, l4, l5, l6]):\n",
    "    print('### line {0} : {1}개 제조 ###'.format(idx+1, len(l)))\n",
    "    print('null개수 col개수')\n",
    "    l1_null_df = pd.DataFrame(data=l.isnull().sum().keys(), columns=['col'])\n",
    "    l1_null_df['null'] = l.isnull().sum().values\n",
    "    print(l1_null_df[l1_null_df['null'] != 0]['null'].value_counts(), '\\n\\n')"
   ]
  },
  {
   "attachments": {},
   "cell_type": "markdown",
   "metadata": {},
   "source": [
    "#### (2)_Y Class"
   ]
  },
  {
   "cell_type": "code",
   "execution_count": 31,
   "metadata": {},
   "outputs": [
    {
     "name": "stdout",
     "output_type": "stream",
     "text": [
      "#### Line별 Y Class 비율 ####\n",
      "\n",
      "\n",
      "## line 1 ##\n",
      "y = 0 : 22.0%\n",
      "y = 1 : 59.3%\n",
      "y = 2 : 18.6%\n",
      "\n",
      "\n",
      "## line 2 ##\n",
      "y = 0 : 8.6%\n",
      "y = 1 : 52.9%\n",
      "y = 2 : 38.6%\n",
      "\n",
      "\n",
      "## line 3 ##\n",
      "y = 0 : 38.5%\n",
      "y = 1 : 47.4%\n",
      "y = 2 : 14.1%\n",
      "\n",
      "\n",
      "## line 4 ##\n",
      "y = 0 : 26.2%\n",
      "y = 1 : 21.4%\n",
      "y = 2 : 52.4%\n",
      "\n",
      "\n",
      "## line 5 ##\n",
      "y = 0 : 9.7%\n",
      "y = 1 : 82.3%\n",
      "y = 2 : 8.0%\n",
      "\n",
      "\n",
      "## line 6 ##\n",
      "y = 0 : 6.3%\n",
      "y = 1 : 83.3%\n",
      "y = 2 : 10.3%\n"
     ]
    }
   ],
   "source": [
    "print('#### Line별 Y Class 비율 ####')\n",
    "\n",
    "for idx, l in enumerate([l1, l2, l3, l4, l5, l6]):\n",
    "    print('\\n\\n## line {} ##'.format(idx+1))\n",
    "    for idxy, y in enumerate([0,1,2]):\n",
    "        print('y = {0} : {1}%'.format(idxy, round(len(l[l['Y_Class']==y]) / len(l) * 100, 1)))"
   ]
  },
  {
   "attachments": {},
   "cell_type": "markdown",
   "metadata": {},
   "source": [
    "#### (3)_Product Code"
   ]
  },
  {
   "cell_type": "code",
   "execution_count": 32,
   "metadata": {},
   "outputs": [
    {
     "name": "stdout",
     "output_type": "stream",
     "text": [
      "#### Line별 Product Code 비율 ####\n",
      "\n",
      "\n",
      "## line 1 ##\n",
      "product code = A_31 : 100.0%\n",
      "\n",
      "\n",
      "## line 2 ##\n",
      "product code = A_31 : 100.0%\n",
      "\n",
      "\n",
      "## line 3 ##\n",
      "product code = A_31 : 100.0%\n",
      "\n",
      "\n",
      "## line 4 ##\n",
      "product code = A_31 : 100.0%\n",
      "\n",
      "\n",
      "## line 5 ##\n",
      "product code = T_31 : 98.3%\n",
      "product code = O_31 : 1.7%\n",
      "\n",
      "\n",
      "## line 6 ##\n",
      "product code = T_31 : 98.3%\n",
      "product code = O_31 : 1.7%\n"
     ]
    }
   ],
   "source": [
    "print('#### Line별 Product Code 비율 ####')\n",
    "\n",
    "for idx, l in enumerate([l1, l2, l3, l4, l5, l6]):\n",
    "    print('\\n\\n## line {} ##'.format(idx+1))\n",
    "    \n",
    "    vc = l['PRODUCT_CODE'].value_counts()\n",
    "\n",
    "    for idxy, y in enumerate(vc.index):\n",
    "        print('product code = {0} : {1}%'.format(y, round(len(l[l['PRODUCT_CODE']==y]) / len(l) * 100, 1)))"
   ]
  },
  {
   "attachments": {},
   "cell_type": "markdown",
   "metadata": {},
   "source": [
    "### 2)_Product Code"
   ]
  },
  {
   "attachments": {},
   "cell_type": "markdown",
   "metadata": {},
   "source": [
    "#### (1)_null : col"
   ]
  },
  {
   "cell_type": "code",
   "execution_count": 33,
   "metadata": {},
   "outputs": [
    {
     "name": "stdout",
     "output_type": "stream",
     "text": [
      "#### len product code 1 : 249 ####\n",
      "\n",
      "null개수 col개수\n",
      "249    759\n",
      "129    658\n",
      "187    416\n",
      "2      368\n",
      "1      139\n",
      "120    113\n",
      "216     60\n",
      "131     27\n",
      "149     26\n",
      "207     13\n",
      "155     10\n",
      "179      8\n",
      "190      8\n",
      "226      6\n",
      "243      5\n",
      "210      4\n",
      "171      3\n",
      "130      3\n",
      "139      3\n",
      "145      1\n",
      "16       1\n",
      "197      1\n",
      "150      1\n",
      "Name: null, dtype: int64 \n",
      "\n",
      "\n",
      "\n",
      "#### len product code 2 : 6 ####\n",
      "\n",
      "null개수 col개수\n",
      "6    2208\n",
      "3      12\n",
      "4       5\n",
      "Name: null, dtype: int64 \n",
      "\n",
      "\n",
      "\n",
      "#### len product code 3 : 343 ####\n",
      "\n",
      "null개수 col개수\n",
      "343    2198\n",
      "1       420\n",
      "256      10\n",
      "171       6\n",
      "172       6\n",
      "335       5\n",
      "Name: null, dtype: int64 \n",
      "\n",
      "\n",
      "\n"
     ]
    }
   ],
   "source": [
    "for idx, l in enumerate([pc1, pc2, pc3]):\n",
    "    print('#### len product code {0} : {1} ####\\n'.format(idx+1, len(l)))\n",
    "    print('null개수 col개수')\n",
    "    l1_null_df = pd.DataFrame(data=l.isnull().sum().keys(), columns=['col'])\n",
    "    l1_null_df['null'] = l.isnull().sum().values\n",
    "    print(l1_null_df[l1_null_df['null'] != 0]['null'].value_counts(), '\\n\\n\\n')"
   ]
  },
  {
   "attachments": {},
   "cell_type": "markdown",
   "metadata": {},
   "source": [
    "#### (2)_Y Class"
   ]
  },
  {
   "cell_type": "code",
   "execution_count": 34,
   "metadata": {},
   "outputs": [
    {
     "name": "stdout",
     "output_type": "stream",
     "text": [
      "#### Line별 Y Class 비율 ####\n",
      "\n",
      "\n",
      "## product code1 ##\n",
      "y=0 : 24.1%\n",
      "y=1 : 47.4%\n",
      "y=2 : 28.5%\n",
      "\n",
      "\n",
      "## product code2 ##\n",
      "y=0 : 0.0%\n",
      "y=1 : 66.7%\n",
      "y=2 : 33.3%\n",
      "\n",
      "\n",
      "## product code3 ##\n",
      "y=0 : 8.2%\n",
      "y=1 : 83.1%\n",
      "y=2 : 8.7%\n"
     ]
    }
   ],
   "source": [
    "print('#### Line별 Y Class 비율 ####')\n",
    "\n",
    "for idx, l in enumerate([pc1, pc2, pc3]):\n",
    "    print('\\n\\n## product code{} ##'.format(idx+1))\n",
    "    for idxy, y in enumerate([0,1,2]):\n",
    "        print('y={0} : {1}%'.format(idxy, round(len(l[l['Y_Class']==y]) / len(l) * 100, 1)))"
   ]
  },
  {
   "attachments": {},
   "cell_type": "markdown",
   "metadata": {},
   "source": [
    "#### (3)_Line"
   ]
  },
  {
   "cell_type": "code",
   "execution_count": 35,
   "metadata": {},
   "outputs": [
    {
     "name": "stdout",
     "output_type": "stream",
     "text": [
      "#### PRODUCT_CODE Product Code 비율 ####\n",
      "\n",
      "\n",
      "## Product Code 1 ##\n",
      "line = T050304 : 31.3%\n",
      "line = T010306 : 28.1%\n",
      "line = T010305 : 23.7%\n",
      "line = T050307 : 16.9%\n",
      "\n",
      "\n",
      "## Product Code 2 ##\n",
      "line = T100304 : 50.0%\n",
      "line = T100306 : 50.0%\n",
      "\n",
      "\n",
      "## Product Code 3 ##\n",
      "line = T100304 : 50.1%\n",
      "line = T100306 : 49.9%\n"
     ]
    }
   ],
   "source": [
    "print('#### PRODUCT_CODE Product Code 비율 ####')\n",
    "\n",
    "for idx, l in enumerate([pc1, pc2, pc3]):\n",
    "    print('\\n\\n## Product Code {} ##'.format(idx+1))\n",
    "    \n",
    "    vc = l['LINE'].value_counts()\n",
    "\n",
    "    for idxy, y in enumerate(vc.index):\n",
    "        print('line = {0} : {1}%'.format(y, round(len(l[l['LINE']==y]) / len(l) * 100, 1)))"
   ]
  },
  {
   "attachments": {},
   "cell_type": "markdown",
   "metadata": {},
   "source": [
    "#### 🌟 RESULT  \n",
    "\n",
    "x column 들의 결측 정도가 line으로 나누었을 때 보다, Product_code로 나누었을 때 더 명확하게 나왔음.  \n",
    "  \n",
    "따라서 Product_code로 확인 후 row에 대해서 결측치가 40% 이상 발견되는 column 은 삭제 후 학습"
   ]
  },
  {
   "attachments": {},
   "cell_type": "markdown",
   "metadata": {},
   "source": [
    "## 4️⃣ Preproccesing"
   ]
  },
  {
   "attachments": {},
   "cell_type": "markdown",
   "metadata": {},
   "source": [
    "### 1)_Line"
   ]
  },
  {
   "cell_type": "code",
   "execution_count": 36,
   "metadata": {},
   "outputs": [
    {
     "name": "stdout",
     "output_type": "stream",
     "text": [
      "done\n"
     ]
    }
   ],
   "source": [
    "all_line_list = [l1, l2, l3, l4, l5, l6, l1_test, l2_test, l3_test, l4_test, l5_test, l6_test]\n",
    "train_line_list = [l1, l2, l3, l4, l5, l6]\n",
    "\n",
    "\n",
    "def line_fillna(all, train):\n",
    "\n",
    "    # train drop : Y_Class\n",
    "    for l in train:\n",
    "        l.drop(['Y_Class'], axis=1, inplace=True)\n",
    "    \n",
    "    \n",
    "    # fillna : 0\n",
    "    for l in all:\n",
    "        l.fillna(0, inplace=True)\n",
    "\n",
    "    # MinMaxScaler\n",
    "#    from sklearn.preprocessing import MinMaxScaler\n",
    "    \n",
    "#    for l in all:\n",
    "#        mmx = MinMaxScaler()\n",
    "#        mmx.fit(l)\n",
    "#        l = mmx.transform(l)\n",
    "        \n",
    "\n",
    "    # labelEncorder\n",
    "    from sklearn.preprocessing import LabelEncoder\n",
    "\n",
    "        # 1) Line\n",
    "    for l in all:\n",
    "        le = LabelEncoder()\n",
    "        le.fit(['T100304', 'T100306', 'T050304', 'T010306', 'T010305', 'T050307'])\n",
    "        l['LINE'] = le.transform(l['LINE'])\n",
    "        \n",
    "        # 2) PRODUCT_CODE\n",
    "    for l in all:\n",
    "        le = LabelEncoder()\n",
    "        le.fit(['T_31', 'A_31', 'O_31'])\n",
    "        l['PRODUCT_CODE'] = le.transform(l['PRODUCT_CODE'])        \n",
    "\n",
    "    print('done')\n",
    "\n",
    "line_fillna(all_line_list, train_line_list)"
   ]
  },
  {
   "attachments": {},
   "cell_type": "markdown",
   "metadata": {},
   "source": [
    "### 2)_Product Code(보류)"
   ]
  },
  {
   "cell_type": "code",
   "execution_count": 37,
   "metadata": {},
   "outputs": [
    {
     "name": "stdout",
     "output_type": "stream",
     "text": [
      "done\n"
     ]
    }
   ],
   "source": [
    "all_pc_list = [pc1, pc2, pc3, pc1_test, pc2_test, pc3_test]\n",
    "train_pc_list = [pc1, pc2, pc3]\n",
    "\n",
    "def line_fillna(all, train):\n",
    "\n",
    "    # train drop : 'Y_Class', 'year','month', 'day'\n",
    "    for l in train:\n",
    "        l.drop(['Y_Class'], axis=1, inplace=True)\n",
    "        \n",
    "    \n",
    "    # fillna : 0\n",
    "    for l in all:\n",
    "        l.fillna(0, inplace=True)\n",
    "\n",
    "    # MinMaxScaler\n",
    "    from sklearn.preprocessing import MinMaxScaler\n",
    "    \n",
    "    #for l in all:\n",
    "    #    mmx = MinMaxScaler()\n",
    "    #    mmx.fit()\n",
    "    #    l['LINE'] = mmx.transform(l['LINE'])\n",
    "        \n",
    "\n",
    "    #for l in all:\n",
    "    #    mmx = MinMaxScaler()\n",
    "    #    mmx.fit(['T_31', 'A_31', 'O_31'])\n",
    "    #    l['PRODUCT_CODE'] = mmx.transform(l['PRODUCT_CODE'])\n",
    "\n",
    "\n",
    "    # labelEncorder\n",
    "    from sklearn.preprocessing import LabelEncoder\n",
    "\n",
    "    for l in all:\n",
    "        le = LabelEncoder()\n",
    "        le.fit(['T100304', 'T100306', 'T050304', 'T010306', 'T010305', 'T050307'])\n",
    "        l['LINE'] = le.transform(l['LINE'])\n",
    "        \n",
    "\n",
    "    for l in all:\n",
    "        le = LabelEncoder()\n",
    "        le.fit(['T_31', 'A_31', 'O_31'])\n",
    "        l['PRODUCT_CODE'] = le.transform(l['PRODUCT_CODE'])        \n",
    "    \n",
    "    #return l1, l2, l3, l4, l5, l6, l1_test, l2_test, l3_test, l4_test, l5_test, l6_test\n",
    "\n",
    "\n",
    "line_fillna(all_pc_list, train_pc_list)\n",
    "print('done')"
   ]
  },
  {
   "attachments": {},
   "cell_type": "markdown",
   "metadata": {},
   "source": [
    "## 5️⃣ Build model"
   ]
  },
  {
   "attachments": {},
   "cell_type": "markdown",
   "metadata": {},
   "source": [
    "### 1)_LINE"
   ]
  },
  {
   "cell_type": "code",
   "execution_count": 40,
   "metadata": {},
   "outputs": [],
   "source": [
    "train_x_line_list = [l1, l2, l3, l4, l5, l6]\n",
    "train_y_line_list = [l1_y, l2_y, l3_y, l4_y, l5_y, l6_y]\n",
    "test_line_list = [l1_test, l2_test, l3_test, l4_test, l5_test, l6_test]\n",
    "\n",
    "\n",
    "def line_model_fit_predeict(train_x_line_list):\n",
    "\n",
    "    from sklearn.ensemble import RandomForestClassifier\n",
    "\n",
    "    # 1) define model, 2) fit, 3) predict\n",
    "    for idx ,i in enumerate(train_x_line_list):\n",
    "        \n",
    "        # define model\n",
    "        rfc = RandomForestClassifier(random_state=42)\n",
    "        \n",
    "        # fit\n",
    "        rfc.fit(i, train_y_line_list[idx])\n",
    "\n",
    "        # predict\n",
    "        globals()['pred_l{}'.format(idx+1)] = rfc.predict(test_line_list[idx])\n",
    "        globals()['df_pred_l{}'.format(idx+1)] = pd.DataFrame(data = globals()['pred_l{}'.format(idx+1)],\n",
    "                                                            columns=['Y_Class'],\n",
    "                                                            index=test_line_list[idx].index)\n",
    "        \n",
    "\n",
    "    df_pred = [df_pred_l1, df_pred_l2, df_pred_l3, df_pred_l4, df_pred_l5, df_pred_l6]\n",
    "\n",
    "    submit_array = pd.concat(df_pred, axis=0).sort_index()\n",
    "\n",
    "    return submit_array\n",
    "\n",
    "\n",
    "#def submit_line():\n",
    "    \n",
    "submit_csv = pd.read_csv('./sample_submission.csv')\n",
    "submit_csv['Y_Class'] = line_model_fit_predeict(train_x_line_list)['Y_Class']\n",
    "submit_csv.to_csv('split_line_submission.csv', index=False)"
   ]
  },
  {
   "cell_type": "code",
   "execution_count": 41,
   "metadata": {},
   "outputs": [
    {
     "data": {
      "text/plain": [
       "1    283\n",
       "0     21\n",
       "2      6\n",
       "Name: Y_Class, dtype: int64"
      ]
     },
     "execution_count": 41,
     "metadata": {},
     "output_type": "execute_result"
    }
   ],
   "source": [
    "submit_csv['Y_Class'].value_counts()"
   ]
  },
  {
   "attachments": {},
   "cell_type": "markdown",
   "metadata": {},
   "source": [
    "### 2)_Product Code"
   ]
  },
  {
   "cell_type": "code",
   "execution_count": 42,
   "metadata": {},
   "outputs": [],
   "source": [
    "train_x_pc_list = [pc1, pc2, pc3]\n",
    "train_y_pc_list = [pc1_y, pc2_y, pc3_y]\n",
    "test_pc_list = [pc1_test, pc2_test, pc3_test]\n",
    "\n",
    "\n",
    "def PC_model_fit_predeict(train_x_pc_list):\n",
    "\n",
    "    from sklearn.ensemble import RandomForestClassifier\n",
    "\n",
    "    # 1) define model, 2) fit, 3) predict\n",
    "    for idx ,i in enumerate(train_x_pc_list):\n",
    "        \n",
    "        # define model\n",
    "        rfc = RandomForestClassifier(random_state=42)\n",
    "        \n",
    "        # fit\n",
    "        rfc.fit(i, train_y_pc_list[idx])\n",
    "\n",
    "        # predict\n",
    "        globals()['pred_pc{}'.format(idx+1)] = rfc.predict(test_pc_list[idx])\n",
    "        globals()['df_pred_pc{}'.format(idx+1)] = pd.DataFrame(data = globals()['pred_pc{}'.format(idx+1)],\n",
    "                                                            columns=['Y_Class'],\n",
    "                                                            index=test_pc_list[idx].index)\n",
    "        \n",
    "\n",
    "    df_pred = [df_pred_pc1, df_pred_pc2, df_pred_pc3]\n",
    "\n",
    "    submit_array = pd.concat(df_pred, axis=0).sort_index()\n",
    "\n",
    "    return submit_array\n",
    "\n",
    "\n",
    "#def submit_line():\n",
    "    \n",
    "submit_csv = pd.read_csv('./sample_submission.csv')\n",
    "submit_csv['Y_Class'] = PC_model_fit_predeict(train_x_pc_list)['Y_Class']\n",
    "submit_csv.to_csv('split_PC_submission.csv', index=False)"
   ]
  },
  {
   "cell_type": "code",
   "execution_count": 43,
   "metadata": {},
   "outputs": [
    {
     "data": {
      "text/plain": [
       "1    269\n",
       "0     41\n",
       "Name: Y_Class, dtype: int64"
      ]
     },
     "execution_count": 43,
     "metadata": {},
     "output_type": "execute_result"
    }
   ],
   "source": [
    "submit_csv['Y_Class'].value_counts()"
   ]
  }
 ],
 "metadata": {
  "kernelspec": {
   "display_name": "base",
   "language": "python",
   "name": "python3"
  },
  "language_info": {
   "codemirror_mode": {
    "name": "ipython",
    "version": 3
   },
   "file_extension": ".py",
   "mimetype": "text/x-python",
   "name": "python",
   "nbconvert_exporter": "python",
   "pygments_lexer": "ipython3",
   "version": "3.10.8"
  },
  "orig_nbformat": 4,
  "vscode": {
   "interpreter": {
    "hash": "9acc76a459d7db86261bc3c0fc1f5dcdadf57ce90dda3656ef3156477f1c2288"
   }
  }
 },
 "nbformat": 4,
 "nbformat_minor": 2
}
