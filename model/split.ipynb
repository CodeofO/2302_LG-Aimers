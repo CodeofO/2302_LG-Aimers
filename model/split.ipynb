{
 "cells": [
  {
   "attachments": {},
   "cell_type": "markdown",
   "metadata": {},
   "source": [
    "## 1️⃣ Load data"
   ]
  },
  {
   "cell_type": "code",
   "execution_count": 24,
   "metadata": {},
   "outputs": [
    {
     "name": "stdout",
     "output_type": "stream",
     "text": [
      "done\n",
      "done\n"
     ]
    }
   ],
   "source": [
    "import pandas as pd\n",
    "import random\n",
    "import os\n",
    "import numpy as np\n",
    "import warnings\n",
    "warnings.filterwarnings('ignore')\n",
    "\n",
    "def seed_everything(seed):\n",
    "    random.seed(seed)\n",
    "    os.environ['PYTHONHASHSEED'] = str(seed)\n",
    "    np.random.seed(seed)\n",
    "seed_everything(37) # Seed 고정\n",
    "\n",
    "train_df = pd.read_csv('./train.csv')\n",
    "test_df = pd.read_csv('./test.csv')\n",
    "\n",
    "train_time_df = train_df['TIMESTAMP']\n",
    "test_time_df = test_df['TIMESTAMP']\n",
    "\n",
    "\n",
    "\n",
    "#train_x = train_df.drop(columns=['PRODUCT_ID', 'Y_Class', 'TIMESTAMP'])\n",
    "train_x = train_df.drop(columns=['PRODUCT_ID', 'Y_Quality', 'TIMESTAMP'])\n",
    "train_y = train_df['Y_Class']\n",
    "\n",
    "test_x = test_df.drop(columns=['PRODUCT_ID', 'TIMESTAMP'])"
   ]
  },
  {
   "cell_type": "code",
   "execution_count": 23,
   "metadata": {},
   "outputs": [],
   "source": [
    "def split_PC(traindf, test_df):\n",
    "\n",
    "    pc_v = sorted(train_df['PRODUCT_CODE'].value_counts().index)\n",
    "\n",
    "    # train\n",
    "    for idx, i in enumerate(pc_v):\n",
    "        globals()['pc{}'.format(idx+1)]=train_x[train_x['PRODUCT_CODE']==i]\n",
    "\n",
    "    # train y\n",
    "    for idx, i in enumerate(pc_v):\n",
    "        globals()['pc{}_y'.format(idx+1)]=train_x['Y_Class'][train_x['PRODUCT_CODE']==i]\n",
    "\n",
    "    # test\n",
    "    for idx, i in enumerate(pc_v):\n",
    "        globals()['pc{}_test'.format(idx+1)]=test_x[test_x['PRODUCT_CODE']==i]\n",
    "\n",
    "    print('done')\n",
    "\n",
    "def split_line(train_df, test_df):\n",
    "\n",
    "    \n",
    "    line_v = sorted(train_df['LINE'].value_counts().index)\n",
    "\n",
    "    # train\n",
    "    for idx, i in enumerate(line_v):\n",
    "        globals()['l{}'.format(idx+1)]=train_x[train_x['LINE']==i]\n",
    "\n",
    "    # train y\n",
    "    for idx, i in enumerate(line_v):\n",
    "        globals()['l{}_y'.format(idx+1)]=train_x['Y_Class'][train_x['LINE']==i]\n",
    "\n",
    "    # test\n",
    "    for idx, i in enumerate(line_v):\n",
    "        globals()['l{}_test'.format(idx+1)]=test_x[test_x['LINE']==i]\n",
    "\n",
    "    print('done')\n",
    "\n",
    "split_PC(train_df, test_df)\n",
    "split_line(train_df, test_df)"
   ]
  },
  {
   "cell_type": "code",
   "execution_count": 17,
   "metadata": {},
   "outputs": [
    {
     "name": "stdout",
     "output_type": "stream",
     "text": [
      "done\n"
     ]
    }
   ],
   "source": [
    "all_line_list = [l1, l2, l3, l4, l5, l6, l1_test, l2_test, l3_test, l4_test, l5_test, l6_test]\n",
    "train_line_list = [l1, l2, l3, l4, l5, l6]\n",
    "\n",
    "\n",
    "def line_fillna(all, train):\n",
    "\n",
    "    # train drop : Y_Class\n",
    "    for l in train:\n",
    "        l.drop(['Y_Class'], axis=1, inplace=True)\n",
    "    \n",
    "    \n",
    "    # fillna : 0\n",
    "    for l in all:\n",
    "        l.fillna(0, inplace=True)\n",
    "\n",
    "    # MinMaxScaler\n",
    "    from sklearn.preprocessing import StandardScaler\n",
    "    \n",
    "    for l in all:\n",
    "        sts = StandardScaler()\n",
    "        sts.fit(l.drop(['LINE','PRODUCT_CODE'], axis=1))\n",
    "        l = sts.transform(l.drop(['LINE','PRODUCT_CODE'], axis=1))\n",
    "      #  l =pd.concat([l[['LINE','PRODUCT_CODE']], mmx.transform(l.drop(['LINE','PRODUCT_CODE'], axis=1))])\n",
    "\n",
    "    # labelEncorder\n",
    "    from sklearn.preprocessing import LabelEncoder\n",
    "\n",
    "        # 1) Line\n",
    "    for l in all:\n",
    "        le = LabelEncoder()\n",
    "        le.fit(['T100304', 'T100306', 'T050304', 'T010306', 'T010305', 'T050307'])\n",
    "        l['LINE'] = le.transform(l['LINE'])\n",
    "        \n",
    "        # 2) PRODUCT_CODE\n",
    "    for l in all:\n",
    "        le = LabelEncoder()\n",
    "        le.fit(['T_31', 'A_31', 'O_31'])\n",
    "        l['PRODUCT_CODE'] = le.transform(l['PRODUCT_CODE'])        \n",
    "\n",
    "    print('done')\n",
    "\n",
    "line_fillna(all_line_list, train_line_list)"
   ]
  },
  {
   "cell_type": "code",
   "execution_count": null,
   "metadata": {},
   "outputs": [],
   "source": [
    "train_x_pc_list = [pc1, pc2, pc3]\n",
    "train_y_pc_list = [pc1_y, pc2_y, pc3_y]\n",
    "test_pc_list = [pc1_test, pc2_test, pc3_test]\n",
    "\n",
    "\n",
    "def PC_model_fit_predeict(train_x_pc_list):\n",
    "\n",
    "    from sklearn.ensemble import RandomForestClassifier\n",
    "\n",
    "    # 1) define model, 2) fit, 3) predict\n",
    "    for idx ,i in enumerate(train_x_pc_list):\n",
    "        \n",
    "        # define model\n",
    "        rfc = RandomForestClassifier(random_state=42)\n",
    "        \n",
    "        # fit\n",
    "        rfc.fit(i, train_y_pc_list[idx])\n",
    "\n",
    "        # predict\n",
    "        globals()['pred_pc{}'.format(idx+1)] = rfc.predict(test_pc_list[idx])\n",
    "        globals()['df_pred_pc{}'.format(idx+1)] = pd.DataFrame(data = globals()['pred_pc{}'.format(idx+1)],\n",
    "                                                            columns=['Y_Class'],\n",
    "                                                            index=test_pc_list[idx].index)\n",
    "        \n",
    "\n",
    "    df_pred = [df_pred_pc1, df_pred_pc2, df_pred_pc3]\n",
    "\n",
    "    submit_array = pd.concat(df_pred, axis=0).sort_index()\n",
    "\n",
    "    return submit_array\n",
    "\n",
    "\n",
    "#def submit_line():\n",
    "    \n",
    "submit_csv = pd.read_csv('./sample_submission.csv')\n",
    "submit_csv['Y_Class'] = PC_model_fit_predeict(train_x_pc_list)['Y_Class']\n",
    "submit_csv.to_csv('split_PC_submission.csv', index=False)"
   ]
  }
 ],
 "metadata": {
  "kernelspec": {
   "display_name": "base",
   "language": "python",
   "name": "python3"
  },
  "language_info": {
   "codemirror_mode": {
    "name": "ipython",
    "version": 3
   },
   "file_extension": ".py",
   "mimetype": "text/x-python",
   "name": "python",
   "nbconvert_exporter": "python",
   "pygments_lexer": "ipython3",
   "version": "3.10.8"
  },
  "orig_nbformat": 4,
  "vscode": {
   "interpreter": {
    "hash": "9acc76a459d7db86261bc3c0fc1f5dcdadf57ce90dda3656ef3156477f1c2288"
   }
  }
 },
 "nbformat": 4,
 "nbformat_minor": 2
}
