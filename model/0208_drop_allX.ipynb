{
 "cells": [
  {
   "cell_type": "code",
   "execution_count": 4,
   "metadata": {},
   "outputs": [],
   "source": [
    "import pandas as pd\n",
    "import random\n",
    "import os\n",
    "import numpy as np\n",
    "import warnings\n",
    "warnings.filterwarnings('ignore')"
   ]
  },
  {
   "cell_type": "code",
   "execution_count": 5,
   "metadata": {},
   "outputs": [],
   "source": [
    "def seed_everything(seed):\n",
    "    random.seed(seed)\n",
    "    os.environ['PYTHONHASHSEED'] = str(seed)\n",
    "    np.random.seed(seed)\n",
    "seed_everything(37) # Seed 고정"
   ]
  },
  {
   "attachments": {},
   "cell_type": "markdown",
   "metadata": {},
   "source": [
    "## 1️⃣ Load data"
   ]
  },
  {
   "cell_type": "code",
   "execution_count": 6,
   "metadata": {},
   "outputs": [],
   "source": [
    "import pandas as pd\n",
    "import numpy as np\n",
    "\n",
    "\n",
    "train_df = pd.read_csv('./train.csv')\n",
    "test_df = pd.read_csv('./test.csv')"
   ]
  },
  {
   "attachments": {},
   "cell_type": "markdown",
   "metadata": {},
   "source": [
    "## 2️⃣ Preprocessing"
   ]
  },
  {
   "attachments": {},
   "cell_type": "markdown",
   "metadata": {},
   "source": [
    "### (1)_ drop"
   ]
  },
  {
   "cell_type": "code",
   "execution_count": 7,
   "metadata": {},
   "outputs": [],
   "source": [
    "train_x = train_df.drop(columns=['PRODUCT_ID', 'Y_Quality', 'TIMESTAMP'])\n",
    "train_y = train_df['Y_Class']\n",
    "test_x = test_df.drop(columns=['PRODUCT_ID', 'TIMESTAMP'])"
   ]
  },
  {
   "attachments": {},
   "cell_type": "markdown",
   "metadata": {},
   "source": [
    "### (2)_ LabelEncoder"
   ]
  },
  {
   "cell_type": "code",
   "execution_count": 8,
   "metadata": {},
   "outputs": [
    {
     "name": "stdout",
     "output_type": "stream",
     "text": [
      "Done.\n"
     ]
    }
   ],
   "source": [
    "from sklearn.preprocessing import LabelEncoder\n",
    "\n",
    "# qualitative to quantitative\n",
    "qual_col = ['LINE', 'PRODUCT_CODE']\n",
    "\n",
    "for i in qual_col:\n",
    "    le = LabelEncoder()\n",
    "    le = le.fit(train_x[i])\n",
    "    train_x[i] = le.transform(train_x[i])\n",
    "    \n",
    "    for label in np.unique(test_x[i]): \n",
    "        if label not in le.classes_: \n",
    "            le.classes_ = np.append(le.classes_, label)\n",
    "    test_x[i] = le.transform(test_x[i]) \n",
    "print('Done.')"
   ]
  },
  {
   "attachments": {},
   "cell_type": "markdown",
   "metadata": {},
   "source": [
    "### (3)_ 새로운 Feature : null 개수"
   ]
  },
  {
   "cell_type": "code",
   "execution_count": 9,
   "metadata": {},
   "outputs": [],
   "source": [
    "train_x['count_null']=train_x.isnull().sum(axis=1)\n",
    "test_x['count_null']=test_x.isnull().sum(axis=1)"
   ]
  },
  {
   "attachments": {},
   "cell_type": "markdown",
   "metadata": {},
   "source": [
    "### (3)_ Split"
   ]
  },
  {
   "cell_type": "code",
   "execution_count": 10,
   "metadata": {},
   "outputs": [],
   "source": [
    "train_x = train_x[['Y_Class', 'LINE', 'PRODUCT_CODE', 'count_null']]\n",
    "test_x = test_x[['LINE', 'PRODUCT_CODE', 'count_null']]"
   ]
  },
  {
   "cell_type": "code",
   "execution_count": 11,
   "metadata": {},
   "outputs": [
    {
     "name": "stdout",
     "output_type": "stream",
     "text": [
      "train_x_1 shape : (249, 3) \n",
      "train_x_2 shape : (349, 3)\n",
      "\n",
      "train_y_1 shape : (249,) \n",
      "train_y_2 shape : (349,)\n",
      "\n",
      "test_x_1 shape : (67, 3) \n",
      "test_x_2 shape : (243, 3)\n",
      "done\n"
     ]
    }
   ],
   "source": [
    "# train\n",
    "train_x_1 = train_x[train_x['PRODUCT_CODE'] == 0].drop('Y_Class', axis=1)\n",
    "train_x_2 = train_x[train_x['PRODUCT_CODE'] != 0].drop('Y_Class', axis=1)\n",
    "\n",
    "train_y_1 = train_x['Y_Class'][train_x['PRODUCT_CODE'] == 0]\n",
    "train_y_2 = train_x['Y_Class'][train_x['PRODUCT_CODE'] != 0]\n",
    "\n",
    "print('train_x_1 shape :', train_x_1.shape,\n",
    "      '\\ntrain_x_2 shape :', train_x_2.shape)\n",
    "\n",
    "print('\\ntrain_y_1 shape :', train_y_1.shape,\n",
    "      '\\ntrain_y_2 shape :', train_y_2.shape)\n",
    "\n",
    "\n",
    "\n",
    "# test\n",
    "test_x_1 = test_x[test_x['PRODUCT_CODE'] == 0]\n",
    "test_x_2 = test_x[test_x['PRODUCT_CODE'] != 0]\n",
    "\n",
    "print('\\ntest_x_1 shape :', test_x_1.shape,\n",
    "      '\\ntest_x_2 shape :', test_x_2.shape)\n",
    "\n",
    "\n",
    "print('done')"
   ]
  },
  {
   "attachments": {},
   "cell_type": "markdown",
   "metadata": {},
   "source": [
    "### (4)_ train / valid split"
   ]
  },
  {
   "cell_type": "code",
   "execution_count": 12,
   "metadata": {},
   "outputs": [],
   "source": [
    "from sklearn.model_selection import train_test_split\n",
    "\n",
    "# 1\n",
    "train_x_1, valid_x_1, train_y_1, valid_y_1= train_test_split(train_x_1, train_y_1, test_size=0.15)\n",
    "\n",
    "# 2\n",
    "train_x_2, valid_x_2, train_y_2, valid_y_2= train_test_split(train_x_2, train_y_2, test_size=0.15)"
   ]
  },
  {
   "attachments": {},
   "cell_type": "markdown",
   "metadata": {},
   "source": [
    "## 3️⃣ Build model"
   ]
  },
  {
   "attachments": {},
   "cell_type": "markdown",
   "metadata": {},
   "source": [
    "### (1)_ define model"
   ]
  },
  {
   "cell_type": "code",
   "execution_count": 13,
   "metadata": {},
   "outputs": [],
   "source": [
    "# model\n",
    "from sklearn.ensemble import RandomForestClassifier\n",
    "from sklearn.ensemble import GradientBoostingClassifier\n",
    "from xgboost import XGBClassifier\n",
    "from sklearn import svm\n",
    "\n",
    "# metric\n",
    "from sklearn.metrics import classification_report, accuracy_score, confusion_matrix\n",
    "\n",
    "rfc = RandomForestClassifier(random_state=42)\n",
    "xgbc = XGBClassifier(eval_metric='mlogloss')\n",
    "svmc = svm.SVC()\n",
    "gbc = GradientBoostingClassifier(random_state=42)\n",
    "\n",
    "models = [rfc, xgbc, svmc, gbc]\n",
    "model_names = ['RandomForestClassifier','XGBClassifier','SVC','GradientBoostingClassifier']"
   ]
  },
  {
   "attachments": {},
   "cell_type": "markdown",
   "metadata": {},
   "source": [
    "### (2)_ fit, predict"
   ]
  },
  {
   "cell_type": "code",
   "execution_count": 14,
   "metadata": {},
   "outputs": [
    {
     "name": "stdout",
     "output_type": "stream",
     "text": [
      "### model : 1 ###\n",
      "\n",
      "RandomForestClassifier : 0.5\n",
      "XGBClassifier : 0.46875\n",
      "SVC : 0.46875\n",
      "GradientBoostingClassifier : 0.46875\n",
      "\n",
      "\n",
      "\n",
      "### model : 2 ###\n",
      "\n",
      "RandomForestClassifier : 0.8444444444444444\n",
      "XGBClassifier : 0.8444444444444444\n",
      "SVC : 0.8444444444444444\n",
      "GradientBoostingClassifier : 0.8222222222222222\n"
     ]
    }
   ],
   "source": [
    "from sklearn.model_selection import train_test_split\n",
    "\n",
    "# 1\n",
    "train_x_1, valid_x_1, train_y_1, valid_y_1= train_test_split(train_x_1, train_y_1, test_size=0.15)\n",
    "\n",
    "# 2\n",
    "train_x_2, valid_x_2, train_y_2, valid_y_2= train_test_split(train_x_2, train_y_2, test_size=0.15)\n",
    "\n",
    "\n",
    "print('### model : 1 ###\\n')\n",
    "for idx, i in enumerate(models):\n",
    "    warnings.filterwarnings('ignore')\n",
    "    model = i\n",
    "    model.fit(train_x_1, train_y_1)\n",
    "    pred = model.predict(valid_x_1)\n",
    "    print('{} :'.format(model_names[idx]), accuracy_score(pred, valid_y_1))\n",
    "\n",
    "\n",
    "print('\\n\\n\\n### model : 2 ###\\n')\n",
    "for idx, i in enumerate(models):\n",
    "    warnings.filterwarnings('ignore')\n",
    "    model = i\n",
    "    model.fit(train_x_2, train_y_2)\n",
    "    pred = model.predict(valid_x_2)\n",
    "    print('{} :'.format(model_names[idx]), accuracy_score(pred, valid_y_2))"
   ]
  },
  {
   "attachments": {},
   "cell_type": "markdown",
   "metadata": {},
   "source": [
    "### (3)_ feature importance"
   ]
  },
  {
   "cell_type": "code",
   "execution_count": 15,
   "metadata": {},
   "outputs": [
    {
     "name": "stdout",
     "output_type": "stream",
     "text": [
      "0.5\n"
     ]
    },
    {
     "data": {
      "text/plain": [
       "array([0.22191875, 0.        , 0.77808125])"
      ]
     },
     "execution_count": 15,
     "metadata": {},
     "output_type": "execute_result"
    }
   ],
   "source": [
    "model = rfc\n",
    "\n",
    "# 1\n",
    "model.fit(train_x_1, train_y_1)\n",
    "pred1 = model.predict(valid_x_1)\n",
    "print(accuracy_score(pred1, valid_y_1))\n",
    "\n",
    "model.feature_importances_"
   ]
  },
  {
   "cell_type": "code",
   "execution_count": 17,
   "metadata": {},
   "outputs": [
    {
     "data": {
      "image/png": "[encoded data removed]",
      "text/plain": [
       "<Figure size 800x600 with 1 Axes>"
      ]
     },
     "metadata": {},
     "output_type": "display_data"
    }
   ],
   "source": [
    "import seaborn as sns\n",
    "import matplotlib.pyplot as plt\n",
    "\n",
    "importance_values = model.feature_importances_\n",
    "\n",
    "# 정렬과 시각화를 쉽게 하기 위해 series 전환\n",
    "ft_series = pd.Series(importance_values, index = train_x_1.columns)\n",
    "ft_top20 = ft_series.sort_values(ascending=False)[:2850]\n",
    "\n",
    "# 시각화\n",
    "plt.figure(figsize=(8,6))\n",
    "plt.title('Feature Importance Top 2850')\n",
    "sns.barplot(x=ft_top20, y=ft_top20.index)\n",
    "plt.show()"
   ]
  },
  {
   "attachments": {},
   "cell_type": "markdown",
   "metadata": {},
   "source": [
    "## 🎯 Submit"
   ]
  },
  {
   "cell_type": "code",
   "execution_count": 52,
   "metadata": {},
   "outputs": [],
   "source": [
    "# rfc, xgbc, svmc, gbc\n",
    "# 'RandomForestClassifier','XGBClassifier','SVC','GradientBoostingClassifier'\n",
    "\n",
    "model = rfc\n",
    "\n",
    "# 1\n",
    "model.fit(train_x_1, train_y_1)\n",
    "pred1 = model.predict(test_x_1)\n",
    "\n",
    "# 2\n",
    "model.fit(train_x_2, train_y_2)\n",
    "pred2 = model.predict(test_x_2)"
   ]
  },
  {
   "cell_type": "code",
   "execution_count": 54,
   "metadata": {},
   "outputs": [],
   "source": [
    "pred_index = test_x_1.index.append(test_x_2.index)\n",
    "sub_pred_value = np.concatenate([pred1, pred2])\n",
    "pred = pd.DataFrame(data = sub_pred_value,\n",
    "                    columns = ['Y_Class'], \n",
    "                    index = pred_index).sort_index()\n",
    "\n",
    "submit_csv = pd.read_csv('./sample_submission.csv')\n",
    "submit_csv['Y_Class'] =pred['Y_Class']\n",
    "submit_csv.to_csv('0208_submission.csv', index=False)"
   ]
  }
 ],
 "metadata": {
  "kernelspec": {
   "display_name": "base",
   "language": "python",
   "name": "python3"
  },
  "language_info": {
   "codemirror_mode": {
    "name": "ipython",
    "version": 3
   },
   "file_extension": ".py",
   "mimetype": "text/x-python",
   "name": "python",
   "nbconvert_exporter": "python",
   "pygments_lexer": "ipython3",
   "version": "3.10.8"
  },
  "orig_nbformat": 4,
  "vscode": {
   "interpreter": {
    "hash": "9acc76a459d7db86261bc3c0fc1f5dcdadf57ce90dda3656ef3156477f1c2288"
   }
  }
 },
 "nbformat": 4,
 "nbformat_minor": 2
}
