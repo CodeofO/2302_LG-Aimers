{
 "cells": [
  {
   "attachments": {},
   "cell_type": "markdown",
   "metadata": {},
   "source": [
    "## Load Data"
   ]
  },
  {
   "cell_type": "code",
   "execution_count": 98,
   "metadata": {},
   "outputs": [],
   "source": [
    "import pandas as pd\n",
    "import random\n",
    "import os\n",
    "import numpy as np\n",
    "import warnings\n",
    "warnings.filterwarnings('ignore')\n",
    "\n",
    "def seed_everything(seed):\n",
    "    random.seed(seed)\n",
    "    os.environ['PYTHONHASHSEED'] = str(seed)\n",
    "    np.random.seed(seed)\n",
    "seed_everything(37) # Seed 고정\n",
    "\n",
    "train_df = pd.read_csv('./train.csv')\n",
    "test_df = pd.read_csv('./test.csv')\n",
    "\n",
    "#train_x = train_df.drop(columns=['PRODUCT_ID', 'Y_Class', 'TIMESTAMP'])\n",
    "train_x = train_df.drop(columns=['PRODUCT_ID', 'Y_Quality', 'TIMESTAMP'])\n",
    "train_y = train_df['Y_Class']\n",
    "\n",
    "test_x = test_df.drop(columns=['PRODUCT_ID', 'TIMESTAMP'])"
   ]
  },
  {
   "attachments": {},
   "cell_type": "markdown",
   "metadata": {},
   "source": [
    "## Preprocessing"
   ]
  },
  {
   "attachments": {},
   "cell_type": "markdown",
   "metadata": {},
   "source": [
    "### LabelEncoder"
   ]
  },
  {
   "cell_type": "code",
   "execution_count": 99,
   "metadata": {},
   "outputs": [
    {
     "name": "stdout",
     "output_type": "stream",
     "text": [
      "done\n"
     ]
    }
   ],
   "source": [
    "from sklearn.preprocessing import LabelEncoder\n",
    "\n",
    "qual_col = ['LINE','PRODUCT_CODE']\n",
    "\n",
    "for i in qual_col:\n",
    "    le = LabelEncoder()\n",
    "    le.fit(train_x[i])\n",
    "    train_x[i] = le.transform(train_x[i])\n",
    "\n",
    "    for label in np.unique(test_x[i]):\n",
    "        if label not in le.classes_:\n",
    "            le.classes_ = np.append(le.classes_, label)\n",
    "    \n",
    "    test_x[i] = le.transform(test_x[i])\n",
    "\n",
    "print('done')"
   ]
  },
  {
   "cell_type": "code",
   "execution_count": 100,
   "metadata": {},
   "outputs": [
    {
     "name": "stdout",
     "output_type": "stream",
     "text": [
      "XGBClassifier : 0.7166666666666667\n",
      "XGBRFClassifier : 0.7583333333333333\n",
      "LGBMClassifier : 0.7333333333333333\n"
     ]
    }
   ],
   "source": [
    "train_x_drop = train_x.drop('Y_Class', axis=1)\n",
    "\n",
    "from sklearn.model_selection import train_test_split\n",
    "\n",
    "x_t, x_v, y_t, y_v = train_test_split(train_x_drop, train_y, test_size=0.2, random_state=42)\n",
    "\n",
    "\n",
    "\n",
    "from sklearn.metrics import accuracy_score, confusion_matrix\n",
    "\n",
    "\n",
    "from xgboost import XGBClassifier # 회귀트리\n",
    "xgb = XGBClassifier()\n",
    "xgb.fit(x_t, y_t)\n",
    "pred = xgb.predict(x_v)\n",
    "print('XGBClassifier :',accuracy_score(pred, y_v))\n",
    "\n",
    "\n",
    "from xgboost import XGBRFClassifier\n",
    "xgb = XGBRFClassifier()\n",
    "xgb.fit(x_t, y_t)\n",
    "pred = xgb.predict(x_v)\n",
    "print('XGBRFClassifier :',accuracy_score(pred, y_v))\n",
    "\n",
    "\n",
    "from lightgbm import LGBMClassifier\n",
    "lgbm = LGBMClassifier()\n",
    "lgbm.fit(x_t, y_t)\n",
    "pred = lgbm.predict(x_v)\n",
    "print('LGBMClassifier :',accuracy_score(pred, y_v))"
   ]
  },
  {
   "attachments": {},
   "cell_type": "markdown",
   "metadata": {},
   "source": [
    "### split"
   ]
  },
  {
   "cell_type": "code",
   "execution_count": 101,
   "metadata": {},
   "outputs": [
    {
     "name": "stdout",
     "output_type": "stream",
     "text": [
      "train_x_1 shape : (249, 2877) \n",
      "train_x_2 shape : (6, 2877) \n",
      "train_x_3 shape : (343, 2877)\n",
      "train\n",
      "(59, 2877)\n",
      "(70, 2877)\n",
      "(78, 2877)\n",
      "(42, 2877)\n",
      "(3, 2877)\n",
      "(172, 2877)\n",
      "(3, 2877)\n",
      "(171, 2877)\n",
      "\n",
      "\n",
      "test\n",
      "(14, 2877)\n",
      "(14, 2877)\n",
      "(13, 2877)\n",
      "(26, 2877)\n",
      "(3, 2877)\n",
      "(108, 2877)\n",
      "(1, 2877)\n",
      "(131, 2877)\n"
     ]
    }
   ],
   "source": [
    "## PRODUCT_CODE\n",
    "\n",
    "# train\n",
    "train_x_1 = train_x[train_x['PRODUCT_CODE'] == 0].drop('Y_Class', axis=1)\n",
    "train_x_2 = train_x[train_x['PRODUCT_CODE'] == 1].drop('Y_Class', axis=1)\n",
    "train_x_3 = train_x[train_x['PRODUCT_CODE'] == 2].drop('Y_Class', axis=1)\n",
    "\n",
    "train_y_1 = train_x['Y_Class'][train_x['PRODUCT_CODE'] == 0]\n",
    "train_y_2 = train_x['Y_Class'][train_x['PRODUCT_CODE'] == 1]\n",
    "train_y_3 = train_x['Y_Class'][train_x['PRODUCT_CODE'] == 2]\n",
    "\n",
    "print('train_x_1 shape :', train_x_1.shape,\n",
    "      '\\ntrain_x_2 shape :', train_x_2.shape,\n",
    "      '\\ntrain_x_3 shape :', train_x_3.shape)\n",
    "\n",
    "# test\n",
    "test_x_1 = test_x[test_x['PRODUCT_CODE'] == 0]\n",
    "test_x_2 = test_x[test_x['PRODUCT_CODE'] == 1]\n",
    "test_x_3 = test_x[test_x['PRODUCT_CODE'] == 2]\n",
    "\n",
    "\n",
    "\n",
    "# LINE\n",
    "\n",
    "## TRAIN\n",
    "\n",
    "# line 1\n",
    "test_x_1_1 = test_x_1[test_x_1['LINE'] == 0]\n",
    "\n",
    "# line 2\n",
    "test_x_1_2 = test_x_1[test_x_1['LINE'] == 1]\n",
    "\n",
    "# line 3\n",
    "test_x_1_3 = test_x_1[test_x_1['LINE'] == 2]\n",
    "\n",
    "# line 4\n",
    "test_x_1_4 = test_x_1[test_x_1['LINE'] == 3]\n",
    "\n",
    "# line 5\n",
    "test_x_2_5 = test_x_2[test_x_2['LINE'] == 4]\n",
    "test_x_3_5 = test_x_3[test_x_3['LINE'] == 4]\n",
    "\n",
    "# line 6\n",
    "test_x_2_6 = test_x_2[test_x_2['LINE'] == 5]\n",
    "test_x_3_6 = test_x_3[test_x_3['LINE'] == 5]\n",
    "\n",
    "\n",
    "\n",
    "\n",
    "## TRAIN\n",
    "\n",
    "# line 1\n",
    "train_x_1_1 = train_x_1[train_x_1['LINE'] == 0]\n",
    "\n",
    "# line 2\n",
    "train_x_1_2 = train_x_1[train_x_1['LINE'] == 1]\n",
    "\n",
    "# line 3\n",
    "train_x_1_3 = train_x_1[train_x_1['LINE'] == 2]\n",
    "\n",
    "# line 4\n",
    "train_x_1_4 = train_x_1[train_x_1['LINE'] == 3]\n",
    "\n",
    "# line 5\n",
    "train_x_2_5 = train_x_2[train_x_2['LINE'] == 4]\n",
    "train_x_3_5 = train_x_3[train_x_3['LINE'] == 4]\n",
    "\n",
    "# line 6\n",
    "train_x_2_6 = train_x_2[train_x_2['LINE'] == 5]\n",
    "train_x_3_6 = train_x_3[train_x_3['LINE'] == 5]\n",
    "\n",
    "\n",
    "train_set = [train_x_1_1, train_x_1_2, train_x_1_3, train_x_1_4, train_x_2_5, train_x_3_5, train_x_2_6, train_x_3_6]\n",
    "test_set = [test_x_1_1, test_x_1_2, test_x_1_3, test_x_1_4, test_x_2_5, test_x_3_5, test_x_2_6, test_x_3_6]\n",
    "\n",
    "print('train')\n",
    "for set in train_set:\n",
    "    print(set.shape)\n",
    "\n",
    "print('\\n\\ntest')\n",
    "for set in test_set:\n",
    "    print(set.shape)    "
   ]
  },
  {
   "attachments": {},
   "cell_type": "markdown",
   "metadata": {},
   "source": [
    "#### null - mean"
   ]
  },
  {
   "cell_type": "code",
   "execution_count": 102,
   "metadata": {},
   "outputs": [],
   "source": [
    "train_set_mean = train_set\n",
    "test_set_mean = test_set\n",
    "\n",
    "for set in train_set_mean:\n",
    "    cols = set.columns\n",
    "    for col in cols:\n",
    "        set[col] = set[col].fillna(set[col].mean())\n",
    "\n",
    "for set in test_set_mean:\n",
    "    cols = set.columns\n",
    "    for col in cols:\n",
    "        set[col] = set[col].fillna(set[col].mean())\n",
    "\n",
    "train_x = pd.concat(train_set_mean, axis=0).sort_index()\n",
    "test_x = pd.concat(test_set_mean, axis=0).sort_index()"
   ]
  },
  {
   "cell_type": "code",
   "execution_count": 103,
   "metadata": {},
   "outputs": [
    {
     "name": "stdout",
     "output_type": "stream",
     "text": [
      "XGBClassifier : 0.7166666666666667\n",
      "XGBRFClassifier : 0.7583333333333333\n",
      "LGBMClassifier : 0.7333333333333333\n"
     ]
    }
   ],
   "source": [
    "from sklearn.model_selection import train_test_split\n",
    "\n",
    "x_t, x_v, y_t, y_v = train_test_split(train_x_drop, train_y, test_size=0.2, random_state=42)\n",
    "\n",
    "\n",
    "\n",
    "from sklearn.metrics import accuracy_score, confusion_matrix\n",
    "\n",
    "\n",
    "from xgboost import XGBClassifier # 회귀트리\n",
    "xgb = XGBClassifier()\n",
    "xgb.fit(x_t, y_t)\n",
    "pred = xgb.predict(x_v)\n",
    "print('XGBClassifier :',accuracy_score(pred, y_v))\n",
    "\n",
    "\n",
    "from xgboost import XGBRFClassifier\n",
    "xgb = XGBRFClassifier()\n",
    "xgb.fit(x_t, y_t)\n",
    "pred = xgb.predict(x_v)\n",
    "print('XGBRFClassifier :',accuracy_score(pred, y_v))\n",
    "\n",
    "\n",
    "from lightgbm import LGBMClassifier\n",
    "lgbm = LGBMClassifier()\n",
    "lgbm.fit(x_t, y_t)\n",
    "pred = lgbm.predict(x_v)\n",
    "print('LGBMClassifier :',accuracy_score(pred, y_v))"
   ]
  },
  {
   "attachments": {},
   "cell_type": "markdown",
   "metadata": {},
   "source": [
    "#### null - mode"
   ]
  },
  {
   "cell_type": "code",
   "execution_count": 104,
   "metadata": {},
   "outputs": [],
   "source": [
    "train_set_mode = train_set\n",
    "test_set_mode = test_set\n",
    "\n",
    "for set in train_set_mode:\n",
    "    cols = set.columns\n",
    "    for col in cols:\n",
    "        set[col] = set[col].fillna(set[col].mode())\n",
    "\n",
    "for set in test_set_mode:\n",
    "    cols = set.columns\n",
    "    for col in cols:\n",
    "        set[col] = set[col].fillna(set[col].mode())\n",
    "\n",
    "train_x = pd.concat(train_set_mode, axis=0).sort_index()\n",
    "test_x = pd.concat(test_set_mode, axis=0).sort_index()"
   ]
  },
  {
   "cell_type": "code",
   "execution_count": 106,
   "metadata": {},
   "outputs": [
    {
     "name": "stdout",
     "output_type": "stream",
     "text": [
      "XGBClassifier : 0.7583333333333333\n",
      "XGBRFClassifier : 0.7333333333333333\n",
      "LGBMClassifier : 0.7416666666666667\n"
     ]
    }
   ],
   "source": [
    "from sklearn.model_selection import train_test_split\n",
    "\n",
    "x_t, x_v, y_t, y_v = train_test_split(train_x, train_y, test_size=0.2, random_state=42)\n",
    "\n",
    "\n",
    "\n",
    "from sklearn.metrics import accuracy_score, confusion_matrix\n",
    "\n",
    "\n",
    "from xgboost import XGBClassifier # 회귀트리\n",
    "xgb = XGBClassifier()\n",
    "xgb.fit(x_t, y_t)\n",
    "pred = xgb.predict(x_v)\n",
    "print('XGBClassifier :',accuracy_score(pred, y_v))\n",
    "\n",
    "\n",
    "from xgboost import XGBRFClassifier\n",
    "xgb = XGBRFClassifier()\n",
    "xgb.fit(x_t, y_t)\n",
    "pred = xgb.predict(x_v)\n",
    "print('XGBRFClassifier :',accuracy_score(pred, y_v))\n",
    "\n",
    "\n",
    "from lightgbm import LGBMClassifier\n",
    "lgbm = LGBMClassifier()\n",
    "lgbm.fit(x_t, y_t)\n",
    "pred = lgbm.predict(x_v)\n",
    "print('LGBMClassifier :',accuracy_score(pred, y_v))"
   ]
  },
  {
   "attachments": {},
   "cell_type": "markdown",
   "metadata": {},
   "source": [
    "## train / valid split"
   ]
  },
  {
   "cell_type": "code",
   "execution_count": 71,
   "metadata": {},
   "outputs": [],
   "source": [
    "from sklearn.model_selection import train_test_split\n",
    "\n",
    "x_t, x_v, y_t, y_v = train_test_split(train_x, train_y, test_size=0.2, random_state=42)"
   ]
  },
  {
   "attachments": {},
   "cell_type": "markdown",
   "metadata": {},
   "source": [
    "## Model"
   ]
  },
  {
   "cell_type": "code",
   "execution_count": 72,
   "metadata": {},
   "outputs": [
    {
     "name": "stdout",
     "output_type": "stream",
     "text": [
      "XGBClassifier : 0.7583333333333333\n",
      "XGBRFClassifier : 0.7333333333333333\n",
      "LGBMClassifier : 0.7416666666666667\n"
     ]
    }
   ],
   "source": [
    "from sklearn.model_selection import train_test_split\n",
    "\n",
    "x_t, x_v, y_t, y_v = train_test_split(train_x, train_y, test_size=0.2, random_state=42)\n",
    "\n",
    "\n",
    "\n",
    "from sklearn.metrics import accuracy_score, confusion_matrix\n",
    "\n",
    "\n",
    "from xgboost import XGBClassifier # 회귀트리\n",
    "xgb = XGBClassifier()\n",
    "xgb.fit(x_t, y_t)\n",
    "pred = xgb.predict(x_v)\n",
    "print('XGBClassifier :',accuracy_score(pred, y_v))\n",
    "\n",
    "\n",
    "\n",
    "\n",
    "from xgboost import XGBRFClassifier\n",
    "xgb = XGBRFClassifier()\n",
    "xgb.fit(x_t, y_t)\n",
    "pred = xgb.predict(x_v)\n",
    "print('XGBRFClassifier :',accuracy_score(pred, y_v))\n",
    "\n",
    "\n",
    "\n",
    "from lightgbm import LGBMClassifier\n",
    "lgbm = LGBMClassifier()\n",
    "lgbm.fit(x_t, y_t)\n",
    "pred = lgbm.predict(x_v)\n",
    "print('LGBMClassifier :',accuracy_score(pred, y_v))"
   ]
  },
  {
   "attachments": {},
   "cell_type": "markdown",
   "metadata": {},
   "source": [
    "## submit"
   ]
  },
  {
   "cell_type": "code",
   "execution_count": 18,
   "metadata": {},
   "outputs": [
    {
     "name": "stdout",
     "output_type": "stream",
     "text": [
      "[16:49:48] WARNING: /var/folders/nz/j6p8yfhx1mv_0grj5xl4650h0000gp/T/abs_4f_b8pp6bp/croot/xgboost-split_1675119661934/work/src/learner.cc:1115: Starting in XGBoost 1.3.0, the default evaluation metric used with the objective 'multi:softprob' was changed from 'merror' to 'mlogloss'. Explicitly set eval_metric if you'd like to restore the old behavior.\n"
     ]
    }
   ],
   "source": [
    "from xgboost import XGBClassifier # 회귀트리\n",
    "\n",
    "xgb = XGBClassifier()\n",
    "xgb.fit(train_x, train_y)\n",
    "pred = xgb.predict(test_x)\n",
    "\n",
    "\n",
    "submit_csv = pd.read_csv('./sample_submission.csv')\n",
    "submit_csv['Y_Class'] = pred\n",
    "submit_csv.to_csv('XGBoost_notnull_submission.csv', index=False)"
   ]
  },
  {
   "cell_type": "code",
   "execution_count": 8,
   "metadata": {},
   "outputs": [],
   "source": [
    "from xgboost import XGBRFClassifier\n",
    "\n",
    "xgb = XGBRFClassifier()\n",
    "xgb.fit(train_x, train_y)\n",
    "pred = xgb.predict(test_x)\n",
    "\n",
    "\n",
    "submit_csv = pd.read_csv('./sample_submission.csv')\n",
    "submit_csv['Y_Class'] = pred\n",
    "submit_csv.to_csv('XGBoost_notnull_XGBRFC.csv', index=False)"
   ]
  }
 ],
 "metadata": {
  "kernelspec": {
   "display_name": "base",
   "language": "python",
   "name": "python3"
  },
  "language_info": {
   "codemirror_mode": {
    "name": "ipython",
    "version": 3
   },
   "file_extension": ".py",
   "mimetype": "text/x-python",
   "name": "python",
   "nbconvert_exporter": "python",
   "pygments_lexer": "ipython3",
   "version": "3.10.9"
  },
  "orig_nbformat": 4,
  "vscode": {
   "interpreter": {
    "hash": "9acc76a459d7db86261bc3c0fc1f5dcdadf57ce90dda3656ef3156477f1c2288"
   }
  }
 },
 "nbformat": 4,
 "nbformat_minor": 2
}
