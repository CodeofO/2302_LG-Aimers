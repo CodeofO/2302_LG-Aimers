{
 "cells": [
  {
   "attachments": {},
   "cell_type": "markdown",
   "metadata": {},
   "source": [
    "# SPLIT !   \n",
    "LINE & PRODUCT CODE"
   ]
  },
  {
   "attachments": {},
   "cell_type": "markdown",
   "metadata": {},
   "source": [
    "## 1️⃣ Load Data"
   ]
  },
  {
   "cell_type": "code",
   "execution_count": 1,
   "metadata": {},
   "outputs": [],
   "source": [
    "import pandas as pd\n",
    "import random\n",
    "import os\n",
    "import numpy as np\n",
    "import warnings\n",
    "warnings.filterwarnings('ignore')\n",
    "\n",
    "def seed_everything(seed):\n",
    "    random.seed(seed)\n",
    "    os.environ['PYTHONHASHSEED'] = str(seed)\n",
    "    np.random.seed(seed)\n",
    "seed_everything(37) # Seed 고정\n",
    "\n",
    "train_df = pd.read_csv('./train.csv')\n",
    "test_df = pd.read_csv('./test.csv')\n",
    "\n",
    "train_time_df = train_df['TIMESTAMP']\n",
    "test_time_df = test_df['TIMESTAMP']\n",
    "\n",
    "def split_TIMESTEPS(train_df, test_df, train_time_df, test_time_df):\n",
    "\n",
    "    train_col_year = []\n",
    "    train_col_month = []\n",
    "    train_col_day = []\n",
    "\n",
    "    test_col_year = []\n",
    "    test_col_month = []\n",
    "    test_col_day = []\n",
    "\n",
    "\n",
    "    # split : year, month, day\n",
    "\n",
    "    for i in range(len(train_time_df)):\n",
    "        time_df_i = train_time_df[i]    \n",
    "        year = time_df_i[:4]\n",
    "        train_col_year.append(year)\n",
    "        train_col_year = list(map(int,train_col_year))\n",
    "        \n",
    "        month = time_df_i[5:7]\n",
    "        train_col_month.append(month)\n",
    "        train_col_month = list(map(int,train_col_month))\n",
    "\n",
    "        day = time_df_i[8:10]\n",
    "        train_col_day.append(day)\n",
    "        train_col_day = list(map(int,train_col_day))\n",
    "\n",
    "    for i in range(len(test_time_df)):\n",
    "        time_df_i = test_time_df[i]    \n",
    "        year = time_df_i[:4]\n",
    "        test_col_year.append(year)\n",
    "        test_col_year = list(map(int,test_col_year))\n",
    "\n",
    "        month = time_df_i[5:7]\n",
    "        test_col_month.append(month)\n",
    "        test_col_month = list(map(int,test_col_month))\n",
    "\n",
    "        day = time_df_i[8:10]\n",
    "        test_col_day.append(day)\n",
    "        test_col_day = list(map(int,test_col_day))\n",
    "\n",
    "        # \n",
    "    train_df['year'] = train_col_year\n",
    "    train_df['month'] = train_col_month\n",
    "    train_df['day'] = train_col_day\n",
    "\n",
    "    test_df['year'] = test_col_year\n",
    "    test_df['month'] = test_col_month\n",
    "    test_df['day'] = test_col_day\n",
    "\n",
    "split_TIMESTEPS(train_df, test_df, train_time_df, test_time_df)\n",
    "\n",
    "#train_x = train_df.drop(columns=['PRODUCT_ID', 'Y_Class', 'TIMESTAMP'])\n",
    "train_x = train_df.drop(columns=['PRODUCT_ID', 'Y_Quality', 'TIMESTAMP'])\n",
    "train_y = train_df['Y_Class']\n",
    "\n",
    "test_x = test_df.drop(columns=['PRODUCT_ID', 'TIMESTAMP'])"
   ]
  },
  {
   "attachments": {},
   "cell_type": "markdown",
   "metadata": {},
   "source": [
    "### 1)_make : ingnore 'Y_Quality'"
   ]
  },
  {
   "cell_type": "code",
   "execution_count": 142,
   "metadata": {},
   "outputs": [],
   "source": [
    "train_x_ig_YQ = train_df.drop(columns=['PRODUCT_ID', 'Y_Quality' ,'Y_Class', 'TIMESTAMP'])"
   ]
  },
  {
   "attachments": {},
   "cell_type": "markdown",
   "metadata": {},
   "source": [
    "## 2️⃣ Split "
   ]
  },
  {
   "attachments": {},
   "cell_type": "markdown",
   "metadata": {},
   "source": [
    "### 1._Line"
   ]
  },
  {
   "cell_type": "code",
   "execution_count": 2,
   "metadata": {},
   "outputs": [
    {
     "name": "stdout",
     "output_type": "stream",
     "text": [
      "done\n"
     ]
    }
   ],
   "source": [
    "line_v = sorted(train_df['LINE'].value_counts().index)\n",
    "\n",
    "# train\n",
    "for idx, i in enumerate(line_v):\n",
    "    globals()['l{}'.format(idx+1)]=train_x[train_x['LINE']==i]\n",
    "\n",
    "# train y\n",
    "for idx, i in enumerate(line_v):\n",
    "    globals()['l{}_y'.format(idx+1)]=train_x['Y_Class'][train_x['LINE']==i]\n",
    "\n",
    "# test\n",
    "for idx, i in enumerate(line_v):\n",
    "    globals()['l{}_test'.format(idx+1)]=test_x[test_x['LINE']==i]\n",
    "\n",
    "print('done')"
   ]
  },
  {
   "cell_type": "code",
   "execution_count": 144,
   "metadata": {},
   "outputs": [],
   "source": [
    "l1 = train_x[train_x['LINE']=='T100304']\n",
    "l2 = train_x[train_x['LINE']=='T100306']\n",
    "l3 = train_x[train_x['LINE']=='T010305']\n",
    "l4 = train_x[train_x['LINE']=='T010306']\n",
    "l5 = train_x[train_x['LINE']=='T050304']\n",
    "l6 = train_x[train_x['LINE']=='T050307']\n",
    "\n",
    "l1_y = train_x['Y_Class'][train_x['LINE']=='T100304']\n",
    "l2_y = train_x['Y_Class'][train_x['LINE']=='T100306']\n",
    "l3_y = train_x['Y_Class'][train_x['LINE']=='T010305']\n",
    "l4_y = train_x['Y_Class'][train_x['LINE']=='T010306']\n",
    "l5_y = train_x['Y_Class'][train_x['LINE']=='T050304']\n",
    "l6_y = train_x['Y_Class'][train_x['LINE']=='T050307']\n",
    "\n",
    "l1_test = test_x[test_x['LINE']=='T100304']\n",
    "l2_test = test_x[test_x['LINE']=='T100306']\n",
    "l3_test = test_x[test_x['LINE']=='T010305']\n",
    "l4_test = test_x[test_x['LINE']=='T010306']\n",
    "l5_test = test_x[test_x['LINE']=='T050304']\n",
    "l6_test = test_x[test_x['LINE']=='T050307']"
   ]
  },
  {
   "cell_type": "code",
   "execution_count": 145,
   "metadata": {},
   "outputs": [
    {
     "name": "stdout",
     "output_type": "stream",
     "text": [
      "#### RATE : one line / all ####\n",
      "\n",
      "l1 : 0.29264214046822745 \n",
      "\n",
      "l2 : 0.2909698996655518 \n",
      "\n",
      "l3 : 0.09866220735785954 \n",
      "\n",
      "l4 : 0.11705685618729098 \n",
      "\n",
      "l6 : 0.07023411371237458 \n",
      "\n",
      "l5 : 0.13043478260869565 \n",
      "\n"
     ]
    }
   ],
   "source": [
    "print('#### RATE : one line / all ####\\n')\n",
    "\n",
    "print('l1 :', l1.shape[0] / train_x.shape[0], '\\n')\n",
    "print('l2 :', l2.shape[0] / train_x.shape[0], '\\n')\n",
    "print('l3 :', l3.shape[0] / train_x.shape[0], '\\n')\n",
    "print('l4 :', l4.shape[0] / train_x.shape[0], '\\n')\n",
    "print('l6 :', l6.shape[0] / train_x.shape[0], '\\n')\n",
    "print('l5 :', l5.shape[0] / train_x.shape[0], '\\n')"
   ]
  },
  {
   "attachments": {},
   "cell_type": "markdown",
   "metadata": {},
   "source": [
    "### 2._Product Code"
   ]
  },
  {
   "cell_type": "code",
   "execution_count": 146,
   "metadata": {},
   "outputs": [
    {
     "data": {
      "text/plain": [
       "Index(['T_31', 'A_31', 'O_31'], dtype='object')"
      ]
     },
     "execution_count": 146,
     "metadata": {},
     "output_type": "execute_result"
    }
   ],
   "source": [
    "PC_vc = train_x['PRODUCT_CODE'].value_counts().index\n",
    "PC_vc"
   ]
  },
  {
   "cell_type": "code",
   "execution_count": 147,
   "metadata": {},
   "outputs": [],
   "source": [
    "pc1 = train_x[train_x['PRODUCT_CODE']=='T_31']\n",
    "pc2 = train_x[train_x['PRODUCT_CODE']=='A_31']\n",
    "pc3 = train_x[train_x['PRODUCT_CODE']=='O_31']\n",
    "\n",
    "pc1_test = test_x[test_x['PRODUCT_CODE']=='T_31']\n",
    "pc2_test = test_x[test_x['PRODUCT_CODE']=='A_31']\n",
    "pc3_test = test_x[test_x['PRODUCT_CODE']=='O_31']"
   ]
  },
  {
   "cell_type": "code",
   "execution_count": 148,
   "metadata": {},
   "outputs": [
    {
     "name": "stdout",
     "output_type": "stream",
     "text": [
      "#### RATE : one PRODUCT_CODE / all ####\n",
      "\n",
      "pc1 : 0.5735785953177257 \n",
      "\n",
      "pc2 : 0.41638795986622074 \n",
      "\n",
      "pc3 : 0.010033444816053512 \n",
      "\n"
     ]
    }
   ],
   "source": [
    "print('#### RATE : one PRODUCT_CODE / all ####\\n')\n",
    "\n",
    "print('pc1 :', pc1.shape[0] / train_x.shape[0], '\\n')\n",
    "print('pc2 :', pc2.shape[0] / train_x.shape[0], '\\n')\n",
    "print('pc3 :', pc3.shape[0] / train_x.shape[0], '\\n')"
   ]
  },
  {
   "attachments": {},
   "cell_type": "markdown",
   "metadata": {},
   "source": [
    "## 3️⃣ analysis : splited line, product code"
   ]
  },
  {
   "attachments": {},
   "cell_type": "markdown",
   "metadata": {},
   "source": [
    "### 1)_Line"
   ]
  },
  {
   "attachments": {},
   "cell_type": "markdown",
   "metadata": {},
   "source": [
    "#### (1)_null : col"
   ]
  },
  {
   "cell_type": "code",
   "execution_count": 4,
   "metadata": {},
   "outputs": [
    {
     "name": "stdout",
     "output_type": "stream",
     "text": [
      "### line 1 : 59개 제조 ###\n",
      "null개수 col개수\n",
      "59    1989\n",
      "33      10\n",
      "58       5\n",
      "Name: null, dtype: int64 \n",
      "\n",
      "\n",
      "### line 2 : 70개 제조 ###\n",
      "null개수 col개수\n",
      "70    1989\n",
      "40      10\n",
      "69       5\n",
      "Name: null, dtype: int64 \n",
      "\n",
      "\n",
      "### line 3 : 78개 제조 ###\n",
      "null개수 col개수\n",
      "78    907\n",
      "39    420\n",
      "2     395\n",
      "1     142\n",
      "59     60\n",
      "11     27\n",
      "54     10\n",
      "74      5\n",
      "7       3\n",
      "14      1\n",
      "12      1\n",
      "52      1\n",
      "Name: null, dtype: int64 \n",
      "\n",
      "\n",
      "### line 4 : 42개 제조 ###\n",
      "null개수 col개수\n",
      "42    900\n",
      "19    422\n",
      "28     70\n",
      "9      26\n",
      "3       3\n",
      "2       1\n",
      "4       1\n",
      "16      1\n",
      "10      1\n",
      "Name: null, dtype: int64 \n",
      "\n",
      "\n",
      "### line 5 : 175개 제조 ###\n",
      "null개수 col개수\n",
      "175    2204\n",
      "1       420\n",
      "126      10\n",
      "173       5\n",
      "Name: null, dtype: int64 \n",
      "\n",
      "\n",
      "### line 6 : 174개 제조 ###\n",
      "null개수 col개수\n",
      "174    2204\n",
      "136      10\n",
      "166       5\n",
      "Name: null, dtype: int64 \n",
      "\n",
      "\n"
     ]
    }
   ],
   "source": [
    "for idx, l in enumerate([l1, l2, l3, l4, l5, l6]):\n",
    "    print('### line {0} : {1}개 제조 ###'.format(idx+1, len(l)))\n",
    "    print('null개수 col개수')\n",
    "    l1_null_df = pd.DataFrame(data=l.isnull().sum().keys(), columns=['col'])\n",
    "    l1_null_df['null'] = l.isnull().sum().values\n",
    "    print(l1_null_df[l1_null_df['null'] != 0]['null'].value_counts(), '\\n\\n')"
   ]
  },
  {
   "attachments": {},
   "cell_type": "markdown",
   "metadata": {},
   "source": [
    "#### (2)_Y Class"
   ]
  },
  {
   "cell_type": "code",
   "execution_count": 5,
   "metadata": {},
   "outputs": [
    {
     "name": "stdout",
     "output_type": "stream",
     "text": [
      "#### Line별 Y Class 비율 ####\n",
      "\n",
      "\n",
      "## line 1 ##\n",
      "y = 0 : 22.0%\n",
      "y = 1 : 59.3%\n",
      "y = 2 : 18.6%\n",
      "\n",
      "\n",
      "## line 2 ##\n",
      "y = 0 : 8.6%\n",
      "y = 1 : 52.9%\n",
      "y = 2 : 38.6%\n",
      "\n",
      "\n",
      "## line 3 ##\n",
      "y = 0 : 38.5%\n",
      "y = 1 : 47.4%\n",
      "y = 2 : 14.1%\n",
      "\n",
      "\n",
      "## line 4 ##\n",
      "y = 0 : 26.2%\n",
      "y = 1 : 21.4%\n",
      "y = 2 : 52.4%\n",
      "\n",
      "\n",
      "## line 5 ##\n",
      "y = 0 : 9.7%\n",
      "y = 1 : 82.3%\n",
      "y = 2 : 8.0%\n",
      "\n",
      "\n",
      "## line 6 ##\n",
      "y = 0 : 6.3%\n",
      "y = 1 : 83.3%\n",
      "y = 2 : 10.3%\n"
     ]
    }
   ],
   "source": [
    "print('#### Line별 Y Class 비율 ####')\n",
    "\n",
    "for idx, l in enumerate([l1, l2, l3, l4, l5, l6]):\n",
    "    print('\\n\\n## line {} ##'.format(idx+1))\n",
    "    for idxy, y in enumerate([0,1,2]):\n",
    "        print('y = {0} : {1}%'.format(idxy, round(len(l[l['Y_Class']==y]) / len(l) * 100, 1)))"
   ]
  },
  {
   "attachments": {},
   "cell_type": "markdown",
   "metadata": {},
   "source": [
    "#### (3)_Product Code"
   ]
  },
  {
   "cell_type": "code",
   "execution_count": 6,
   "metadata": {},
   "outputs": [
    {
     "name": "stdout",
     "output_type": "stream",
     "text": [
      "#### Line별 Product Code 비율 ####\n",
      "\n",
      "\n",
      "## line 1 ##\n",
      "product code = A_31 : 100.0%\n",
      "\n",
      "\n",
      "## line 2 ##\n",
      "product code = A_31 : 100.0%\n",
      "\n",
      "\n",
      "## line 3 ##\n",
      "product code = A_31 : 100.0%\n",
      "\n",
      "\n",
      "## line 4 ##\n",
      "product code = A_31 : 100.0%\n",
      "\n",
      "\n",
      "## line 5 ##\n",
      "product code = T_31 : 98.3%\n",
      "product code = O_31 : 1.7%\n",
      "\n",
      "\n",
      "## line 6 ##\n",
      "product code = T_31 : 98.3%\n",
      "product code = O_31 : 1.7%\n"
     ]
    }
   ],
   "source": [
    "print('#### Line별 Product Code 비율 ####')\n",
    "\n",
    "for idx, l in enumerate([l1, l2, l3, l4, l5, l6]):\n",
    "    print('\\n\\n## line {} ##'.format(idx+1))\n",
    "    \n",
    "    vc = l['PRODUCT_CODE'].value_counts()\n",
    "\n",
    "    for idxy, y in enumerate(vc.index):\n",
    "        print('product code = {0} : {1}%'.format(y, round(len(l[l['PRODUCT_CODE']==y]) / len(l) * 100, 1)))"
   ]
  },
  {
   "attachments": {},
   "cell_type": "markdown",
   "metadata": {},
   "source": [
    "### 2)_Product Code"
   ]
  },
  {
   "attachments": {},
   "cell_type": "markdown",
   "metadata": {},
   "source": [
    "#### (1)_null : col"
   ]
  },
  {
   "cell_type": "code",
   "execution_count": 152,
   "metadata": {},
   "outputs": [
    {
     "name": "stdout",
     "output_type": "stream",
     "text": [
      "#### len product code 1 : 343 ####\n",
      "\n",
      "null개수 col개수\n",
      "343    2198\n",
      "1       420\n",
      "256      10\n",
      "171       6\n",
      "172       6\n",
      "335       5\n",
      "Name: null, dtype: int64 \n",
      "\n",
      "\n",
      "\n",
      "#### len product code 2 : 249 ####\n",
      "\n",
      "null개수 col개수\n",
      "249    759\n",
      "129    658\n",
      "187    416\n",
      "2      368\n",
      "1      139\n",
      "120    113\n",
      "216     60\n",
      "131     27\n",
      "149     26\n",
      "207     13\n",
      "155     10\n",
      "179      8\n",
      "190      8\n",
      "226      6\n",
      "243      5\n",
      "210      4\n",
      "171      3\n",
      "130      3\n",
      "139      3\n",
      "145      1\n",
      "16       1\n",
      "197      1\n",
      "150      1\n",
      "Name: null, dtype: int64 \n",
      "\n",
      "\n",
      "\n",
      "#### len product code 3 : 6 ####\n",
      "\n",
      "null개수 col개수\n",
      "6    2208\n",
      "3      12\n",
      "4       5\n",
      "Name: null, dtype: int64 \n",
      "\n",
      "\n",
      "\n"
     ]
    }
   ],
   "source": [
    "for idx, l in enumerate([pc1, pc2, pc3]):\n",
    "    print('#### len product code {0} : {1} ####\\n'.format(idx+1, len(l)))\n",
    "    print('null개수 col개수')\n",
    "    l1_null_df = pd.DataFrame(data=l.isnull().sum().keys(), columns=['col'])\n",
    "    l1_null_df['null'] = l.isnull().sum().values\n",
    "    print(l1_null_df[l1_null_df['null'] != 0]['null'].value_counts(), '\\n\\n\\n')"
   ]
  },
  {
   "attachments": {},
   "cell_type": "markdown",
   "metadata": {},
   "source": [
    "#### (2)_Y Class"
   ]
  },
  {
   "cell_type": "code",
   "execution_count": 153,
   "metadata": {},
   "outputs": [
    {
     "name": "stdout",
     "output_type": "stream",
     "text": [
      "#### Line별 Y Class 비율 ####\n",
      "\n",
      "\n",
      "## product code1 ##\n",
      "y=0 : 8.2%\n",
      "y=1 : 83.1%\n",
      "y=2 : 8.7%\n",
      "\n",
      "\n",
      "## product code2 ##\n",
      "y=0 : 24.1%\n",
      "y=1 : 47.4%\n",
      "y=2 : 28.5%\n",
      "\n",
      "\n",
      "## product code3 ##\n",
      "y=0 : 0.0%\n",
      "y=1 : 66.7%\n",
      "y=2 : 33.3%\n"
     ]
    }
   ],
   "source": [
    "print('#### Line별 Y Class 비율 ####')\n",
    "\n",
    "for idx, l in enumerate([pc1, pc2, pc3]):\n",
    "    print('\\n\\n## product code{} ##'.format(idx+1))\n",
    "    for idxy, y in enumerate([0,1,2]):\n",
    "        print('y={0} : {1}%'.format(idxy, round(len(l[l['Y_Class']==y]) / len(l) * 100, 1)))"
   ]
  },
  {
   "attachments": {},
   "cell_type": "markdown",
   "metadata": {},
   "source": [
    "## 4️⃣ Preproccesing"
   ]
  },
  {
   "attachments": {},
   "cell_type": "markdown",
   "metadata": {},
   "source": [
    "### 1)_Line"
   ]
  },
  {
   "attachments": {},
   "cell_type": "markdown",
   "metadata": {},
   "source": [
    "#### (1)_fill 0 : null col"
   ]
  },
  {
   "cell_type": "code",
   "execution_count": 3,
   "metadata": {},
   "outputs": [
    {
     "name": "stdout",
     "output_type": "stream",
     "text": [
      "done\n"
     ]
    }
   ],
   "source": [
    "all_line_list = [l1, l2, l3, l4, l5, l6, l1_test, l2_test, l3_test, l4_test, l5_test, l6_test]\n",
    "train_line_list = [l1, l2, l3, l4, l5, l6]\n",
    "\n",
    "\n",
    "def line_fillna(all, train):\n",
    "\n",
    "    # train drop : Y_Class\n",
    "    for l in train:\n",
    "        l.drop(['Y_Class'], axis=1, inplace=True)\n",
    "        \n",
    "    \n",
    "    # fillna : 0\n",
    "    for l in all:\n",
    "        l.fillna(0, inplace=True)\n",
    "\n",
    "    # MinMaxScaler\n",
    "    from sklearn.preprocessing import MinMaxScaler\n",
    "    \n",
    "    #for l in all:\n",
    "    #    mmx = MinMaxScaler()\n",
    "    #    mmx.fit()\n",
    "    #    l['LINE'] = mmx.transform(l['LINE'])\n",
    "        \n",
    "\n",
    "    #for l in all:\n",
    "    #    mmx = MinMaxScaler()\n",
    "    #    mmx.fit(['T_31', 'A_31', 'O_31'])\n",
    "    #    l['PRODUCT_CODE'] = mmx.transform(l['PRODUCT_CODE'])\n",
    "\n",
    "\n",
    "    # labelEncorder\n",
    "    from sklearn.preprocessing import LabelEncoder\n",
    "\n",
    "    for l in all:\n",
    "        le = LabelEncoder()\n",
    "        le.fit(['T100304', 'T100306', 'T050304', 'T010306', 'T010305', 'T050307'])\n",
    "        l['LINE'] = le.transform(l['LINE'])\n",
    "        \n",
    "\n",
    "    for l in all:\n",
    "        le = LabelEncoder()\n",
    "        le.fit(['T_31', 'A_31', 'O_31'])\n",
    "        l['PRODUCT_CODE'] = le.transform(l['PRODUCT_CODE'])        \n",
    "    \n",
    "    #return l1, l2, l3, l4, l5, l6, l1_test, l2_test, l3_test, l4_test, l5_test, l6_test\n",
    "\n",
    "\n",
    "line_fillna(all_line_list, train_line_list)\n",
    "print('done')"
   ]
  },
  {
   "attachments": {},
   "cell_type": "markdown",
   "metadata": {},
   "source": [
    "### 2)_Product Code(보류)"
   ]
  },
  {
   "cell_type": "markdown",
   "metadata": {},
   "source": [
    "#### (1)_drop : null col"
   ]
  },
  {
   "cell_type": "code",
   "execution_count": null,
   "metadata": {},
   "outputs": [],
   "source": [
    "# for idx, l in enumerate([pc1, pc2, pc3, pc1_test, pc2_test, pc3_test]):"
   ]
  },
  {
   "attachments": {},
   "cell_type": "markdown",
   "metadata": {},
   "source": [
    "## 5️⃣ Build model"
   ]
  },
  {
   "attachments": {},
   "cell_type": "markdown",
   "metadata": {},
   "source": [
    "### 1)_LINE"
   ]
  },
  {
   "cell_type": "code",
   "execution_count": 15,
   "metadata": {},
   "outputs": [],
   "source": [
    "train_x_line_list = [l1, l2, l3, l4, l5, l6]\n",
    "train_y_line_list = [l1_y, l2_y, l3_y, l4_y, l5_y, l6_y]\n",
    "test_line_list = [l1_test, l2_test, l3_test, l4_test, l5_test, l6_test]\n",
    "\n",
    "\n",
    "def line_model_fit_predeict(train_x_line_list):\n",
    "\n",
    "    from sklearn.ensemble import RandomForestClassifier\n",
    "\n",
    "    # 1) define model, 2) fit, 3) predict\n",
    "    for idx ,i in enumerate(train_x_line_list):\n",
    "        \n",
    "        # define model\n",
    "        rfc = RandomForestClassifier(random_state=42)\n",
    "        \n",
    "        # fit\n",
    "        rfc.fit(i, train_y_line_list[idx])\n",
    "\n",
    "        # predict\n",
    "        globals()['pred_l{}'.format(idx+1)] = rfc.predict(test_line_list[idx])\n",
    "        globals()['df_pred_l{}'.format(idx+1)] = pd.DataFrame(data = globals()['pred_l{}'.format(idx+1)],\n",
    "                                                            columns=['Y_Class'],\n",
    "                                                            index=test_line_list[idx].index)\n",
    "        \n",
    "\n",
    "    df_pred = [df_pred_l1, df_pred_l2, df_pred_l3, df_pred_l4, df_pred_l5, df_pred_l6]\n",
    "\n",
    "    submit_array = pd.concat(df_pred, axis=0).sort_index()\n",
    "\n",
    "    return submit_array\n",
    "\n",
    "\n",
    "#def submit_line():\n",
    "    \n",
    "submit_csv = pd.read_csv('./sample_submission.csv')\n",
    "submit_csv['Y_Class'] = line_model_fit_predeict(train_x_line_list)['Y_Class']\n",
    "submit_csv.to_csv('split_line_submission.csv', index=False)"
   ]
  }
 ],
 "metadata": {
  "kernelspec": {
   "display_name": "base",
   "language": "python",
   "name": "python3"
  },
  "language_info": {
   "codemirror_mode": {
    "name": "ipython",
    "version": 3
   },
   "file_extension": ".py",
   "mimetype": "text/x-python",
   "name": "python",
   "nbconvert_exporter": "python",
   "pygments_lexer": "ipython3",
   "version": "3.10.8"
  },
  "orig_nbformat": 4,
  "vscode": {
   "interpreter": {
    "hash": "9acc76a459d7db86261bc3c0fc1f5dcdadf57ce90dda3656ef3156477f1c2288"
   }
  }
 },
 "nbformat": 4,
 "nbformat_minor": 2
}
