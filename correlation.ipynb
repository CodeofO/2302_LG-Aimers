{
 "cells": [
  {
   "cell_type": "code",
   "execution_count": 35,
   "metadata": {},
   "outputs": [],
   "source": [
    "import pandas as pd\n",
    "import numpy as np\n",
    "\n",
    "\n",
    "train_df = pd.read_csv('./train.csv')\n",
    "test_df = pd.read_csv('./test.csv')\n",
    "\n",
    "col_year = []\n",
    "col_month = []\n",
    "col_day = []\n",
    "\n",
    "time_df = train_df['TIMESTAMP']\n",
    "\n",
    "for i in range(len(time_df)):\n",
    "    \n",
    "    time_df_i = time_df[i]\n",
    "    \n",
    "    year = time_df_i[:4]\n",
    "    col_year.append(year)\n",
    "\n",
    "    month = time_df_i[5:7]\n",
    "    col_month.append(month)\n",
    "\n",
    "    day = time_df_i[8:10]\n",
    "    col_day.append(day)\n",
    "\n",
    "train_df['year'] = col_year\n",
    "train_df['month'] = col_month\n",
    "train_df['day'] = col_day"
   ]
  },
  {
   "cell_type": "code",
   "execution_count": 38,
   "metadata": {},
   "outputs": [],
   "source": [
    "cor_time_y = train_df[['Y_Class','year','month','day']]"
   ]
  }
 ],
 "metadata": {
  "kernelspec": {
   "display_name": "base",
   "language": "python",
   "name": "python3"
  },
  "language_info": {
   "codemirror_mode": {
    "name": "ipython",
    "version": 3
   },
   "file_extension": ".py",
   "mimetype": "text/x-python",
   "name": "python",
   "nbconvert_exporter": "python",
   "pygments_lexer": "ipython3",
   "version": "3.10.8"
  },
  "orig_nbformat": 4,
  "vscode": {
   "interpreter": {
    "hash": "9acc76a459d7db86261bc3c0fc1f5dcdadf57ce90dda3656ef3156477f1c2288"
   }
  }
 },
 "nbformat": 4,
 "nbformat_minor": 2
}
