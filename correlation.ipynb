{
 "cells": [
  {
   "attachments": {},
   "cell_type": "markdown",
   "metadata": {},
   "source": [
    "## data load"
   ]
  },
  {
   "cell_type": "code",
   "execution_count": 14,
   "metadata": {},
   "outputs": [],
   "source": [
    "import pandas as pd\n",
    "import numpy as np\n",
    "\n",
    "\n",
    "train_df = pd.read_csv('./train.csv')\n",
    "test_df = pd.read_csv('./test.csv')\n",
    "\n",
    "train_time_df = train_df['TIMESTAMP']\n",
    "test_time_df = test_df['TIMESTAMP']\n",
    "\n",
    "def split_TIMESTEPS(train_df, test_df, train_time_df, test_time_df):\n",
    "\n",
    "    train_col_year = []\n",
    "    train_col_month = []\n",
    "    train_col_day = []\n",
    "\n",
    "    test_col_year = []\n",
    "    test_col_month = []\n",
    "    test_col_day = []\n",
    "\n",
    "\n",
    "    # split : year, month, day\n",
    "\n",
    "    for i in range(len(train_time_df)):\n",
    "        time_df_i = train_time_df[i]    \n",
    "        year = time_df_i[:4]\n",
    "        train_col_year.append(year)\n",
    "        train_col_year = list(map(int,train_col_year))\n",
    "        \n",
    "        month = time_df_i[5:7]\n",
    "        train_col_month.append(month)\n",
    "        train_col_month = list(map(int,train_col_month))\n",
    "\n",
    "        day = time_df_i[8:10]\n",
    "        train_col_day.append(day)\n",
    "        train_col_day = list(map(int,train_col_day))\n",
    "\n",
    "    for i in range(len(test_time_df)):\n",
    "        time_df_i = test_time_df[i]    \n",
    "        year = time_df_i[:4]\n",
    "        test_col_year.append(year)\n",
    "        test_col_year = list(map(int,test_col_year))\n",
    "\n",
    "        month = time_df_i[5:7]\n",
    "        test_col_month.append(month)\n",
    "        test_col_month = list(map(int,test_col_month))\n",
    "\n",
    "        day = time_df_i[8:10]\n",
    "        test_col_day.append(day)\n",
    "        test_col_day = list(map(int,test_col_day))\n",
    "\n",
    "        # \n",
    "    train_df['year'] = train_col_year\n",
    "    train_df['month'] = train_col_month\n",
    "    train_df['day'] = train_col_day\n",
    "\n",
    "    test_df['year'] = test_col_year\n",
    "    test_df['month'] = test_col_month\n",
    "    test_df['day'] = test_col_day\n",
    "\n",
    "split_TIMESTEPS(train_df, test_df, train_time_df, test_time_df)"
   ]
  },
  {
   "attachments": {},
   "cell_type": "markdown",
   "metadata": {},
   "source": [
    "## 2️⃣ Preproccesing"
   ]
  },
  {
   "cell_type": "code",
   "execution_count": 15,
   "metadata": {},
   "outputs": [],
   "source": [
    "train_df = train_df.fillna(0)\n",
    "test_df = test_df.fillna(0)"
   ]
  },
  {
   "attachments": {},
   "cell_type": "markdown",
   "metadata": {},
   "source": [
    "### 1)_LabelEncoder"
   ]
  },
  {
   "cell_type": "code",
   "execution_count": 16,
   "metadata": {},
   "outputs": [
    {
     "name": "stdout",
     "output_type": "stream",
     "text": [
      "Done.\n"
     ]
    }
   ],
   "source": [
    "from sklearn.preprocessing import LabelEncoder\n",
    "\n",
    "# qualitative to quantitative\n",
    "qual_col = ['LINE', 'PRODUCT_CODE']\n",
    "\n",
    "for i in qual_col:\n",
    "    le = LabelEncoder()\n",
    "    le = le.fit(train_df[i])\n",
    "    train_df[i] = le.transform(train_df[i])\n",
    "    \n",
    "    for label in np.unique(test_df[i]): \n",
    "        if label not in le.classes_: \n",
    "            le.classes_ = np.append(le.classes_, label)\n",
    "    test_df[i] = le.transform(test_df[i]) \n",
    "\n",
    "print('Done.')"
   ]
  },
  {
   "attachments": {},
   "cell_type": "markdown",
   "metadata": {},
   "source": [
    "### 2)_OneHotEncorder"
   ]
  },
  {
   "cell_type": "code",
   "execution_count": 17,
   "metadata": {},
   "outputs": [],
   "source": [
    "train_df_oh = pd.concat([train_df, pd.get_dummies(train_df['Y_Class'])], axis=1)\n",
    "\n",
    "train_df_oh_group = train_df_oh[['Y_Class','LINE','PRODUCT_CODE',0,1,2,'year','month','day']]"
   ]
  },
  {
   "attachments": {},
   "cell_type": "markdown",
   "metadata": {},
   "source": [
    "### 3)_Drop"
   ]
  },
  {
   "cell_type": "code",
   "execution_count": 25,
   "metadata": {},
   "outputs": [],
   "source": [
    "#train_x = train_df.drop(columns=['PRODUCT_ID', 'Y_Class', 'TIMESTAMP'])\n",
    "train_x = train_df_oh.drop(columns=['Y_Class', 'PRODUCT_ID', 'TIMESTAMP', 'Y_Quality', 0, 1, 2])\n",
    "train_y = train_df_oh['Y_Class']\n",
    "\n",
    "test_x = test_df.drop(columns=['PRODUCT_ID', 'TIMESTAMP'])"
   ]
  },
  {
   "attachments": {},
   "cell_type": "markdown",
   "metadata": {},
   "source": [
    "## 2️⃣ EDA"
   ]
  },
  {
   "cell_type": "code",
   "execution_count": 72,
   "metadata": {},
   "outputs": [
    {
     "data": {
      "text/plain": [
       "Index(['Y_Quality', 'LINE', 'PRODUCT_CODE', 'X_1', 'X_2', 'X_3', 'X_4', 'X_5',\n",
       "       'X_6', 'X_7',\n",
       "       ...\n",
       "       'X_2869', 'X_2870', 'X_2871', 'X_2872', 'X_2873', 'X_2874', 'X_2875',\n",
       "       'year', 'month', 'day'],\n",
       "      dtype='object', length=2881)"
      ]
     },
     "execution_count": 72,
     "metadata": {},
     "output_type": "execute_result"
    }
   ],
   "source": [
    "train_x.columns"
   ]
  },
  {
   "attachments": {},
   "cell_type": "markdown",
   "metadata": {},
   "source": [
    "### 1)_value_counts\n",
    "\n",
    "#### _(1)  year, month, day"
   ]
  },
  {
   "cell_type": "code",
   "execution_count": 52,
   "metadata": {},
   "outputs": [
    {
     "name": "stdout",
     "output_type": "stream",
     "text": [
      "### year ### \n",
      "\n",
      "2022    598\n",
      "Name: year, dtype: int64 \n",
      "\n",
      "\n",
      "\n",
      "### month ### \n",
      "\n",
      "7    244\n",
      "8    237\n",
      "6     79\n",
      "9     38\n",
      "Name: month, dtype: int64 \n",
      "\n",
      "\n",
      "\n",
      "### day ### \n",
      "\n",
      "3     33\n",
      "22    32\n",
      "13    32\n",
      "5     28\n",
      "14    28\n",
      "21    28\n",
      "31    27\n",
      "25    26\n",
      "23    23\n",
      "7     23\n",
      "11    22\n",
      "24    21\n",
      "19    20\n",
      "16    18\n",
      "12    18\n",
      "26    18\n",
      "1     18\n",
      "29    18\n",
      "8     18\n",
      "4     17\n",
      "17    16\n",
      "20    15\n",
      "6     15\n",
      "15    14\n",
      "9     12\n",
      "10    12\n",
      "30    12\n",
      "2     11\n",
      "18    11\n",
      "28    10\n",
      "27     2\n",
      "Name: day, dtype: int64 \n",
      "\n",
      "\n",
      "\n"
     ]
    }
   ],
   "source": [
    "for i in ['year', 'month','day']:\n",
    "    print('### {} ###'.format(i), '\\n')\n",
    "    print(train_df[i].value_counts(), '\\n\\n\\n')"
   ]
  },
  {
   "attachments": {},
   "cell_type": "markdown",
   "metadata": {},
   "source": [
    "#### _(2)  Y Class"
   ]
  },
  {
   "cell_type": "code",
   "execution_count": 55,
   "metadata": {},
   "outputs": [
    {
     "name": "stdout",
     "output_type": "stream",
     "text": [
      "### Y_Class ### \n",
      "\n",
      "1    407\n",
      "2    103\n",
      "0     88\n",
      "Name: Y_Class, dtype: int64 \n",
      "\n",
      "\n",
      "\n"
     ]
    }
   ],
   "source": [
    "print('### Y_Class ###'.format(i), '\\n')\n",
    "print(train_df['Y_Class'].value_counts(), '\\n\\n\\n')"
   ]
  },
  {
   "attachments": {},
   "cell_type": "markdown",
   "metadata": {},
   "source": [
    "#### _(3)  PRODUCT CODE"
   ]
  },
  {
   "cell_type": "code",
   "execution_count": 71,
   "metadata": {},
   "outputs": [
    {
     "name": "stdout",
     "output_type": "stream",
     "text": [
      "### PRODUCT_CODE ### \n",
      "\n"
     ]
    },
    {
     "data": {
      "text/plain": [
       "2    343\n",
       "0    249\n",
       "1      6\n",
       "Name: PRODUCT_CODE, dtype: int64"
      ]
     },
     "execution_count": 71,
     "metadata": {},
     "output_type": "execute_result"
    }
   ],
   "source": [
    "print('### PRODUCT_CODE ###'.format(i), '\\n')\n",
    "train_x['PRODUCT_CODE'].value_counts()"
   ]
  },
  {
   "attachments": {},
   "cell_type": "markdown",
   "metadata": {},
   "source": [
    "#### _(4)  Y Quality"
   ]
  },
  {
   "cell_type": "code",
   "execution_count": 73,
   "metadata": {},
   "outputs": [
    {
     "name": "stdout",
     "output_type": "stream",
     "text": [
      "### Y_Quality ### \n",
      "\n"
     ]
    },
    {
     "data": {
      "text/plain": [
       "0.534737    3\n",
       "0.530413    2\n",
       "0.526997    2\n",
       "0.529952    2\n",
       "0.532405    2\n",
       "           ..\n",
       "0.547592    1\n",
       "0.536275    1\n",
       "0.527200    1\n",
       "0.528319    1\n",
       "0.533702    1\n",
       "Name: Y_Quality, Length: 583, dtype: int64"
      ]
     },
     "execution_count": 73,
     "metadata": {},
     "output_type": "execute_result"
    }
   ],
   "source": [
    "print('### Y_Quality ###'.format(i), '\\n')\n",
    "train_x['Y_Quality'].value_counts()"
   ]
  },
  {
   "attachments": {},
   "cell_type": "markdown",
   "metadata": {},
   "source": [
    "### 2)_Groupby"
   ]
  },
  {
   "attachments": {},
   "cell_type": "markdown",
   "metadata": {},
   "source": [
    "#### _(1)  Y Class / Y Quality"
   ]
  },
  {
   "cell_type": "code",
   "execution_count": 77,
   "metadata": {},
   "outputs": [
    {
     "name": "stdout",
     "output_type": "stream",
     "text": [
      "Y_Class\n",
      "0    0.520837\n",
      "1    0.530253\n",
      "2    0.542031\n",
      "Name: Y_Quality, dtype: float64\n"
     ]
    }
   ],
   "source": [
    "class_quality = train_df.groupby('Y_Class').Y_Quality.mean()\n",
    "print(class_quality)"
   ]
  },
  {
   "attachments": {},
   "cell_type": "markdown",
   "metadata": {},
   "source": [
    "#### _(2)  Y Class / year, month, day"
   ]
  },
  {
   "cell_type": "code",
   "execution_count": 41,
   "metadata": {},
   "outputs": [
    {
     "name": "stdout",
     "output_type": "stream",
     "text": [
      "### month ###\n",
      "        0    1   2\n",
      "month             \n",
      "6       8   46  25\n",
      "7      27  168  49\n",
      "8      40  174  23\n",
      "9      13   19   6 \n",
      "\n",
      "\n",
      "\n",
      "### day ###\n",
      "      0   1   2\n",
      "day            \n",
      "1     6   7   5\n",
      "2     2   7   2\n",
      "3     4  21   8\n",
      "4     3  11   3\n",
      "5    14  13   1\n",
      "6     4  10   1\n",
      "7     4  19   0\n",
      "8     3  15   0\n",
      "9     2  10   0\n",
      "10    3   8   1\n",
      "11    1  19   2\n",
      "12    0  14   4\n",
      "13    0  22  10\n",
      "14    4  21   3\n",
      "15    1  13   0\n",
      "16    3  11   4\n",
      "17    2  13   1\n",
      "18    0   9   2\n",
      "19    2  13   5\n",
      "20    1   8   6\n",
      "21    2  23   3\n",
      "22    1  23   8\n",
      "23    1  21   1\n",
      "24    2   9  10\n",
      "25    9  15   2\n",
      "26    6  10   2\n",
      "27    0   2   0\n",
      "28    1   6   3\n",
      "29    1  11   6\n",
      "30    1   7   4\n",
      "31    5  16   6\n"
     ]
    },
    {
     "name": "stderr",
     "output_type": "stream",
     "text": [
      "/var/folders/w4/fbwcp4j13tldxpsj0dtj__7r0000gn/T/ipykernel_26773/2750959305.py:3: FutureWarning: Indexing with multiple keys (implicitly converted to a tuple of keys) will be deprecated, use a list instead.\n",
      "  y_class_month_sum = train_month[0,1,2].sum()\n",
      "/var/folders/w4/fbwcp4j13tldxpsj0dtj__7r0000gn/T/ipykernel_26773/2750959305.py:8: FutureWarning: Indexing with multiple keys (implicitly converted to a tuple of keys) will be deprecated, use a list instead.\n",
      "  y_class_day_sum = train_day[0,1,2].sum()\n"
     ]
    }
   ],
   "source": [
    "print('### month ###')\n",
    "train_month = train_df_oh_group.groupby(['month'])\n",
    "y_class_month_sum = train_month[0,1,2].sum()\n",
    "print(y_class_month_sum, '\\n\\n\\n')\n",
    "\n",
    "print('### day ###')\n",
    "train_day = train_df_oh_group.groupby(['day'])\n",
    "y_class_day_sum = train_day[0,1,2].sum()\n",
    "print(y_class_day_sum)"
   ]
  },
  {
   "cell_type": "code",
   "execution_count": 103,
   "metadata": {},
   "outputs": [],
   "source": [
    "y_day = pd.DataFrame(y_class_day_sum.values, columns=[0, 1, 2])\n",
    "\n",
    "sum_012 = []\n",
    "p_0 = []\n",
    "p_1 = []\n",
    "p_2 = []\n",
    "\n",
    "for i in range(len(y_day.index)):\n",
    "    sum_012.append(y_day.loc[i, :].sum())\n",
    "    p_0.append(y_day.loc[i, 0] / sum_012[i])\n",
    "    p_1.append(y_day.loc[i, 1] / sum_012[i])\n",
    "    p_2.append(y_day.loc[i, 2] / sum_012[i])\n",
    "\n",
    "y_day['p0'] = p_0\n",
    "y_day['p1'] = p_1\n",
    "y_day['p2'] = p_2\n"
   ]
  },
  {
   "cell_type": "code",
   "execution_count": 116,
   "metadata": {},
   "outputs": [
    {
     "name": "stdout",
     "output_type": "stream",
     "text": [
      "### day_p1 ###\n",
      "6     0.826087\n",
      "7     0.833333\n",
      "8     0.833333\n",
      "10    0.863636\n",
      "14    0.928571\n",
      "16    0.812500\n",
      "17    0.818182\n",
      "20    0.821429\n",
      "22    0.913043\n",
      "26    1.000000\n",
      "Name: p1, dtype: float64 \n",
      "\n",
      "\n"
     ]
    }
   ],
   "source": [
    "print('### day_p1 ###')\n",
    "print(y_day['p1'][y_day['p1'] > 0.8], '\\n\\n')"
   ]
  },
  {
   "attachments": {},
   "cell_type": "markdown",
   "metadata": {},
   "source": [
    "### 3)_Grouped bar"
   ]
  },
  {
   "cell_type": "code",
   "execution_count": 90,
   "metadata": {},
   "outputs": [
    {
     "data": {
      "image/png": "[encoded data removed]",
      "text/plain": [
       "<Figure size 640x480 with 1 Axes>"
      ]
     },
     "metadata": {},
     "output_type": "display_data"
    }
   ],
   "source": [
    "import matplotlib.pyplot as plt\n",
    "import numpy as np\n",
    "\n",
    "\n",
    "labels = ['G1', 'G2', 'G3', 'G4', 'G5']\n",
    "men_means = [20, 34, 30, 35, 27]\n",
    "women_means = [25, 32, 34, 20, 25]\n",
    "\n",
    "x = np.arange(len(labels))  # the label locations\n",
    "width = 0.35  # the width of the bars\n",
    "\n",
    "fig, ax = plt.subplots()\n",
    "rects1 = ax.bar(x - width/2, men_means, width, label='Men')\n",
    "rects2 = ax.bar(x + width/2, women_means, width, label='Women')\n",
    "\n",
    "# Add some text for labels, title and custom x-axis tick labels, etc.\n",
    "ax.set_ylabel('Scores')\n",
    "ax.set_title('Scores by group and gender')\n",
    "ax.set_xticks(x, labels)\n",
    "ax.legend()\n",
    "\n",
    "ax.bar_label(rects1)\n",
    "ax.bar_label(rects2)\n",
    "\n",
    "fig.tight_layout()\n",
    "\n",
    "plt.show()"
   ]
  },
  {
   "cell_type": "code",
   "execution_count": null,
   "metadata": {},
   "outputs": [],
   "source": [
    "\n",
    "\n",
    "\n",
    "labels = ['G1', 'G2', 'G3', 'G4', 'G5']\n",
    "men_means = [20, 34, 30, 35, 27]\n",
    "women_means = [25, 32, 34, 20, 25]\n",
    "\n",
    "x = np.arange(len(labels))  # the label locations\n",
    "width = 0.35  # the width of the bars\n",
    "\n",
    "fig, ax = plt.subplots()\n",
    "rects1 = ax.bar(x - width/2, men_means, width, label='Men')\n",
    "rects2 = ax.bar(x + width/2, women_means, width, label='Women')\n",
    "\n",
    "# Add some text for labels, title and custom x-axis tick labels, etc.\n",
    "ax.set_ylabel('Scores')\n",
    "ax.set_title('Scores by group and gender')\n",
    "ax.set_xticks(x, labels)\n",
    "ax.legend()\n",
    "\n",
    "ax.bar_label(rects1)\n",
    "ax.bar_label(rects2)\n",
    "\n",
    "fig.tight_layout()\n",
    "\n",
    "plt.show()"
   ]
  }
 ],
 "metadata": {
  "kernelspec": {
   "display_name": "base",
   "language": "python",
   "name": "python3"
  },
  "language_info": {
   "codemirror_mode": {
    "name": "ipython",
    "version": 3
   },
   "file_extension": ".py",
   "mimetype": "text/x-python",
   "name": "python",
   "nbconvert_exporter": "python",
   "pygments_lexer": "ipython3",
   "version": "3.10.8"
  },
  "orig_nbformat": 4,
  "vscode": {
   "interpreter": {
    "hash": "9acc76a459d7db86261bc3c0fc1f5dcdadf57ce90dda3656ef3156477f1c2288"
   }
  }
 },
 "nbformat": 4,
 "nbformat_minor": 2
}
